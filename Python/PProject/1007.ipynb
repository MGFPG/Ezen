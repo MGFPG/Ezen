{
 "cells": [
  {
   "cell_type": "code",
   "execution_count": null,
   "id": "ba8172d8-1922-4bc2-a578-56bc704ae5aa",
   "metadata": {},
   "outputs": [],
   "source": [
    "#컴파일러 언어와 스크립트 언어로 나뉜다.\n",
    "#컴파일러 언어는 소스코드를 기계어로 바꿔준다.(번역해준다.) .*.exe, *.class\n",
    "#C *.c    *.java    \n",
    "\n",
    "#스크립트언어: 소스코드를 한 줄씩 읽어서 실행하는 언어입니다.  *.py   *.ipynb(py)"
   ]
  },
  {
   "cell_type": "code",
   "execution_count": 56,
   "id": "df504037-4b70-4e1c-a335-ca1642b35c10",
   "metadata": {},
   "outputs": [
    {
     "name": "stdout",
     "output_type": "stream",
     "text": [
      "hello\n",
      "1\n"
     ]
    }
   ],
   "source": [
    "print(\"hello\")\n",
    "a\n",
    "print(1)"
   ]
  },
  {
   "cell_type": "code",
   "execution_count": 5,
   "id": "70d2aa1d-3cf7-4219-be7d-48a85aa05646",
   "metadata": {},
   "outputs": [
    {
     "name": "stdout",
     "output_type": "stream",
     "text": [
      "3\n"
     ]
    }
   ],
   "source": [
    "#변수 : variable \n",
    "a = 100 # = 대입 연산자 a는 100\n",
    "b = 200 # b = 200\n",
    "\n",
    "s = 1 + 2                         # 1 - 2    , 1 * 2 , 1 / 2  \n",
    "\n",
    "print(s)"
   ]
  },
  {
   "cell_type": "code",
   "execution_count": 12,
   "id": "6f079545-1211-4ece-ae1d-e561e345b3a9",
   "metadata": {},
   "outputs": [
    {
     "name": "stdout",
     "output_type": "stream",
     "text": [
      "abcdef\n"
     ]
    }
   ],
   "source": [
    "#f  #변수라고 할 수 있습니다. 그러나 이 변수에 어떤 값이 대입되지 않아서 아무 의미가 없습니다.\n",
    "\n",
    "#'abc' #알파벳 f라는 의미를 갖고있습니다.\n",
    "\n",
    "s = \"abcdef\" #싱글쿼테이션.... s는 문자열을 답는 그릇이 됩니다.\n",
    "print(s)\n"
   ]
  },
  {
   "cell_type": "code",
   "execution_count": 15,
   "id": "8f41b33e-512c-4f36-8218-008a04c7a7d8",
   "metadata": {},
   "outputs": [
    {
     "name": "stdout",
     "output_type": "stream",
     "text": [
      "31\n"
     ]
    }
   ],
   "source": [
    "#1. 영문과 숫자만 허락합니다. # !@#$$ 특수문자를 변수명에 포함하면 안됩니다.\n",
    "#2. 특수문자중 단 하나 허락: _ 언더바... abc_def_ghij_1234 # 간단히 의미를 내포하면 좋습니다.\n",
    "#3. 변수는 대소문자를 구분합니다.\n",
    "\n",
    "Age = 30\n",
    "age = 31\n",
    "\n",
    "print(Age)\n",
    "#예약어를 사용할 수 없습니다. \n",
    "\n",
    "True,False,None,if,elif,continue,def,finally,else,for,pass,with,\n",
    "try,except,break,class,return,import,as"
   ]
  },
  {
   "cell_type": "code",
   "execution_count": 1,
   "id": "ede213ad-e7cc-433a-8712-dd383dbb19ca",
   "metadata": {},
   "outputs": [
    {
     "name": "stdin",
     "output_type": "stream",
     "text": [
      "값을 입력하세요. 5\n"
     ]
    },
    {
     "name": "stdout",
     "output_type": "stream",
     "text": [
      "입력값에 2를 더하면  7  입니다.\n"
     ]
    }
   ],
   "source": [
    "i = input(\"값을 입력하세요.\") # 1,2,3가 아니고 문자 '1','2','3','4' 하나 둘 셋 \n",
    "# i = 일 + 삼\n",
    "s = int(i) + 2\n",
    "\n",
    "print(\"입력값에 2를 더하면 \",s,\" 입니다.\")"
   ]
  },
  {
   "cell_type": "code",
   "execution_count": null,
   "id": "9fa401a2-75ee-4dd4-a35e-e3ba2d54330d",
   "metadata": {},
   "outputs": [],
   "source": [
    "#SyntaxError: 문법적인 오류...."
   ]
  },
  {
   "cell_type": "code",
   "execution_count": 30,
   "id": "5d110879-4416-4bb6-801d-6366a5cef2e2",
   "metadata": {},
   "outputs": [
    {
     "name": "stdout",
     "output_type": "stream",
     "text": [
      "27\n"
     ]
    }
   ],
   "source": [
    "c = 3**3\n",
    "print(c)"
   ]
  },
  {
   "cell_type": "code",
   "execution_count": null,
   "id": "bdc8e578-51eb-44a2-87e7-00e7f5315d2e",
   "metadata": {},
   "outputs": [],
   "source": [
    "#복합 대입연산자\n",
    "a = a + 2\n",
    "a += 2 # 같은 결과"
   ]
  },
  {
   "cell_type": "code",
   "execution_count": 21,
   "id": "16fcbae0-67e6-46f1-9cdd-21bc03d6a42b",
   "metadata": {},
   "outputs": [],
   "source": [
    "#+ - * /\n",
    "// # 몫\n",
    "% # 나머지\n",
    "** #제곱"
   ]
  },
  {
   "cell_type": "code",
   "execution_count": 33,
   "id": "1941fc74-69d8-4673-8210-22ffb0720931",
   "metadata": {},
   "outputs": [
    {
     "data": {
      "text/plain": [
       "True"
      ]
     },
     "execution_count": 33,
     "metadata": {},
     "output_type": "execute_result"
    }
   ],
   "source": [
    "#비교연산자\n",
    "True, False # true fale\n",
    "10 == 10 # 같다\n",
    "10 != 10 #  같지 않다."
   ]
  },
  {
   "cell_type": "code",
   "execution_count": 36,
   "id": "2f250148-ec2e-4c0a-bec5-ac87c9b3b9d9",
   "metadata": {},
   "outputs": [
    {
     "data": {
      "text/plain": [
       "False"
      ]
     },
     "execution_count": 36,
     "metadata": {},
     "output_type": "execute_result"
    }
   ],
   "source": [
    "10 != 10"
   ]
  },
  {
   "cell_type": "code",
   "execution_count": null,
   "id": "a0026a51-b015-492b-8c64-39770f64f0b6",
   "metadata": {},
   "outputs": [],
   "source": [
    "#논리 연산자\n",
    "and # 양쪽 둘다 True 면 True\n",
    "or # 둘중 하나만 True 면 True\n",
    "not #부정 "
   ]
  },
  {
   "cell_type": "code",
   "execution_count": 40,
   "id": "d4f5a4aa-17aa-491b-822c-fc8d920804ce",
   "metadata": {},
   "outputs": [
    {
     "data": {
      "text/plain": [
       "True"
      ]
     },
     "execution_count": 40,
     "metadata": {},
     "output_type": "execute_result"
    }
   ],
   "source": [
    "not 10==1 "
   ]
  },
  {
   "cell_type": "code",
   "execution_count": 1,
   "id": "c5c1ff59-3686-4cf4-988f-939c2fe3e4a2",
   "metadata": {},
   "outputs": [
    {
     "name": "stdin",
     "output_type": "stream",
     "text": [
      "국어점수를 입력하세요: 66\n",
      "영어점수를 입력하세요: 88\n",
      "수학점수를 입력하세요: 95\n"
     ]
    },
    {
     "name": "stdout",
     "output_type": "stream",
     "text": [
      "249\n",
      "당신의 249 83.0\n"
     ]
    }
   ],
   "source": [
    "## 1. () [] {}\n",
    "#2. **\n",
    "#3. +,-,  -1,+2\n",
    "#4 * / % //\n",
    "#5 + -\n",
    "#6. < > ==  !=\n",
    "#7. =   %= += -= \n",
    "#이름, 국어, 영어,수학 점수를 입력받고 그 합과 평균을 구하세요.\n",
    "\n",
    "\n",
    "kok = int(input(\"국어점수를 입력하세요:\"))\n",
    "eng = int(input(\"영어점수를 입력하세요:\"))\n",
    "mat = int(input(\"수학점수를 입력하세요:\"))\n",
    "\n",
    "hap = kok + eng + mat\n",
    "\n",
    "print(hap)\n",
    "\n",
    "avg = hap/3\n",
    "\n",
    "\n",
    "print(\"당신의\",hap,avg)"
   ]
  },
  {
   "cell_type": "code",
   "execution_count": 45,
   "id": "1efdc592-d9bd-48ab-835a-17891777515b",
   "metadata": {},
   "outputs": [
    {
     "name": "stdout",
     "output_type": "stream",
     "text": [
      "문자열.... \n",
      " 새라인 \t 텝  3+2 뒤로 한칸 뛰우기 '  \"   \\  \n"
     ]
    }
   ],
   "source": [
    "#1바이트는 8비트로 이루어집니다. 1비트의 저장공간에 0 아니며 1이 저장됩니다.\n",
    "#    00000100(2진수=>4 10진수) 8진수: 0 1 2 3 4 5 6 7\n",
    "#숫자형은 정수(integer),실수(float)  <= 저장하는 공간의 싸이즈가 다르다. \n",
    "\n",
    "#문자, '1' ,'a', \"abc\", \"a\"\n",
    "#불리언 : True,False\n",
    "s = \"문자열.... \\n 새라인 \\t 텝 \\b  3+2 뒤로 한칸 뛰우기 \\'  \\\"   \\\\  \"\n",
    "print(s)"
   ]
  },
  {
   "cell_type": "code",
   "execution_count": 50,
   "id": "1c1a37fc-12a0-4f2b-bdc7-469654ba07b2",
   "metadata": {},
   "outputs": [
    {
     "name": "stdout",
     "output_type": "stream",
     "text": [
      "마지막\n"
     ]
    }
   ],
   "source": [
    "var = \"난생\" + \"처음\"\n",
    "\n",
    "var = \"난생 \" *3\n",
    "\n",
    "var = \"마지막\"\n",
    "print(var)"
   ]
  },
  {
   "cell_type": "code",
   "execution_count": 54,
   "id": "60cf02c7-027e-4b90-b9f1-df965a107989",
   "metadata": {},
   "outputs": [
    {
     "name": "stdout",
     "output_type": "stream",
     "text": [
      "Abc\n"
     ]
    }
   ],
   "source": [
    "s = \"Abc\"\n",
    "s = s.lower()\n",
    "print(s)"
   ]
  },
  {
   "cell_type": "code",
   "execution_count": 1,
   "id": "55c22c90-55cb-4870-bc8c-3133d70a1938",
   "metadata": {},
   "outputs": [
    {
     "name": "stdout",
     "output_type": "stream",
     "text": [
      "<class 'str'>\n",
      "ABC\n"
     ]
    }
   ],
   "source": [
    "k = \"aBc\"\n",
    "print(type(k))\n",
    "l = k.upper()\n",
    "print(l)"
   ]
  },
  {
   "cell_type": "code",
   "execution_count": 8,
   "id": "970d8377-8801-4efe-920a-d51d2ee26b34",
   "metadata": {},
   "outputs": [
    {
     "name": "stdout",
     "output_type": "stream",
     "text": [
      "abc\n"
     ]
    }
   ],
   "source": [
    "k = \"aBc\"\n",
    "s = k.lower()\n",
    "print(s)"
   ]
  },
  {
   "cell_type": "code",
   "execution_count": 9,
   "id": "f586930b-5cd5-454e-8361-046a753fcf2d",
   "metadata": {},
   "outputs": [
    {
     "name": "stdout",
     "output_type": "stream",
     "text": [
      "2\n"
     ]
    }
   ],
   "source": [
    "k = \"aBcdefgabc\"\n",
    "c = k.count(\"a\")\n",
    "print(c)"
   ]
  },
  {
   "cell_type": "code",
   "execution_count": 11,
   "id": "3931c539-c703-4789-98f6-a49db0ddc474",
   "metadata": {},
   "outputs": [
    {
     "name": "stdout",
     "output_type": "stream",
     "text": [
      "8\n"
     ]
    }
   ],
   "source": [
    "k = \"aBcdefgabc\"\n",
    "c = k.find(\"b\")\n",
    "print(c)"
   ]
  },
  {
   "cell_type": "code",
   "execution_count": 12,
   "id": "9bd0ff4b-633d-4083-a961-dbce5be798c5",
   "metadata": {},
   "outputs": [
    {
     "name": "stdout",
     "output_type": "stream",
     "text": [
      "10\n"
     ]
    }
   ],
   "source": [
    "k = \"123\"\n",
    "c = len(k)\n",
    "print(c)"
   ]
  },
  {
   "cell_type": "code",
   "execution_count": 19,
   "id": "63e4f160-88cf-46c4-962a-dcb79e700ae2",
   "metadata": {},
   "outputs": [
    {
     "name": "stdout",
     "output_type": "stream",
     "text": [
      "c\n"
     ]
    }
   ],
   "source": [
    "k = \"aBcdefgabc\" #문자열....\n",
    "c = k[9] #IndexError: string index out of range\n",
    "#문자열의 인덱스(순서)를 벗어났다...\n",
    "print(c)"
   ]
  }
 ],
 "metadata": {
  "kernelspec": {
   "display_name": "Python 3",
   "language": "python",
   "name": "python3"
  },
  "language_info": {
   "codemirror_mode": {
    "name": "ipython",
    "version": 3
   },
   "file_extension": ".py",
   "mimetype": "text/x-python",
   "name": "python",
   "nbconvert_exporter": "python",
   "pygments_lexer": "ipython3",
   "version": "3.8.8"
  }
 },
 "nbformat": 4,
 "nbformat_minor": 5
}
