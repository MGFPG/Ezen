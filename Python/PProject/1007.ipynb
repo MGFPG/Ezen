{
 "cells": [
  {
   "cell_type": "code",
   "execution_count": null,
   "id": "022527ed-0be2-4b44-9d42-99fab127c9af",
   "metadata": {},
   "outputs": [],
   "source": [
    "#컴파일러 언어와 스크립트 언어로 나뉜다\n",
    "#컴파일러는 소스코드롤 기계어로 바꿔준다(번역한다) *.exe   *.class\n",
    "#C *.c    *.java \n",
    "#스크립트언어: 소스코드를 한줄씩 읽어서 실행하는 언어입니다   *.py    *.ipynb"
   ]
  },
  {
   "cell_type": "code",
   "execution_count": 2,
   "id": "8d393260-5712-45ae-a8ec-7930bd59f941",
   "metadata": {},
   "outputs": [
    {
     "name": "stdout",
     "output_type": "stream",
     "text": [
      "hello\n",
      "1\n"
     ]
    }
   ],
   "source": [
    "print(\"hello\")\n",
    "print(1) # 숫자는 존재의미가 있어 바로 프린트 됨"
   ]
  },
  {
   "cell_type": "code",
   "execution_count": 4,
   "id": "5876897e-78d0-4cd6-b4f0-049e8faf2038",
   "metadata": {},
   "outputs": [
    {
     "name": "stdout",
     "output_type": "stream",
     "text": [
      "3\n"
     ]
    }
   ],
   "source": [
    "#변수 : variable\n",
    "a = 100 # = 대입연산자 a = 100\n",
    "b = 200 # =     //     b = 200\n",
    "\n",
    "s = 1 + 2                       # 1 - 2,   1 / 2,   1 * 2 \n",
    "\n",
    "print(s) #존재의미가 있어 동일하게 프린트됨"
   ]
  },
  {
   "cell_type": "code",
   "execution_count": 9,
   "id": "e1e50dc6-690a-49e9-8ccc-bb888ebe152d",
   "metadata": {},
   "outputs": [
    {
     "name": "stdout",
     "output_type": "stream",
     "text": [
      "abcdef\n"
     ]
    }
   ],
   "source": [
    "#f #변수라고 할 수 있다. 그러나 변수에 그 어떠한 값도 대입되어있지 않아 가치가 없다.\n",
    "\n",
    "#'f' #하지만 ''(싱글퀘테이션)를 사용하면 알파벳 f라는 의미를 가지고 있습니다\n",
    "\n",
    "s = 'abcdef'\n",
    "print(s)\n"
   ]
  },
  {
   "cell_type": "code",
   "execution_count": 5,
   "id": "78fabb53-0fc4-42da-89b4-5deb2778b16b",
   "metadata": {},
   "outputs": [
    {
     "name": "stdout",
     "output_type": "stream",
     "text": [
      "25\n",
      "23\n"
     ]
    }
   ],
   "source": [
    "#1. 영문과 숫자만 허락합니다. #특수문자 비허용\n",
    "#2. 허용되는 특수문자는 단 하나 _\n",
    "#3. 변수는 대소문자를 구분한다.\n",
    "\n",
    "Age = 23\n",
    "age = 25\n",
    "\n",
    "print(age)\n",
    "print(Age)\n",
    "\n",
    "#예약어를 사용할 수 없습니다. \n",
    "True, False, None, if, elif, continue, def, Finally, else, for, pass, with, import, try, except,break, class, return, as\n"
   ]
  },
  {
   "cell_type": "code",
   "execution_count": 6,
   "id": "76741f92-2b19-4583-b646-40a6d493c152",
   "metadata": {},
   "outputs": [
    {
     "name": "stdin",
     "output_type": "stream",
     "text": [
      "값을 입력하세요 02211204\n"
     ]
    },
    {
     "data": {
      "text/plain": [
       "'02211204'"
      ]
     },
     "execution_count": 6,
     "metadata": {},
     "output_type": "execute_result"
    }
   ],
   "source": [
    "input(\"값을 입력하세요.\")"
   ]
  },
  {
   "cell_type": "code",
   "execution_count": 11,
   "id": "e5b434af-6e4a-4383-997b-57403bd53f6b",
   "metadata": {},
   "outputs": [
    {
     "name": "stdin",
     "output_type": "stream",
     "text": [
      "값을 입력하세요. 임예림\n"
     ]
    },
    {
     "name": "stdout",
     "output_type": "stream",
     "text": [
      "입력한 값은  임예림  입니다.\n"
     ]
    }
   ],
   "source": [
    "i = input(\"값을 입력하세요.\") #숫자 1, 2, 3이 아니라 문자 '1', '2', '3' 이다.\n",
    "print(\"입력한 값은 \",i,\" 입니다.\")"
   ]
  },
  {
   "cell_type": "code",
   "execution_count": 13,
   "id": "703d1018-530c-4196-bb28-d27b4753013c",
   "metadata": {},
   "outputs": [
    {
     "name": "stdin",
     "output_type": "stream",
     "text": [
      "값을 입력하세요. 5\n"
     ]
    },
    {
     "name": "stdout",
     "output_type": "stream",
     "text": [
      "입력한 값에 2를 더하면  7  입니다.\n"
     ]
    }
   ],
   "source": [
    "i = input(\"값을 입력하세요.\")\n",
    "\n",
    "s= int(i) + 2\n",
    "\n",
    "print(\"입력한 값에 2를 더하면 \",s,\" 입니다.\")"
   ]
  },
  {
   "cell_type": "code",
   "execution_count": 14,
   "id": "c968d8d7-acc5-41bb-8823-4cde6fbb22f3",
   "metadata": {},
   "outputs": [],
   "source": [
    "#SyntaxError : 문법적오류"
   ]
  },
  {
   "cell_type": "code",
   "execution_count": 18,
   "id": "a98d02ac-57ef-459b-8eb1-0af0d14f4b18",
   "metadata": {},
   "outputs": [
    {
     "name": "stdout",
     "output_type": "stream",
     "text": [
      "9\n"
     ]
    }
   ],
   "source": [
    "c = 3**2\n",
    "print(c)"
   ]
  },
  {
   "cell_type": "code",
   "execution_count": null,
   "id": "9112895d-e734-42aa-9644-6fc9a95252a1",
   "metadata": {},
   "outputs": [],
   "source": [
    "#복합대입연산자\n",
    "a = a + 2\n",
    "a += 2 #같은결과\n",
    "a //= 2\n",
    "a %= 2\n",
    "a **= 2"
   ]
  },
  {
   "cell_type": "code",
   "execution_count": null,
   "id": "f7f597c9-8349-4d31-8bff-40e9ea62c9e2",
   "metadata": {},
   "outputs": [],
   "source": [
    "# + - * /\n",
    "# //는 몫\n",
    "# % 나머지\n",
    "# ** 제곱"
   ]
  },
  {
   "cell_type": "code",
   "execution_count": 20,
   "id": "76c1aa98-21dd-4354-868c-358a4a538a94",
   "metadata": {},
   "outputs": [
    {
     "data": {
      "text/plain": [
       "True"
      ]
     },
     "execution_count": 20,
     "metadata": {},
     "output_type": "execute_result"
    }
   ],
   "source": [
    "#비교연산자 ==\n",
    "True, False #무조건 앞 글자는 대문자\n",
    "\n",
    "10 == 10 # =는 대입연산자임 주의하기"
   ]
  },
  {
   "cell_type": "code",
   "execution_count": 22,
   "id": "c8b049c3-6bb8-4985-a629-e043229a926a",
   "metadata": {},
   "outputs": [
    {
     "data": {
      "text/plain": [
       "False"
      ]
     },
     "execution_count": 22,
     "metadata": {},
     "output_type": "execute_result"
    }
   ],
   "source": [
    "True, False\n",
    "\n",
    "10 != 10 # 같지 않다."
   ]
  },
  {
   "cell_type": "code",
   "execution_count": 23,
   "id": "4e494075-4600-4898-a203-81ac28021eb6",
   "metadata": {},
   "outputs": [],
   "source": [
    "#논리연산자\n",
    "and # 양쪽 둘다 True면 True\n",
    "or # 둘 중 하나만 True면 True\n",
    "not #부정"
   ]
  },
  {
   "cell_type": "code",
   "execution_count": 1,
   "id": "9e861ea4-4609-4f77-b8c6-ce66b77a6038",
   "metadata": {},
   "outputs": [
    {
     "data": {
      "text/plain": [
       "False"
      ]
     },
     "execution_count": 1,
     "metadata": {},
     "output_type": "execute_result"
    }
   ],
   "source": [
    "10==10 and 5>9"
   ]
  },
  {
   "cell_type": "code",
   "execution_count": 3,
   "id": "2733cdc6-f3f6-4ff8-9f30-db3b9caa2c25",
   "metadata": {},
   "outputs": [
    {
     "data": {
      "text/plain": [
       "True"
      ]
     },
     "execution_count": 3,
     "metadata": {},
     "output_type": "execute_result"
    }
   ],
   "source": [
    "not 10==1"
   ]
  },
  {
   "cell_type": "code",
   "execution_count": null,
   "id": "24cce9f4-b1dd-4a0a-8b21-1bc70a76cf29",
   "metadata": {},
   "outputs": [],
   "source": [
    "#1. () [] {}\n",
    "#2. **\n",
    "#3. +, - (-1, +2)\n",
    "#4. * / % //\n",
    "#5. + - \n",
    "#6. <>  == !=\n",
    "#7. = %= += -=\n"
   ]
  },
  {
   "cell_type": "code",
   "execution_count": 2,
   "id": "af8d8383-ff40-4391-950b-436795ffaaf5",
   "metadata": {},
   "outputs": [
    {
     "name": "stdin",
     "output_type": "stream",
     "text": [
      "당신의 국어점수를 입력하세요 :  70\n",
      "당신의 영어점수를 입력하세요 :  60\n",
      "당신의 수학점수를 입력하세요 :  50\n"
     ]
    },
    {
     "name": "stdout",
     "output_type": "stream",
     "text": [
      "180\n",
      "당신의 180 60.0\n"
     ]
    }
   ],
   "source": [
    "kor = int(input(\"당신의 국어점수를 입력하세요 : \"))\n",
    "eng = int(input(\"당신의 영어점수를 입력하세요 : \"))\n",
    "math = int(input(\"당신의 수학점수를 입력하세요 : \"))\n",
    "\n",
    "p = kor + eng + math\n",
    "\n",
    "print(p)\n",
    "\n",
    "t = p /3\n",
    "\n",
    "print(\"당신의\", p, t)"
   ]
  },
  {
   "cell_type": "code",
   "execution_count": 10,
   "id": "689c536f-beb4-472d-a666-9bf4d082bdcd",
   "metadata": {},
   "outputs": [
    {
     "name": "stdout",
     "output_type": "stream",
     "text": [
      "문자열...\n",
      " 새라인 \t 텝 뒤로 한칸 띄우기 ' \" \\ \n"
     ]
    }
   ],
   "source": [
    "# 1바이트는 8비트로 이루어져있다. 1비트의 저장공간에 0 아니면 1이 저장된다.\n",
    "#   00000100(2진수=>4 10진수) 8진수 : 0 1 2 3 4 5 6 7\n",
    "# 숫자형은 정수(integer), 실수(float) <= 저장하는 공간의 사이즈가 다르다\n",
    "\n",
    "#문자는 '1', 'a', \"abc\"\n",
    "#불리언 True, False\n",
    "\n",
    "g = \"문자열...\\n 새라인 \\t 텝 \\b 뒤로 한칸 띄우기 \\' \\\" \\\\ \"\n",
    "print(g)"
   ]
  },
  {
   "cell_type": "code",
   "execution_count": 17,
   "id": "f8e82ae8-636b-4034-bd08-d92768106240",
   "metadata": {},
   "outputs": [
    {
     "name": "stdout",
     "output_type": "stream",
     "text": [
      "마지막\n"
     ]
    }
   ],
   "source": [
    "var = \"난생\" + \"처음\"\n",
    "var = \"난생\" *3\n",
    "var = \"마지막\"\n",
    "print(var)"
   ]
  },
  {
   "cell_type": "code",
   "execution_count": 3,
   "id": "3003d7aa-4761-4ff1-9069-f33a0477e880",
   "metadata": {},
   "outputs": [
    {
     "name": "stdout",
     "output_type": "stream",
     "text": [
      "1\n"
     ]
    }
   ],
   "source": [
    "k=\"aBc\"\n",
    "k=k.upper()\n",
    "print(1)"
   ]
  },
  {
   "cell_type": "code",
   "execution_count": 7,
   "id": "7643165a-6b57-4f9e-a017-78385b9dbc35",
   "metadata": {},
   "outputs": [
    {
     "name": "stdout",
     "output_type": "stream",
     "text": [
      "abc\n"
     ]
    }
   ],
   "source": [
    "k=\"aBc\"\n",
    "z=k.lower()\n",
    "print(z)"
   ]
  },
  {
   "cell_type": "code",
   "execution_count": 5,
   "id": "b6f81156-08db-4ab0-81f4-2b990bc09d7e",
   "metadata": {},
   "outputs": [
    {
     "name": "stdout",
     "output_type": "stream",
     "text": [
      "2\n"
     ]
    }
   ],
   "source": [
    "k=\"abcdesas\"\n",
    "c=k.count(\"a\")\n",
    "print(c)"
   ]
  },
  {
   "cell_type": "code",
   "execution_count": 12,
   "id": "8edc1594-0b73-4048-b65c-8ef3aa4101a2",
   "metadata": {},
   "outputs": [
    {
     "name": "stdout",
     "output_type": "stream",
     "text": [
      "2\n"
     ]
    }
   ],
   "source": [
    "k=\"gfrdfdddc\"\n",
    "c=k.find(\"r\")\n",
    "print(c)"
   ]
  },
  {
   "cell_type": "code",
   "execution_count": 13,
   "id": "7af63613-4090-4548-9979-a16d25816566",
   "metadata": {},
   "outputs": [
    {
     "name": "stdout",
     "output_type": "stream",
     "text": [
      "9\n"
     ]
    }
   ],
   "source": [
    "k=\"gfrdfdddc\"\n",
    "c=len(k)\n",
    "print(c)"
   ]
  },
  {
   "cell_type": "code",
   "execution_count": 16,
   "id": "ce07f008-c821-4b7b-af99-116552d39cd7",
   "metadata": {},
   "outputs": [
    {
     "ename": "IndexError",
     "evalue": "string index out of range",
     "output_type": "error",
     "traceback": [
      "\u001b[1;31m---------------------------------------------------------------------------\u001b[0m",
      "\u001b[1;31mIndexError\u001b[0m                                Traceback (most recent call last)",
      "\u001b[1;32m<ipython-input-16-9723b30657d1>\u001b[0m in \u001b[0;36m<module>\u001b[1;34m\u001b[0m\n\u001b[0;32m      1\u001b[0m \u001b[0mk\u001b[0m\u001b[1;33m=\u001b[0m\u001b[1;34m\"gfrdfdddc\"\u001b[0m\u001b[1;33m\u001b[0m\u001b[1;33m\u001b[0m\u001b[0m\n\u001b[1;32m----> 2\u001b[1;33m \u001b[0mc\u001b[0m\u001b[1;33m=\u001b[0m\u001b[0mk\u001b[0m\u001b[1;33m[\u001b[0m\u001b[1;36m22\u001b[0m\u001b[1;33m]\u001b[0m\u001b[1;33m\u001b[0m\u001b[1;33m\u001b[0m\u001b[0m\n\u001b[0m\u001b[0;32m      3\u001b[0m \u001b[0mprint\u001b[0m\u001b[1;33m(\u001b[0m\u001b[0mc\u001b[0m\u001b[1;33m)\u001b[0m\u001b[1;33m\u001b[0m\u001b[1;33m\u001b[0m\u001b[0m\n",
      "\u001b[1;31mIndexError\u001b[0m: string index out of range"
     ]
    }
   ],
   "source": [
    "k=\"gfrdfdddc\"\n",
    "c=k[22] #IndexError: string index out of range\n",
    "#문자열의 인덱스(순서)를 벗어남\n",
    "print(c)"
   ]
  },
  {
   "cell_type": "code",
   "execution_count": null,
   "id": "2a93bfef-4f75-41e4-ba0c-32a70a4146c0",
   "metadata": {},
   "outputs": [],
   "source": []
  }
 ],
 "metadata": {
  "kernelspec": {
   "display_name": "Python 3",
   "language": "python",
   "name": "python3"
  },
  "language_info": {
   "codemirror_mode": {
    "name": "ipython",
    "version": 3
   },
   "file_extension": ".py",
   "mimetype": "text/x-python",
   "name": "python",
   "nbconvert_exporter": "python",
   "pygments_lexer": "ipython3",
   "version": "3.8.8"
  }
 },
 "nbformat": 4,
 "nbformat_minor": 5
}
