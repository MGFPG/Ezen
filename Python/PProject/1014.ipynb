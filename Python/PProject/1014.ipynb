{
 "cells": [
  {
   "cell_type": "code",
   "execution_count": 1,
   "id": "85ed4a5f-b3be-45db-9311-9bbdf554a758",
   "metadata": {},
   "outputs": [
    {
     "name": "stdout",
     "output_type": "stream",
     "text": [
      "str : Iphone - {'color': 'White', 'price': 10000}\n",
      "str : Galaxy - {'color': 'Black', 'price': 8000}\n",
      "Current Id : 2519384107712\n",
      "Smartphone Detail Info : Iphone 10000\n",
      "Current Id : 2519384107904\n",
      "Smartphone Detail Info : Galaxy 8000\n",
      "Before Smartphone Price -> brand : Iphone, price : 10000\n",
      "Before Smartphone Price -> brand : Galaxy, price : 8000\n",
      "After Smartphone Price -> brand : Iphone, price : 12000.0\n",
      "After Smartphone Price -> brand : Galaxy, price : 9600.0\n",
      "After Smartphone Price -> brand : Iphone, price : 12000.0\n",
      "After Smartphone Price -> brand : Galaxy, price : 9600.0\n",
      "Sorry. This Smartphone is not Iphone.\n",
      "Static :  OK! This Smartphone is Iphone.\n",
      "Static :  Sorry. This Smartphone is not Iphone.\n"
     ]
    }
   ],
   "source": [
    "class Smartphone:\n",
    "    \"\"\"\n",
    "    Smartphone Class\n",
    "    \"\"\"\n",
    "    smartphone_count = 0\n",
    "\n",
    "    def __init__(self, brand, informations):\n",
    "        self._brand = brand\n",
    "        self._informations = informations\n",
    "        Smartphone.smartphone_count += 1\n",
    "\n",
    "    def __str__(self):\n",
    "        return f'str : {self._brand} - {self._informations}'\n",
    "\n",
    "    def __repr__(self):\n",
    "        return f'repr : {self._brand} - {self._informations}'\n",
    "\n",
    "    def detail_info(self):\n",
    "        print(f'Current Id : {id(self)}')\n",
    "        print(f\"Smartphone Detail Info : {self._brand} {self._informations.get('price')}\")\n",
    "\n",
    "    def get_price(self):\n",
    "        return f\"Before Smartphone Price -> brand : {self._brand}, price : {self._informations.get('price')}\"\n",
    "\n",
    "    def get_price_culc(self):\n",
    "        return f\"After Smartphone Price -> brand : {self._brand}, price : {self._informations.get('price') * Smartphone.price_per_raise}\"\n",
    "\n",
    "    def raise_price(cls, per):\n",
    "        if per <= 1:\n",
    "            print('Please Enter 1 or More')\n",
    "            return\n",
    "        cls.price_per_raise = per\n",
    "        return 'Succeed! price increased.'\n",
    "\n",
    "    @staticmethod\n",
    "    def is_iphone(inst):\n",
    "        if inst._brand == 'Iphone':\n",
    "            return f'OK! This Smartphone is {inst._brand}.'\n",
    "\n",
    "        return 'Sorry. This Smartphone is not Iphone.'\n",
    "\n",
    "\n",
    "Smartphone1 = Smartphone('Iphone', {'color': 'White', 'price': 10000})\n",
    "Smartphone2 = Smartphone('Galaxy', {'color': 'Black', 'price': 8000})\n",
    "# 기본 정보\n",
    "print(Smartphone1)\n",
    "print(Smartphone2)\n",
    "\n",
    "Smartphone1.detail_info()\n",
    "Smartphone2.detail_info()\n",
    "\n",
    "print(Smartphone1.get_price())\n",
    "print(Smartphone2.get_price())\n",
    "\n",
    "# 가격 인상(클래스 메소드 미사용)\n",
    "# 이렇게 직접 접근은 좋지 않아요\n",
    "Smartphone.price_per_raise = 1.2\n",
    "\n",
    "# 가격 정보\n",
    "print(Smartphone1.get_price_culc())\n",
    "print(Smartphone2.get_price_culc())\n",
    "\n",
    "# 가격 인상\n",
    "Smartphone.raise_price(Smartphone1,1.6)\n",
    "\n",
    "# 가격 정보\n",
    "print(Smartphone1.get_price_culc())\n",
    "print(Smartphone2.get_price_culc())\n",
    "\n",
    "\n",
    "def is_iphone(inst):\n",
    "    if inst._brand == 'Iphone':\n",
    "        return f'OK! This Smartphone is {inst._brand}.'\n",
    "    return 'Sorry. This Smartphone is not Iphone.'\n",
    "\n",
    "\n",
    "print(is_iphone(Smartphone2))\n",
    "\n",
    "print('Static : ', Smartphone.is_iphone(Smartphone1))\n",
    "print('Static : ', Smartphone.is_iphone(Smartphone2)) "
   ]
  },
  {
   "cell_type": "code",
   "execution_count": 2,
   "id": "9f161c1a-e1ba-40de-aad0-4b85ec6f6a27",
   "metadata": {},
   "outputs": [
    {
     "name": "stdout",
     "output_type": "stream",
     "text": [
      "True\n"
     ]
    }
   ],
   "source": [
    "class point:\n",
    "    def __init__(self, x, y):\n",
    "        self.x = x\n",
    "        self.y = y\n",
    "\n",
    "    def dispc(self):\n",
    "        return ('(' + str(self.x) + ',' + str(self.y) + ')')\n",
    "\n",
    "    def __lt__(self, other):\n",
    "        return ((self.x == other.x) and (self.y == other.y))\n",
    "    \n",
    "p=point(2,3)\n",
    "q=point(2,3)\n",
    "    \n",
    "print(p.__lt__(q))"
   ]
  },
  {
   "cell_type": "code",
   "execution_count": 4,
   "id": "c9ce9961-3c1f-44eb-ba6e-61794abe4899",
   "metadata": {},
   "outputs": [
    {
     "name": "stdout",
     "output_type": "stream",
     "text": [
      "str : Banana - yellow\n",
      "Fruit is strawberry and Color is and price is red 100\n"
     ]
    }
   ],
   "source": [
    "class Fruit:\n",
    "    \n",
    "    price = 100\n",
    "    \n",
    "    def __init__(self, name, color):\n",
    "        self.name = name\n",
    "        self.color = color\n",
    "    \n",
    "    def __str__(self):\n",
    "        \n",
    "        return f'str : {self.name} - {self.color}'\n",
    "        \n",
    "    def show(self):\n",
    "        print(\"Fruit is\", self.name, \"and Color is and price is\", self.color, self.price)\n",
    "\n",
    "\n",
    "obj = Fruit(\"Apple\", \"red\")\n",
    "\n",
    "banana = Fruit(\"Banana\", \"yellow\")\n",
    "\n",
    "print(banana)\n",
    "\n",
    "\n",
    "obj.name = \"strawberry\"\n",
    "obj.show()\n"
   ]
  },
  {
   "cell_type": "code",
   "execution_count": 5,
   "id": "a583df21-81aa-4d74-8e4e-e640a6a15ad9",
   "metadata": {},
   "outputs": [
    {
     "name": "stdout",
     "output_type": "stream",
     "text": [
      "str : Iphone - {'color': 'White', 'price': 10000}\n",
      "str : Galaxy - {'color': 'Black', 'price': 8000}\n",
      "Before Smartphone Price -> brand : Iphone, price : 10000\n",
      "Before Smartphone Price -> brand : Galaxy, price : 8000\n",
      "After Smartphone Price -> brand : Iphone, price : 12000.0\n",
      "After Smartphone Price -> brand : Galaxy, price : 9600.0\n",
      "After Smartphone Price -> brand : Iphone, price : 16000.0\n",
      "After Smartphone Price -> brand : Galaxy, price : 12800.0\n",
      "Sorry. This Smartphone is not Iphone.\n",
      "Static :  OK! This Smartphone is Iphone.\n",
      "Static :  Sorry. This Smartphone is not Iphone.\n"
     ]
    }
   ],
   "source": [
    "class Smartphone:\n",
    "    \"\"\"\n",
    "    Smartphone Class\n",
    "    \"\"\"\n",
    "    Smartphone_count = 0\n",
    "    \n",
    "    def __init__(self, brand, informations):\n",
    "        self._brand = brand\n",
    "        self._informations = informations\n",
    "        Smartphone.Smartphone_count += 1\n",
    "\n",
    "    def __str__(self):\n",
    "        return f'str : {self._brand} - {self._informations}'\n",
    "\n",
    "    def __repr__(self):\n",
    "        return f'repr : {self._brand} - {self._informations}'\n",
    "\n",
    "    def detail_info(self):\n",
    "        print(f'Current Id : {id(self)}')\n",
    "        print(f'Smartphone Detail Info : {self._brand} {self._informations[\"price\"]}')\n",
    "\n",
    "    def get_price(self):\n",
    "        return f'Before Smartphone Price -> brand : {self._brand}, price : {self._informations[\"price\"]}'\n",
    "\n",
    "    def get_price_culc(self):\n",
    "        return f'After Smartphone Price -> brand : {self._brand}, price : {self._informations[\"price\"] * Smartphone.price_per_raise}'\n",
    "\n",
    "    @classmethod\n",
    "    def raise_price(cls, per):\n",
    "        if per <= 1:\n",
    "            print('Please Enter 1 or More')\n",
    "            return\n",
    "        cls.price_per_raise = per\n",
    "        return 'Succeed! price increased.'\n",
    "\n",
    "    @staticmethod\n",
    "    def is_iphone(inst):\n",
    "        if inst._brand == 'Iphone':\n",
    "            return f'OK! This Smartphone is {inst._brand}.'\n",
    "        return 'Sorry. This Smartphone is not Iphone.'\n",
    "    \n",
    "    \n",
    "Smartphone1 = Smartphone('Iphone', {'color' : 'White', 'price': 10000})\n",
    "Smartphone2 = Smartphone('Galaxy', {'color' : 'Black', 'price': 8000})\n",
    "# 기본 정보\n",
    "print(Smartphone1)\n",
    "print(Smartphone2)\n",
    "\n",
    "#Smartphone1.information()\n",
    "#Smartphone2.information()\n",
    "\n",
    "print(Smartphone1.get_price())\n",
    "print(Smartphone2.get_price())\n",
    "\n",
    "# 가격 인상(클래스 메소드 미사용)\n",
    "# 이렇게 직접 접근은 좋지 않아요\n",
    "Smartphone.price_per_raise = 1.2\n",
    "\n",
    "# 가격 정보\n",
    "print(Smartphone1.get_price_culc())\n",
    "print(Smartphone2.get_price_culc())\n",
    "\n",
    "# 가격 인상\n",
    "Smartphone.raise_price(1.6)\n",
    "\n",
    "# 가격 정보\n",
    "print(Smartphone1.get_price_culc())\n",
    "print(Smartphone2.get_price_culc())\n",
    "\n",
    "def is_iphone(inst):\n",
    "    if inst._brand == 'Iphone':\n",
    "        return f'OK! This Smartphone is {inst._brand}.'\n",
    "    return 'Sorry. This Smartphone is not Iphone.'\n",
    "\n",
    "print(is_iphone(Smartphone2))\n",
    "\n",
    "print('Static : ', Smartphone.is_iphone(Smartphone1))\n",
    "print('Static : ', Smartphone.is_iphone(Smartphone2))"
   ]
  },
  {
   "cell_type": "code",
   "execution_count": 28,
   "id": "b962185e-33fb-45f8-b9e1-ee1c2174c5a1",
   "metadata": {},
   "outputs": [
    {
     "ename": "UnicodeDecodeError",
     "evalue": "'cp949' codec can't decode byte 0xec in position 16: illegal multibyte sequence",
     "output_type": "error",
     "traceback": [
      "\u001b[1;31m---------------------------------------------------------------------------\u001b[0m",
      "\u001b[1;31mUnicodeDecodeError\u001b[0m                        Traceback (most recent call last)",
      "\u001b[1;32m<ipython-input-28-b95f09ed2c80>\u001b[0m in \u001b[0;36m<module>\u001b[1;34m\u001b[0m\n\u001b[0;32m      6\u001b[0m \u001b[1;33m\u001b[0m\u001b[0m\n\u001b[0;32m      7\u001b[0m \u001b[0mf\u001b[0m \u001b[1;33m=\u001b[0m \u001b[0mopen\u001b[0m\u001b[1;33m(\u001b[0m\u001b[1;34m'work.txt'\u001b[0m\u001b[1;33m,\u001b[0m \u001b[1;34m'r+'\u001b[0m\u001b[1;33m)\u001b[0m\u001b[1;33m\u001b[0m\u001b[1;33m\u001b[0m\u001b[0m\n\u001b[1;32m----> 8\u001b[1;33m \u001b[0mread_data\u001b[0m \u001b[1;33m=\u001b[0m \u001b[0mf\u001b[0m\u001b[1;33m.\u001b[0m\u001b[0mread\u001b[0m\u001b[1;33m(\u001b[0m\u001b[1;33m)\u001b[0m\u001b[1;33m\u001b[0m\u001b[1;33m\u001b[0m\u001b[0m\n\u001b[0m\u001b[0;32m      9\u001b[0m \u001b[0mprint\u001b[0m\u001b[1;33m(\u001b[0m\u001b[0mread_data\u001b[0m\u001b[1;33m)\u001b[0m\u001b[1;33m\u001b[0m\u001b[1;33m\u001b[0m\u001b[0m\n\u001b[0;32m     10\u001b[0m \u001b[1;33m\u001b[0m\u001b[0m\n",
      "\u001b[1;31mUnicodeDecodeError\u001b[0m: 'cp949' codec can't decode byte 0xec in position 16: illegal multibyte sequence"
     ]
    }
   ],
   "source": [
    "# r:읽기전용, W: 쓰기전용(기존것은 사라지고 새로 작성(덮어쓰기)), r+:읽고 쓰는 것을 동시에, a: append(기존 것을삭제하지 않고 추가)\n",
    "\n",
    "f = open('work.txt', 'r+')\n",
    "f.write(\"hello world\")\n",
    "f.close()\n",
    "\n",
    "f = open('work.txt', 'r+')\n",
    "read_data = f.read()\n",
    "print(read_data)\n",
    "\n",
    "f.close()"
   ]
  },
  {
   "cell_type": "code",
   "execution_count": 26,
   "id": "7967e393-487a-4161-b39d-a1235c347d89",
   "metadata": {},
   "outputs": [
    {
     "ename": "UnicodeDecodeError",
     "evalue": "'cp949' codec can't decode byte 0xec in position 16: illegal multibyte sequence",
     "output_type": "error",
     "traceback": [
      "\u001b[1;31m---------------------------------------------------------------------------\u001b[0m",
      "\u001b[1;31mUnicodeDecodeError\u001b[0m                        Traceback (most recent call last)",
      "\u001b[1;32m<ipython-input-26-99d4078f995d>\u001b[0m in \u001b[0;36m<module>\u001b[1;34m\u001b[0m\n\u001b[0;32m      1\u001b[0m \u001b[1;32mwith\u001b[0m \u001b[0mopen\u001b[0m\u001b[1;33m(\u001b[0m\u001b[1;34m'work.txt'\u001b[0m\u001b[1;33m,\u001b[0m\u001b[1;34m'r+'\u001b[0m\u001b[1;33m)\u001b[0m \u001b[1;32mas\u001b[0m \u001b[0mf\u001b[0m\u001b[1;33m:\u001b[0m\u001b[1;33m\u001b[0m\u001b[1;33m\u001b[0m\u001b[0m\n\u001b[1;32m----> 2\u001b[1;33m     \u001b[0mread_data\u001b[0m \u001b[1;33m=\u001b[0m\u001b[0mf\u001b[0m\u001b[1;33m.\u001b[0m\u001b[0mread\u001b[0m\u001b[1;33m(\u001b[0m\u001b[1;33m)\u001b[0m\u001b[1;33m\u001b[0m\u001b[1;33m\u001b[0m\u001b[0m\n\u001b[0m\u001b[0;32m      3\u001b[0m \u001b[1;33m\u001b[0m\u001b[0m\n\u001b[0;32m      4\u001b[0m \u001b[0mf\u001b[0m\u001b[1;33m.\u001b[0m\u001b[0mclose\u001b[0m\u001b[1;33m(\u001b[0m\u001b[1;33m)\u001b[0m\u001b[1;33m\u001b[0m\u001b[1;33m\u001b[0m\u001b[0m\n",
      "\u001b[1;31mUnicodeDecodeError\u001b[0m: 'cp949' codec can't decode byte 0xec in position 16: illegal multibyte sequence"
     ]
    }
   ],
   "source": [
    "#with로 열게 되면 중간에 파일을 잃을 걱정이 없다\n",
    "\n",
    "with open('work.txt','r+') as f:\n",
    "    read_data =f.read()\n",
    "    \n",
    "f.close()"
   ]
  },
  {
   "cell_type": "code",
   "execution_count": 29,
   "id": "412dcf5a-7892-49d7-8df3-3aaf24a8f35b",
   "metadata": {},
   "outputs": [
    {
     "name": "stdout",
     "output_type": "stream",
     "text": [
      "23920000\n"
     ]
    }
   ],
   "source": [
    "daum = 89000\n",
    "\n",
    "naver = 751000\n",
    "\n",
    "total = daum * 100 + naver * 20\n",
    "\n",
    "print(total)"
   ]
  },
  {
   "cell_type": "code",
   "execution_count": 30,
   "id": "c5f5f4ab-50f4-4f7f-99db-0c592fcba1c6",
   "metadata": {},
   "outputs": [
    {
     "name": "stdout",
     "output_type": "stream",
     "text": [
      "10.0\n"
     ]
    }
   ],
   "source": [
    "f = 50\n",
    "\n",
    "c = (f-32) / 1.8\n",
    "\n",
    "print(c)"
   ]
  },
  {
   "cell_type": "code",
   "execution_count": 31,
   "id": "08343db1-3a5b-4da6-a79f-10e8bbfb5fd0",
   "metadata": {},
   "outputs": [
    {
     "name": "stdout",
     "output_type": "stream",
     "text": [
      "pizza\n",
      "pizza\n",
      "pizza\n",
      "pizza\n",
      "pizza\n",
      "pizza\n",
      "pizza\n",
      "pizza\n",
      "pizza\n",
      "pizza\n",
      "\n"
     ]
    }
   ],
   "source": [
    "print(\"pizza\\n\" * 10)"
   ]
  },
  {
   "cell_type": "code",
   "execution_count": 32,
   "id": "1fa7c4ef-a364-46e4-8d91-7023582fbdea",
   "metadata": {},
   "outputs": [
    {
     "name": "stdout",
     "output_type": "stream",
     "text": [
      "342999.99999999994\n"
     ]
    }
   ],
   "source": [
    "monday_start_price = 1000000\n",
    "\n",
    "monday_end_price = monday_start_price * 0.7\n",
    "\n",
    "tuesday_start_price = monday_end_price\n",
    "\n",
    "tuesday_end_price = tuesday_start_price * 0.7\n",
    "\n",
    "wednesday_start_price = tuesday_end_price\n",
    "\n",
    "wednesday_end_price = wednesday_start_price * 0.7\n",
    "\n",
    "print(wednesday_end_price)"
   ]
  },
  {
   "cell_type": "code",
   "execution_count": 33,
   "id": "5a3b8e6e-1e1e-45eb-b57c-84009221f693",
   "metadata": {},
   "outputs": [
    {
     "data": {
      "text/plain": [
       "'KaKao Daum'"
      ]
     },
     "execution_count": 33,
     "metadata": {},
     "output_type": "execute_result"
    }
   ],
   "source": [
    "s = 'Daum KaKao'\n",
    "\n",
    "s = s[5:] + ' ' + s[0:4]\n",
    "\n",
    "s"
   ]
  },
  {
   "cell_type": "code",
   "execution_count": 34,
   "id": "b49bdb99-4b28-4f2d-a4a3-438cfaa35bb8",
   "metadata": {},
   "outputs": [
    {
     "data": {
      "text/plain": [
       "'hi world'"
      ]
     },
     "execution_count": 34,
     "metadata": {},
     "output_type": "execute_result"
    }
   ],
   "source": [
    " a = \"Hello world\"\n",
    "\n",
    "a = 'hi ' + a[6:]\n",
    "\n",
    "a"
   ]
  },
  {
   "cell_type": "code",
   "execution_count": 35,
   "id": "809d512e-7f13-47c7-86ab-e435cb6d6cc3",
   "metadata": {},
   "outputs": [
    {
     "data": {
      "text/plain": [
       "'bcdefa'"
      ]
     },
     "execution_count": 35,
     "metadata": {},
     "output_type": "execute_result"
    }
   ],
   "source": [
    "x = 'abcdef'\n",
    "\n",
    "x = x[1:]+x[0]\n",
    "\n",
    "x"
   ]
  },
  {
   "cell_type": "code",
   "execution_count": 36,
   "id": "e41659d1-6705-44c7-bdf3-3f27e99cc90c",
   "metadata": {},
   "outputs": [
    {
     "data": {
      "text/plain": [
       "[474500, 461500, 501000, 500500, 488500]"
      ]
     },
     "execution_count": 36,
     "metadata": {},
     "output_type": "execute_result"
    }
   ],
   "source": [
    "naver_closing_price = [474500, 461500, 501000, 500500, 488500]\n",
    "\n",
    "naver_closing_price"
   ]
  },
  {
   "cell_type": "code",
   "execution_count": 37,
   "id": "8f655ee1-6645-4aa2-b646-caac85fd06a5",
   "metadata": {},
   "outputs": [
    {
     "name": "stdout",
     "output_type": "stream",
     "text": [
      "501000\n"
     ]
    }
   ],
   "source": [
    "max_price = max(naver_closing_price)\n",
    "\n",
    "print(max_price)"
   ]
  },
  {
   "cell_type": "code",
   "execution_count": 39,
   "id": "1e48e7fc-9fcc-4be3-a71a-54efbfbabd8c",
   "metadata": {},
   "outputs": [
    {
     "name": "stdout",
     "output_type": "stream",
     "text": [
      "461500\n"
     ]
    }
   ],
   "source": [
    "min_price = min(naver_closing_price)\n",
    "\n",
    "print(min_price)"
   ]
  },
  {
   "cell_type": "code",
   "execution_count": 40,
   "id": "5292b841-0192-4302-be89-4ab44dce583e",
   "metadata": {},
   "outputs": [
    {
     "name": "stdout",
     "output_type": "stream",
     "text": [
      "가격차:  39500\n"
     ]
    }
   ],
   "source": [
    "naver_closing_price = [474500, 461500, 501000, 500500, 488500]\n",
    "\n",
    "max_price = max(naver_closing_price)\n",
    "\n",
    "min_price = min(naver_closing_price)\n",
    "\n",
    "print(\"가격차: \", max_price - min_price)"
   ]
  },
  {
   "cell_type": "code",
   "execution_count": 43,
   "id": "8a1903e2-225f-4854-8d16-69cafe960dfb",
   "metadata": {},
   "outputs": [
    {
     "name": "stdout",
     "output_type": "stream",
     "text": [
      "수요일 종가:  501000\n"
     ]
    }
   ],
   "source": [
    "print(\"수요일 종가: \", naver_closing_price[2])"
   ]
  },
  {
   "cell_type": "code",
   "execution_count": 44,
   "id": "092d2bbf-2189-4b36-9995-c0b67b31dfc0",
   "metadata": {},
   "outputs": [
    {
     "data": {
      "text/plain": [
       "{'09/07': 474500,\n",
       " '09/08': 461500,\n",
       " '09/09': 501000,\n",
       " '09/10': 500500,\n",
       " '09/11': 488500}"
      ]
     },
     "execution_count": 44,
     "metadata": {},
     "output_type": "execute_result"
    }
   ],
   "source": [
    "naver_closing_price2 = {'09/07':474500, '09/08':461500, '09/09':501000, '09/10': 500500, '09/11':488500}\n",
    "\n",
    "naver_closing_price2"
   ]
  },
  {
   "cell_type": "code",
   "execution_count": 45,
   "id": "5bfa1426-0882-4627-b7ec-80ce01000583",
   "metadata": {},
   "outputs": [
    {
     "name": "stdout",
     "output_type": "stream",
     "text": [
      "501000\n"
     ]
    }
   ],
   "source": [
    "print(naver_closing_price2['09/09'])"
   ]
  },
  {
   "cell_type": "code",
   "execution_count": 53,
   "id": "f9c39c0d-ee94-4a5c-ab38-549fa62fabb1",
   "metadata": {},
   "outputs": [
    {
     "name": "stdout",
     "output_type": "stream",
     "text": [
      "*****"
     ]
    }
   ],
   "source": [
    "for i in range(5):\n",
    "    print('*', end='')"
   ]
  },
  {
   "cell_type": "code",
   "execution_count": 54,
   "id": "3b15ee68-33a0-4bec-bd62-000d4673fc4a",
   "metadata": {},
   "outputs": [
    {
     "name": "stdout",
     "output_type": "stream",
     "text": [
      "*****\n",
      "*****\n",
      "*****\n",
      "*****\n"
     ]
    }
   ],
   "source": [
    "for j in range(4):\n",
    "    for i in range(5):\n",
    "\n",
    "        print('*', end='')\n",
    "\n",
    "    print(\"\")"
   ]
  },
  {
   "cell_type": "code",
   "execution_count": 55,
   "id": "cf4e4858-ef71-4170-b5b7-035ec03efdfd",
   "metadata": {},
   "outputs": [
    {
     "name": "stdout",
     "output_type": "stream",
     "text": [
      "*\n",
      "**\n",
      "***\n",
      "****\n",
      "*****\n"
     ]
    }
   ],
   "source": [
    "for j in range(5):\n",
    "\n",
    "    for i in range(j+1):\n",
    "\n",
    "        print('*', end='')\n",
    "\n",
    "    print(\"\")"
   ]
  },
  {
   "cell_type": "code",
   "execution_count": 56,
   "id": "138898c2-f860-4ad9-a908-76db1264c380",
   "metadata": {},
   "outputs": [
    {
     "name": "stdout",
     "output_type": "stream",
     "text": [
      "*****\n",
      "****\n",
      "***\n",
      "**\n",
      "*\n"
     ]
    }
   ],
   "source": [
    "for j in range(5):\n",
    "\n",
    "    for i in range(5-j):\n",
    "\n",
    "        print('*', end='')\n",
    "\n",
    "    print(\"\")"
   ]
  },
  {
   "cell_type": "code",
   "execution_count": 64,
   "id": "2a79d046-1ce9-43c3-9a66-0af7a0a0706d",
   "metadata": {},
   "outputs": [
    {
     "name": "stdout",
     "output_type": "stream",
     "text": [
      "    *\n",
      "   **\n",
      "  ***\n",
      " ****\n",
      "*****\n"
     ]
    }
   ],
   "source": [
    "for j in range(5):\n",
    "\n",
    "    for i in range(4-j):\n",
    "\n",
    "        print(' ', end='')\n",
    "\n",
    "    for i in range(j+1):\n",
    "\n",
    "        print('*', end='')\n",
    "\n",
    "    print(\"\")"
   ]
  },
  {
   "cell_type": "code",
   "execution_count": 65,
   "id": "64404c94-6515-4e7c-b1fe-f16de948294c",
   "metadata": {},
   "outputs": [
    {
     "name": "stdout",
     "output_type": "stream",
     "text": [
      "*****\n",
      " ****\n",
      "  ***\n",
      "   **\n",
      "    *\n"
     ]
    }
   ],
   "source": [
    "for j in range(5):\n",
    "\n",
    "    for i in range(j):\n",
    "\n",
    "        print(' ', end='')\n",
    "\n",
    "    for i in range(5-j):\n",
    "\n",
    "        print('*', end='')\n",
    "    \n",
    "    print(\"\")"
   ]
  },
  {
   "cell_type": "code",
   "execution_count": 66,
   "id": "2df12d23-aa49-435b-996c-9b04d5101426",
   "metadata": {},
   "outputs": [
    {
     "name": "stdout",
     "output_type": "stream",
     "text": [
      "*********\n",
      " *******\n",
      "  *****\n",
      "   ***\n",
      "    *\n"
     ]
    }
   ],
   "source": [
    "for j in range(5):\n",
    "\n",
    "    for i in range(j):\n",
    "\n",
    "        print(' ', end='')\n",
    "\n",
    "    for i in range(2*(5-j)-1):\n",
    "\n",
    "        print('*', end='')\n",
    "\n",
    "    print(\"\")"
   ]
  },
  {
   "cell_type": "code",
   "execution_count": 73,
   "id": "efb911cf-410e-4b4c-bcea-0f4e6bc121b4",
   "metadata": {},
   "outputs": [
    {
     "name": "stdout",
     "output_type": "stream",
     "text": [
      "Newspaper delivery:  102\n",
      "Newspaper delivery:  103\n",
      "Newspaper delivery:  104\n",
      "Newspaper delivery:  201\n",
      "Newspaper delivery:  202\n",
      "Newspaper delivery:  204\n",
      "Newspaper delivery:  302\n",
      "Newspaper delivery:  302\n",
      "Newspaper delivery:  303\n",
      "Newspaper delivery:  401\n",
      "Newspaper delivery:  402\n",
      "Newspaper delivery:  403\n"
     ]
    }
   ],
   "source": [
    "apart = [[101, 102, 103, 104],[201, 202, 203, 204],[301, 302, 302, 303], [401, 402, 403, 404]]\n",
    "\n",
    "arrears = [101, 203, 301, 404]\n",
    "\n",
    "for floor in apart:\n",
    "\n",
    "    for house in floor:\n",
    "\n",
    "        if house in arrears:\n",
    "\n",
    "            continue\n",
    "\n",
    "        else:\n",
    "\n",
    "            print(\"Newspaper delivery: \", house)"
   ]
  },
  {
   "cell_type": "code",
   "execution_count": 74,
   "id": "6259316e-b2ef-4b08-b4d1-7765d5784b11",
   "metadata": {},
   "outputs": [
    {
     "data": {
      "text/plain": [
       "3.5"
      ]
     },
     "execution_count": 74,
     "metadata": {},
     "output_type": "execute_result"
    }
   ],
   "source": [
    "def myaverage(a,b):\n",
    "\n",
    "    return (a+b)/2\n",
    "\n",
    "myaverage(3,4)"
   ]
  },
  {
   "cell_type": "code",
   "execution_count": 78,
   "id": "91fde5b1-85e8-4878-8ba5-0081dadd3e09",
   "metadata": {},
   "outputs": [
    {
     "name": "stdout",
     "output_type": "stream",
     "text": [
      "5\n",
      "1\n"
     ]
    }
   ],
   "source": [
    "def get_max_min(data_list):\n",
    "\n",
    "    max_val = max(data_list)\n",
    "\n",
    "    min_val = min(data_list)\n",
    "\n",
    "    return (max_val, min_val)\n",
    "\n",
    "max_val, min_val = get_max_min([1, 2, 3, 4, 5])\n",
    "\n",
    "print(max_val)\n",
    "\n",
    "print(min_val)\n",
    "\n"
   ]
  },
  {
   "cell_type": "code",
   "execution_count": 90,
   "id": "1718f882-d090-4891-9f1f-60fc0ec65ab7",
   "metadata": {},
   "outputs": [
    {
     "name": "stdout",
     "output_type": "stream",
     "text": [
      "표준\n",
      "고도비만\n"
     ]
    }
   ],
   "source": [
    "def cal_bmi(weight, height):\n",
    "\n",
    "    height = height * 0.01\n",
    "\n",
    "    bmi = weight / (height * height)\n",
    "\n",
    "    if bmi < 18.5:\n",
    "\n",
    "        print(\"마른체형\")\n",
    "\n",
    "    elif 18.5 <= bmi < 25.0:\n",
    "\n",
    "        print(\"표준\")\n",
    "\n",
    "    elif 25.0 <= bmi < 30.0:\n",
    "\n",
    "        print(\"비만\")\n",
    "\n",
    "    else:\n",
    "\n",
    "        print(\"고도비만\")\n",
    "\n",
    "        \n",
    "cal_bmi(63, 170)\n",
    "cal_bmi(79, 160)\n"
   ]
  },
  {
   "cell_type": "code",
   "execution_count": 97,
   "id": "bb1fbdec-58ec-4cdc-8148-96a1d11ffb5a",
   "metadata": {},
   "outputs": [
    {
     "data": {
      "text/plain": [
       "25.0"
      ]
     },
     "execution_count": 97,
     "metadata": {},
     "output_type": "execute_result"
    }
   ],
   "source": [
    "def get_triangle_area(width, height):\n",
    "\n",
    "    return width * height / 2\n",
    "\n",
    "get_triangle_area(10, 5)"
   ]
  },
  {
   "cell_type": "code",
   "execution_count": 99,
   "id": "a394ddb1-d76a-4a2c-b765-7bddf3d57dbf",
   "metadata": {},
   "outputs": [
    {
     "data": {
      "text/plain": [
       "55"
      ]
     },
     "execution_count": 99,
     "metadata": {},
     "output_type": "execute_result"
    }
   ],
   "source": [
    "def add_start_to_end(start, end):\n",
    "\n",
    "    return sum(range(start, end+1))\n",
    "\n",
    "add_start_to_end(1,10)"
   ]
  },
  {
   "cell_type": "code",
   "execution_count": 100,
   "id": "34215f27-735f-43aa-afd4-9aa7f4e63d18",
   "metadata": {},
   "outputs": [
    {
     "data": {
      "text/plain": [
       "['Seo', 'Dae', 'Kwa', 'Jej']"
      ]
     },
     "execution_count": 100,
     "metadata": {},
     "output_type": "execute_result"
    }
   ],
   "source": [
    "def get_abbr(data_list):\n",
    "\n",
    "    result = []\n",
    "\n",
    "    for x in data_list:\n",
    "\n",
    "        result.append(x[:3])\n",
    "\n",
    "    return result\n",
    "\n",
    "get_abbr(['Seoul', 'Daegu', 'Kwangju', 'Jeju'])\n"
   ]
  },
  {
   "cell_type": "code",
   "execution_count": 111,
   "id": "f4aa1f29-e1ae-41ff-90fc-300a8ff8b4b3",
   "metadata": {},
   "outputs": [
    {
     "name": "stdout",
     "output_type": "stream",
     "text": [
      "5050\n",
      "Total: 12\n"
     ]
    },
    {
     "name": "stdin",
     "output_type": "stream",
     "text": [
      "성적을 입력하세요: 100\n"
     ]
    },
    {
     "name": "stdout",
     "output_type": "stream",
     "text": [
      "A 입니다.\n",
      "30\n",
      "9 45\n"
     ]
    }
   ],
   "source": [
    "def exam01():\n",
    "    i,sum = 0,0\n",
    "    while (i<100):\n",
    "        i += 1\n",
    "        sum += i\n",
    "        if i>=100:\n",
    "            break\n",
    "    print(sum) #5050\n",
    "\n",
    "def exam02():\n",
    "    numbers = [1,2,3,4,5,6,7]\n",
    "    total = 0\n",
    "\n",
    "    for n in numbers:\n",
    "        if( n%2 ) ==0:\n",
    "            total += n\n",
    "    print(\"Total:\",total) #12\n",
    "\n",
    "\n",
    "def exam03():\n",
    "    score = int(input('성적을 입력하세요:'))\n",
    "\n",
    "    if score >=90:\n",
    "        print(\"A 입니다.\")\n",
    "    elif score >= 80:\n",
    "        print(\"B 입니다.\")\n",
    "    elif score >= 70:\n",
    "        print(\"C 입니다.\")\n",
    "    elif score >= 60:\n",
    "        print(\"D 입니다.\")\n",
    "    else:\n",
    "        print(\"F 입니다.\")\n",
    "\n",
    "def exam04():\n",
    "    a,sum = 0,0\n",
    "    while(a<10):\n",
    "        a +=1\n",
    "        if(a%2 == 1):\n",
    "            continue\n",
    "        sum += a\n",
    "    print(sum) # 30\n",
    "\n",
    "\n",
    "def exam05():\n",
    "    sum = 0\n",
    "    for  i in range(1,10):\n",
    "        sum += i\n",
    "    print(i,sum) # 9 45\n",
    "\n",
    "\n",
    "if __name__ == '__main__':\n",
    "\n",
    "    exam01()\n",
    "    exam02()\n",
    "    exam03()\n",
    "    exam04()\n",
    "    exam05()\n",
    "    "
   ]
  },
  {
   "cell_type": "code",
   "execution_count": 121,
   "id": "e4a20e18-1a9a-4b5b-a0c7-acc186bea7c2",
   "metadata": {},
   "outputs": [
    {
     "name": "stdout",
     "output_type": "stream",
     "text": [
      "Lim 25\n"
     ]
    }
   ],
   "source": [
    "class Person:\n",
    "    def __init__(self,name,age,gender):\n",
    "        self.name=name\n",
    "        self.age=age\n",
    "        self.gender=gender\n",
    "        \n",
    "    def printme(self):\n",
    "        print(self.name, self.age)\n",
    "        \n",
    "person=Person('Lim',25,True)\n",
    "\n",
    "person.printme()"
   ]
  }
 ],
 "metadata": {
  "kernelspec": {
   "display_name": "Python 3 (ipykernel)",
   "language": "python",
   "name": "python3"
  },
  "language_info": {
   "codemirror_mode": {
    "name": "ipython",
    "version": 3
   },
   "file_extension": ".py",
   "mimetype": "text/x-python",
   "name": "python",
   "nbconvert_exporter": "python",
   "pygments_lexer": "ipython3",
   "version": "3.9.7"
  }
 },
 "nbformat": 4,
 "nbformat_minor": 5
}
