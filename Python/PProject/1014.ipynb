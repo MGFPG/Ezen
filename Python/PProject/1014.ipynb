{
 "cells": [
  {
   "cell_type": "code",
   "execution_count": 1,
   "id": "15bdca0d-5af3-46cb-b55f-5d987d535490",
   "metadata": {},
   "outputs": [
    {
     "name": "stdout",
     "output_type": "stream",
     "text": [
      "5050\n",
      "Total: 12\n"
     ]
    },
    {
     "name": "stdin",
     "output_type": "stream",
     "text": [
      "성적을 입력하세요: 66\n"
     ]
    },
    {
     "name": "stdout",
     "output_type": "stream",
     "text": [
      "D 입니다.\n",
      "30\n",
      "9 45\n"
     ]
    }
   ],
   "source": [
    "def exam01():\n",
    "    i,sum = 0,0\n",
    "    while (i<100):\n",
    "        i += 1\n",
    "        sum += i\n",
    "        if i>=100:\n",
    "            break\n",
    "    print(sum) #5050\n",
    "    \n",
    "def exam02():\n",
    "    numbers = [1,2,3,4,5,6,7]\n",
    "    total = 0\n",
    "\n",
    "    for n in numbers:\n",
    "        if( n%2 ) == 0:\n",
    "            total += n\n",
    "    print(\"Total:\",total) #12\n",
    "    \n",
    "def exam03():\n",
    "    score = int(input('성적을 입력하세요:'))\n",
    "\n",
    "    if score >=90:\n",
    "        print(\"A 입니다.\")\n",
    "    elif score >= 80:\n",
    "        print(\"B 입니다.\")\n",
    "    elif score >= 70:\n",
    "        print(\"C 입니다.\")\n",
    "    elif score >= 60:\n",
    "        print(\"D 입니다.\")\n",
    "    else:\n",
    "        print(\"F 입니다.\")\n",
    "        \n",
    "        \n",
    "def exam04():\n",
    "    a,sum = 0,0\n",
    "    while(a<10):\n",
    "        a +=1\n",
    "        \n",
    "        if(a%2 == 1):\n",
    "            continue\n",
    "            \n",
    "        sum += a\n",
    "    print(sum) # 30\n",
    "    \n",
    "    \n",
    "def exam05():\n",
    "    sum = 0\n",
    "    for  i in range(1,10):\n",
    "        sum += i\n",
    "        \n",
    "    print(i,sum) # 9 45\n",
    "    \n",
    "    \n",
    "if __name__ == '__main__':\n",
    "    exam01()\n",
    "    exam02()\n",
    "    exam03()\n",
    "    exam04()\n",
    "    exam05()\n"
   ]
  },
  {
   "cell_type": "code",
   "execution_count": 5,
   "id": "aa17e5e9-d820-4517-9356-e2878dfe4118",
   "metadata": {},
   "outputs": [
    {
     "name": "stdout",
     "output_type": "stream",
     "text": [
      "hong 12 False\n",
      "Woman\n"
     ]
    }
   ],
   "source": [
    "class Person:\n",
    "    def __init__(self,name,age,gender):\n",
    "        self.name = name\n",
    "        self.age = age\n",
    "        self.gender = gender\n",
    "        \n",
    "    def printme(self):\n",
    "        print(self.name,self.age,self.gender)\n",
    "    \n",
    "    def genders(self):\n",
    "        if self.gender:\n",
    "            print(\"Man\")\n",
    "        else:\n",
    "            print(\"Woman\")\n",
    "            \n",
    "        \n",
    "person = Person(\"hong\",12,False)\n",
    " \n",
    "person.printme()\n",
    "person.genders()"
   ]
  },
  {
   "cell_type": "code",
   "execution_count": 2,
   "id": "718e6bcc-d1d1-479e-94a3-2eee23044896",
   "metadata": {},
   "outputs": [
    {
     "name": "stdout",
     "output_type": "stream",
     "text": [
      "Fruit is Apple  and price is  100  sweet is  90\n",
      "Fruit is Apple  and price is  100  sweet is  90\n",
      "Fruit is Banana  and price is  100  sweet is  90\n",
      "str : Banana - yello\n",
      "Fruit is Busa Apple  and price is  100  sweet is  90\n"
     ]
    }
   ],
   "source": [
    "#클래스 , 속성(클래스가 갖고있는 내용물), 메소드( 함수: 기능을 하는 동작)\n",
    "\n",
    "\n",
    "\n",
    "class Fruit:\n",
    "    \n",
    "    sweet = 90\n",
    "    price = 100\n",
    "    def __init__(self, name, color,price): #생성자\n",
    "        self.name = name\n",
    "        self.color = color\n",
    "        self.pirce = price\n",
    "\n",
    "    def __str__(self):       \n",
    "        return f'str : {self.name} - {self.color}'\n",
    "        \n",
    "    def showme(self):\n",
    "        print(\"Fruit is\", self.name, \" and price is \", self.price, \" sweet is \",self.sweet)\n",
    "\n",
    "    def __del__(self): #소멸자\n",
    "        return \"소멸하였습니다.\"\n",
    "        \n",
    "# creating object of the class\n",
    "apple = Fruit(\"Apple\", \"red\",1000)\n",
    "apple.showme()\n",
    "\n",
    "\n",
    "apple.showme()\n",
    "\n",
    "\n",
    "banana = Fruit(\"Banana\",\"yello\",2000)\n",
    "banana.showme()\n",
    "\n",
    "print(banana)\n",
    "\n",
    "# Modifying Object Properties\n",
    "apple.name = \"Busa Apple\"\n",
    "\n",
    "# calling the instance method using the object obj\n",
    "apple.showme()\n",
    "# Output Fruit is strawberry and Color is red\n"
   ]
  },
  {
   "cell_type": "code",
   "execution_count": 17,
   "id": "0a4d4817-16c4-44ad-a5e2-0169f0f600d5",
   "metadata": {},
   "outputs": [
    {
     "name": "stdout",
     "output_type": "stream",
     "text": [
      "str : Iphone - {'color': 'White', 'price': 10000}\n",
      "str : Galaxy - {'color': 'Black', 'price': 8000}\n",
      "Current Id : 2092443432368\n",
      "Smartphone Detail Info : Iphone 10000\n",
      "Current Id : 2092443477040\n",
      "Smartphone Detail Info : Galaxy 8000\n",
      "Before Smartphone Price -> brand : Iphone, price : 10000\n",
      "Before Smartphone Price -> brand : Galaxy, price : 8000\n",
      "After Smartphone Price -> brand : Iphone, price : 12000.0\n",
      "After Smartphone Price -> brand : Galaxy, price : 9600.0\n",
      "After Smartphone Price -> brand : Iphone, price : 12000.0\n",
      "After Smartphone Price -> brand : Galaxy, price : 9600.0\n"
     ]
    }
   ],
   "source": [
    "class Smartphone:\n",
    "    \"\"\"\n",
    "    Smartphone Class\n",
    "    \"\"\"\n",
    "    smartphone_count = 0\n",
    "\n",
    "    def __init__(self, brand, informations):\n",
    "        self._brand = brand\n",
    "        self._informations = informations\n",
    "        Smartphone.smartphone_count += 1\n",
    "\n",
    "    def __str__(self):\n",
    "        return f'str : {self._brand} - {self._informations}'\n",
    "\n",
    "    def __repr__(self):\n",
    "        return f'repr : {self._brand} - {self._informations}'\n",
    "\n",
    "    def detail_info(self):\n",
    "        print(f'Current Id : {id(self)}')\n",
    "        print(f\"Smartphone Detail Info : {self._brand} {self._informations.get('price')}\")\n",
    "\n",
    "    def get_price(self):\n",
    "        return f\"Before Smartphone Price -> brand : {self._brand}, price : {self._informations.get('price')}\"\n",
    "\n",
    "    def get_price_culc(self):\n",
    "        return f\"After Smartphone Price -> brand : {self._brand}, price : {self._informations.get('price') * Smartphone.price_per_raise}\"\n",
    "\n",
    "    def raise_price(cls, per):\n",
    "        if per <= 1:\n",
    "            print('Please Enter 1 or More')\n",
    "            return\n",
    "        cls.price_per_raise = per\n",
    "        return 'Succeed! price increased.'\n",
    "\n",
    "    @staticmethod\n",
    "    def is_iphone(inst):\n",
    "        if inst._brand == 'Iphone':\n",
    "            return f'OK! This Smartphone is {inst._brand}.'\n",
    "\n",
    "        return 'Sorry. This Smartphone is not Iphone.'\n",
    "\n",
    "\n",
    "Smartphone1 = Smartphone('Iphone', {'color': 'White', 'price': 10000})\n",
    "Smartphone2 = Smartphone('Galaxy', {'color': 'Black', 'price': 8000})\n",
    "# 기본 정보\n",
    "print(Smartphone1)\n",
    "print(Smartphone2)\n",
    "\n",
    "Smartphone1.detail_info()\n",
    "Smartphone2.detail_info()\n",
    "\n",
    "print(Smartphone1.get_price())\n",
    "print(Smartphone2.get_price())\n",
    "\n",
    "# 가격 인상(클래스 메소드 미사용)\n",
    "# 이렇게 직접 접근은 좋지 않아요\n",
    "Smartphone.price_per_raise = 1.2\n",
    "\n",
    "# 가격 정보\n",
    "print(Smartphone1.get_price_culc())\n",
    "print(Smartphone2.get_price_culc())\n",
    "\n",
    "# 가격 인상\n",
    "Smartphone.raise_price(Smartphone1,1.6)\n",
    "\n",
    "# 가격 정보\n",
    "print(Smartphone1.get_price_culc())\n",
    "print(Smartphone2.get_price_culc())"
   ]
  },
  {
   "cell_type": "code",
   "execution_count": 6,
   "id": "4439871a-1201-459b-9848-98f78454d1d1",
   "metadata": {},
   "outputs": [
    {
     "ename": "IndentationError",
     "evalue": "unexpected indent (<ipython-input-6-7562a8745f69>, line 11)",
     "output_type": "error",
     "traceback": [
      "\u001b[1;36m  File \u001b[1;32m\"<ipython-input-6-7562a8745f69>\"\u001b[1;36m, line \u001b[1;32m11\u001b[0m\n\u001b[1;33m    read_data = f.read()\u001b[0m\n\u001b[1;37m    ^\u001b[0m\n\u001b[1;31mIndentationError\u001b[0m\u001b[1;31m:\u001b[0m unexpected indent\n"
     ]
    }
   ],
   "source": [
    "#r:읽기전용, w:쓰기전용(새로 쓴다... 기존 파일내용은 삭제), r+(읽고 쓰는것 동시에...)\n",
    "#a:업펜드, 추가...(삭제하지않고 추가...)\n",
    "#b:바이너리....\n",
    "\n",
    "\n",
    "f = open('work.txt', 'a')\n",
    "f.write(\"hello seoul\")\n",
    "f.close()\n",
    "\n",
    "f = open('work.txt', 'r+')\n",
    "read_data = f.read()\n",
    "print(read_data)\n",
    "\n",
    "f.close()\n",
    "\n"
   ]
  },
  {
   "cell_type": "code",
   "execution_count": 2,
   "id": "a81bf234-b4fe-4d10-9b06-93be751b8708",
   "metadata": {},
   "outputs": [
    {
     "ename": "UnicodeDecodeError",
     "evalue": "'cp949' codec can't decode byte 0xec in position 16: illegal multibyte sequence",
     "output_type": "error",
     "traceback": [
      "\u001b[1;31m---------------------------------------------------------------------------\u001b[0m",
      "\u001b[1;31mUnicodeDecodeError\u001b[0m                        Traceback (most recent call last)",
      "\u001b[1;32m<ipython-input-2-4609cfeb92f3>\u001b[0m in \u001b[0;36m<module>\u001b[1;34m\u001b[0m\n\u001b[0;32m      2\u001b[0m \u001b[1;32mwith\u001b[0m \u001b[0mopen\u001b[0m\u001b[1;33m(\u001b[0m\u001b[1;34m'work.txt'\u001b[0m\u001b[1;33m,\u001b[0m\u001b[1;34m'r+'\u001b[0m\u001b[1;33m)\u001b[0m \u001b[1;32mas\u001b[0m \u001b[0mf\u001b[0m\u001b[1;33m:\u001b[0m\u001b[1;33m\u001b[0m\u001b[1;33m\u001b[0m\u001b[0m\n\u001b[0;32m      3\u001b[0m \u001b[1;33m\u001b[0m\u001b[0m\n\u001b[1;32m----> 4\u001b[1;33m     \u001b[0mread_data\u001b[0m \u001b[1;33m=\u001b[0m \u001b[0mf\u001b[0m\u001b[1;33m.\u001b[0m\u001b[0mread\u001b[0m\u001b[1;33m(\u001b[0m\u001b[1;33m)\u001b[0m\u001b[1;33m\u001b[0m\u001b[1;33m\u001b[0m\u001b[0m\n\u001b[0m\u001b[0;32m      5\u001b[0m \u001b[1;33m\u001b[0m\u001b[0m\n\u001b[0;32m      6\u001b[0m \u001b[0mf\u001b[0m\u001b[1;33m.\u001b[0m\u001b[0mclose\u001b[0m\u001b[1;33m(\u001b[0m\u001b[1;33m)\u001b[0m\u001b[1;33m\u001b[0m\u001b[1;33m\u001b[0m\u001b[0m\n",
      "\u001b[1;31mUnicodeDecodeError\u001b[0m: 'cp949' codec can't decode byte 0xec in position 16: illegal multibyte sequence"
     ]
    }
   ],
   "source": [
    "#with로 오픈하면 중간에 파일을 잃어버릴 염려가 없다.\n",
    "with open('work.txt','r+') as f:\n",
    "    \n",
    "    read_data = f.read()\n",
    "        \n",
    "f.close()"
   ]
  }
 ],
 "metadata": {
  "kernelspec": {
   "display_name": "Python 3",
   "language": "python",
   "name": "python3"
  },
  "language_info": {
   "codemirror_mode": {
    "name": "ipython",
    "version": 3
   },
   "file_extension": ".py",
   "mimetype": "text/x-python",
   "name": "python",
   "nbconvert_exporter": "python",
   "pygments_lexer": "ipython3",
   "version": "3.8.8"
  }
 },
 "nbformat": 4,
 "nbformat_minor": 5
}
