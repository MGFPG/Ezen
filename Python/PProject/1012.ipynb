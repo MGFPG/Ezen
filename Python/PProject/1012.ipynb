{
 "cells": [
  {
   "cell_type": "code",
   "execution_count": 3,
   "id": "ecb8c3a5-40b8-4362-aa18-cf53c440ff47",
   "metadata": {},
   "outputs": [
    {
     "name": "stdout",
     "output_type": "stream",
     "text": [
      "3\n"
     ]
    }
   ],
   "source": [
    "sum = 0\n",
    "for i in range(3):\n",
    "    sum +=i\n",
    "    \n",
    "print(sum)\n",
    "    "
   ]
  },
  {
   "cell_type": "code",
   "execution_count": 5,
   "id": "6e9f1271-fa37-4f14-a9ab-7c2d72b428d5",
   "metadata": {},
   "outputs": [
    {
     "name": "stdout",
     "output_type": "stream",
     "text": [
      "2 x 2 2 x 3 2 x 4 2 x 5 2 x 6 2 x 7 2 x 8 3 x 2 3 x 3 3 x 4 3 x 5 3 x 6 3 x 7 3 x 8 4 x 2 4 x 3 4 x 4 4 x 5 4 x 6 4 x 7 4 x 8 5 x 2 5 x 3 5 x 4 5 x 5 5 x 6 5 x 7 5 x 8 6 x 2 6 x 3 6 x 4 6 x 5 6 x 6 6 x 7 6 x 8 7 x 2 7 x 3 7 x 4 7 x 5 7 x 6 7 x 7 7 x 8 8 x 2 8 x 3 8 x 4 8 x 5 8 x 6 8 x 7 8 x 8 "
     ]
    }
   ],
   "source": [
    "for i in range(2,9):\n",
    "    for j in range(2,9):\n",
    "        print(i,\"x\",j,end=\" \")"
   ]
  },
  {
   "cell_type": "code",
   "execution_count": 9,
   "id": "bb4692a1-7f37-47c2-82f6-f2551fd6d122",
   "metadata": {},
   "outputs": [],
   "source": [
    "i = 0\n",
    "sum = 0\n",
    "while i <= 100:\n",
    "    sum +=i\n",
    "    #print(i)\n",
    "    i +=2"
   ]
  },
  {
   "cell_type": "code",
   "execution_count": 3,
   "id": "c8596072-a1c8-481b-88c2-41e06ab95291",
   "metadata": {},
   "outputs": [
    {
     "name": "stdout",
     "output_type": "stream",
     "text": [
      "게임: 1 회:"
     ]
    },
    {
     "name": "stdin",
     "output_type": "stream",
     "text": [
      "컴퓨터가 생각하는 숫자는? 2\n"
     ]
    },
    {
     "name": "stdout",
     "output_type": "stream",
     "text": [
      "computer: 2 user: 2\n",
      "hit\n",
      "게임: 2 회:"
     ]
    },
    {
     "name": "stdin",
     "output_type": "stream",
     "text": [
      "컴퓨터가 생각하는 숫자는? 2\n"
     ]
    },
    {
     "name": "stdout",
     "output_type": "stream",
     "text": [
      "computer: 3 user: 2\n",
      "lose\n",
      "게임: 3 회:"
     ]
    },
    {
     "name": "stdin",
     "output_type": "stream",
     "text": [
      "컴퓨터가 생각하는 숫자는? 1\n"
     ]
    },
    {
     "name": "stdout",
     "output_type": "stream",
     "text": [
      "computer: 5 user: 1\n",
      "lose\n",
      "게임: 4 회:"
     ]
    },
    {
     "name": "stdin",
     "output_type": "stream",
     "text": [
      "컴퓨터가 생각하는 숫자는? 1\n"
     ]
    },
    {
     "name": "stdout",
     "output_type": "stream",
     "text": [
      "computer: 5 user: 1\n",
      "lose\n",
      "게임: 5 회:"
     ]
    },
    {
     "name": "stdin",
     "output_type": "stream",
     "text": [
      "컴퓨터가 생각하는 숫자는? 1\n"
     ]
    },
    {
     "name": "stdout",
     "output_type": "stream",
     "text": [
      "computer: 1 user: 1\n",
      "hit\n",
      "게임: 6 회:"
     ]
    },
    {
     "name": "stdin",
     "output_type": "stream",
     "text": [
      "컴퓨터가 생각하는 숫자는? 2\n"
     ]
    },
    {
     "name": "stdout",
     "output_type": "stream",
     "text": [
      "computer: 3 user: 2\n",
      "lose\n",
      "게임: 7 회:"
     ]
    },
    {
     "name": "stdin",
     "output_type": "stream",
     "text": [
      "컴퓨터가 생각하는 숫자는? 2\n"
     ]
    },
    {
     "name": "stdout",
     "output_type": "stream",
     "text": [
      "computer: 2 user: 2\n",
      "hit\n",
      "게임: 8 회:"
     ]
    },
    {
     "name": "stdin",
     "output_type": "stream",
     "text": [
      "컴퓨터가 생각하는 숫자는? 3\n"
     ]
    },
    {
     "name": "stdout",
     "output_type": "stream",
     "text": [
      "computer: 4 user: 3\n",
      "lose\n",
      "게임: 9 회:"
     ]
    },
    {
     "name": "stdin",
     "output_type": "stream",
     "text": [
      "컴퓨터가 생각하는 숫자는? 3\n"
     ]
    },
    {
     "name": "stdout",
     "output_type": "stream",
     "text": [
      "computer: 1 user: 3\n",
      "lose\n",
      "게임: 10 회:"
     ]
    },
    {
     "name": "stdin",
     "output_type": "stream",
     "text": [
      "컴퓨터가 생각하는 숫자는? 5\n"
     ]
    },
    {
     "name": "stdout",
     "output_type": "stream",
     "text": [
      "computer: 4 user: 5\n",
      "lose\n",
      "win: 3\n"
     ]
    }
   ],
   "source": [
    "import random\n",
    "\n",
    "name = \"홍길동\"\n",
    "computer,user = 1,1 #초기화\n",
    "\n",
    "win = 0\n",
    "for i in range(1,11,1):\n",
    "    computer = random.randint(1,5)\n",
    "    print(\"게임:\",i,\"회:\",end='')\n",
    "    user = int(input(\"컴퓨터가 생각하는 숫자는?\"))\n",
    "    \n",
    "    print(\"computer:\",computer,\"user:\",user)\n",
    "    \n",
    "    if computer == user:\n",
    "        print(\"hit\")\n",
    "        win +=1\n",
    "    else:\n",
    "        print(\"lose\")\n",
    "        \n",
    "print(\"win:\",win)        "
   ]
  },
  {
   "cell_type": "code",
   "execution_count": 11,
   "id": "5d70a006-dbc2-4e75-b320-ac67732edf0b",
   "metadata": {},
   "outputs": [
    {
     "name": "stdout",
     "output_type": "stream",
     "text": [
      "4\n",
      "10\n",
      "20\n",
      "30\n",
      "40\n"
     ]
    }
   ],
   "source": [
    "#리스트 : 여러개의 값을 한번에 저장할 수 있는 그릇세트...\n",
    "\n",
    "numList = [10,20,30,40] #리스트는 [  ] 규칙을 지키자\n",
    "\n",
    "count = len(numList)\n",
    "\n",
    "print(count)\n",
    "\n",
    "for i in range(4):\n",
    "    print(numList[i])\n",
    "\n"
   ]
  },
  {
   "cell_type": "code",
   "execution_count": 15,
   "id": "41aadd05-7249-43f1-9a7d-7707f796f20d",
   "metadata": {},
   "outputs": [
    {
     "name": "stdout",
     "output_type": "stream",
     "text": [
      "9\n",
      "10\n",
      "20\n",
      "30\n",
      "40\n",
      "50\n",
      "60\n",
      "70\n",
      "80\n",
      "90\n"
     ]
    }
   ],
   "source": [
    "numList = [10,20,30,40,50,60,70,80,90] #리스트는 [  ] 규칙을 지키자\n",
    "\n",
    "count = len(numList)\n",
    "\n",
    "print(count)\n",
    "\n",
    "i = 0\n",
    "\n",
    "while i < count:\n",
    "    print(numList[i]) \n",
    "    i +=1"
   ]
  },
  {
   "cell_type": "code",
   "execution_count": 23,
   "id": "ba78d172-0eb5-45b7-919b-4a3d6e24eb3b",
   "metadata": {},
   "outputs": [
    {
     "name": "stdout",
     "output_type": "stream",
     "text": [
      "2\n",
      "b\n",
      "abc\n",
      "True\n",
      "True\n",
      "False\n"
     ]
    }
   ],
   "source": [
    "blankList = []\n",
    "\n",
    "mixList = [1,'a',\"abc\",\"True\",True,False]\n",
    "\n",
    "mixList[0] = 2\n",
    "mixList[1] = 'b'\n",
    "\n",
    "\n",
    "i = 0\n",
    "count = len(mixList)\n",
    "while i < count:\n",
    "    print(mixList[i]) \n",
    "    i +=1"
   ]
  },
  {
   "cell_type": "code",
   "execution_count": 19,
   "id": "c424b85e-5bbd-429f-bf5b-15a655870da7",
   "metadata": {},
   "outputs": [
    {
     "name": "stdout",
     "output_type": "stream",
     "text": [
      "1 번 학생은  '양' 입니다\n",
      "2 번 학생은  '양' 입니다\n",
      "3 번 학생은  '양' 입니다\n",
      "4 번 학생은  '미' 입니다\n",
      "5 번 학생은  '미' 입니다\n",
      "6 번 학생은  '우' 입니다\n",
      "7 번 학생은  '우' 입니다\n",
      "8 번 학생은 '수' 입니다\n",
      "9 번 학생은 '수' 입니다\n"
     ]
    }
   ],
   "source": [
    "student = [10,20,30,40,50,60,70,80,90] \n",
    "#학생 번호는 1번부터\n",
    "\n",
    "#80이상은 수, 60 이상은 우, 40 미만은 미, 나머지는 양\n",
    "\n",
    "#1번 학생은 수입니다.\n",
    "#2번 학생은 양입니다.\n",
    "\n",
    "i = 0\n",
    "count = len(student)\n",
    "while i < count:\n",
    "    #print(\"{}번 학생은 {}\".format(i,student[i]))\n",
    "    if student[i] >= 80:\n",
    "        print(i+1,\"번 학생은 \\'수\\' 입니다\")\n",
    "    elif student[i] >= 60:\n",
    "        print(i+1,\"번 학생은  \\'우\\' 입니다\")  \n",
    "    elif student[i] >= 40:\n",
    "        print(i+1,\"번 학생은  \\'미\\' 입니다\")  \n",
    "    else:\n",
    "        print(i+1,\"번 학생은  \\'양\\' 입니다\") \n",
    "              \n",
    "    #print('%d번 학생은 %d 점입니다'%(i,student[i]))\n",
    "   \n",
    "    i +=1\n"
   ]
  },
  {
   "cell_type": "code",
   "execution_count": 21,
   "id": "1e5ea93e-ea5e-477e-bb3e-b9128136411b",
   "metadata": {},
   "outputs": [
    {
     "name": "stdout",
     "output_type": "stream",
     "text": [
      "15\n",
      "23\n",
      "35\n",
      "43\n",
      "55\n",
      "63\n",
      "75\n",
      "83\n",
      "95\n"
     ]
    }
   ],
   "source": [
    "student = [10,20,30,40,50,60,70,80,90] \n",
    "count = len(student)\n",
    "\n",
    "for i in range(count):\n",
    "    if i%2==0:\n",
    "        student[i] += 5\n",
    "    else:\n",
    "        student[i] += 3        \n",
    "        \n",
    "    print(student[i])\n",
    "    \n",
    "    \n",
    "# 0을 포함 짝수 학생은 5점을 더하고 홀수 학생은 3점을 더해서 점수를 프린트"
   ]
  },
  {
   "cell_type": "code",
   "execution_count": 27,
   "id": "3be6520d-f2fa-4e35-9ff5-65fdff8184f2",
   "metadata": {},
   "outputs": [
    {
     "name": "stdout",
     "output_type": "stream",
     "text": [
      "[20, 10, 90, 80, 70, 60, 50, 40, 30, 20, 10]\n"
     ]
    }
   ],
   "source": [
    "student = [10,20,30,40,50,60,70,80,90,10,20] \n",
    "count = len(student)\n",
    "\n",
    "lcount = student.count(10)\n",
    "\n",
    "#student.sort(reverse=True)\n",
    "student.reverse()\n",
    "print(student)"
   ]
  },
  {
   "cell_type": "code",
   "execution_count": 35,
   "id": "11e668bf-cdfd-45ea-a8f4-2cf1a39dec67",
   "metadata": {},
   "outputs": [
    {
     "name": "stdout",
     "output_type": "stream",
     "text": [
      "100\n"
     ]
    }
   ],
   "source": [
    "students = [10,20,30,40,50,60,70,80,90,100] \n",
    "\n",
    "#for i in range(10,0,-2):\n",
    "#    print(i)\n",
    "print(students[-1])\n",
    "\n"
   ]
  },
  {
   "cell_type": "code",
   "execution_count": 5,
   "id": "e9d1e9bb-fe7a-414e-a493-d42ab681e4a0",
   "metadata": {},
   "outputs": [
    {
     "name": "stdout",
     "output_type": "stream",
     "text": [
      "[90, 80, 70, 60, 50, 40, 30, 20, 20, 10, 10]\n",
      "[90, 80, 70, 60, 50, 40, 30, 20, 10, 10]\n"
     ]
    }
   ],
   "source": [
    "students = [10,20,30,40,50,60,70,80,90,10,20] \n",
    "\n",
    "students.sort()\n",
    "students.reverse()\n",
    "print(students)\n",
    "students.remove(20)\n",
    "student2 = students.copy()\n",
    "\n",
    "print(student2)"
   ]
  },
  {
   "cell_type": "code",
   "execution_count": 7,
   "id": "22b9e4c0-e80a-4c6a-a580-821fb74f6267",
   "metadata": {},
   "outputs": [
    {
     "name": "stdout",
     "output_type": "stream",
     "text": [
      "[10, 20, 30, 50, 60, 70, 80, 90]\n"
     ]
    }
   ],
   "source": [
    "students = [1,2,3,10,20,30,40,50,60,70,80,90] \n",
    "\n",
    "del students[3]\n",
    "#students.remove(20)\n",
    "print(students)"
   ]
  },
  {
   "cell_type": "code",
   "execution_count": 23,
   "id": "5fb2972d-090a-4098-8732-2bff3a4e461b",
   "metadata": {},
   "outputs": [
    {
     "name": "stdout",
     "output_type": "stream",
     "text": [
      "1+4+7+\n",
      "2+5+8+\n",
      "3+6+9+\n",
      "[12, 15, 18]\n"
     ]
    }
   ],
   "source": [
    "numList = [[1,2,3],[4,5,6],[7,8,9]]\n",
    "\n",
    "sumList = [0,0,0]\n",
    "\n",
    "#print(numList[0][0])\n",
    "#줄: row,  칸:column\n",
    "\n",
    "for i in range(0,3):\n",
    "    for j in range(0,3):\n",
    "        \n",
    "        print(numList[j][i],end=\"+\")\n",
    "        \n",
    "        sumList[i] +=numList[j][i]\n",
    "        \n",
    "    print(\"\")\n",
    "\n",
    "\n",
    "print(sumList)        "
   ]
  },
  {
   "cell_type": "code",
   "execution_count": 25,
   "id": "87c13d61-2003-4379-b500-18667402fbf1",
   "metadata": {},
   "outputs": [
    {
     "name": "stdout",
     "output_type": "stream",
     "text": [
      "numList[0][0]\n",
      "numList[1][0]\n",
      "numList[2][0]\n",
      "numList[0][1]\n",
      "numList[1][1]\n",
      "numList[2][1]\n",
      "numList[0][2]\n",
      "numList[1][2]\n",
      "numList[2][2]\n"
     ]
    }
   ],
   "source": [
    "numList = [[1,2,3],[4,5,6],[7,8,9]]\n",
    "\n",
    "sumList = [0,0,0]\n",
    "\n",
    "#print(numList[0][0])\n",
    "\n",
    "for i in range(0,3):\n",
    "    for j in range(0,3):\n",
    "        print(\"numList[{}][{}]\".format(j,i))"
   ]
  },
  {
   "cell_type": "code",
   "execution_count": 29,
   "id": "8c20515b-7a1f-4c49-88db-1c7eb8686f6f",
   "metadata": {},
   "outputs": [
    {
     "name": "stdout",
     "output_type": "stream",
     "text": [
      "[10, 20, 30, 40, 50, 60, 70, 80, 90, 200]\n"
     ]
    }
   ],
   "source": [
    "ss = [10,20,30,40,50,60,70,80,90] \n",
    "\n",
    "ss += [200]\n",
    "#ss.append(100)\n",
    "\n",
    "print(ss)"
   ]
  },
  {
   "cell_type": "code",
   "execution_count": 30,
   "id": "46f42922-d5a6-42e2-98a3-dec3a49f11c2",
   "metadata": {},
   "outputs": [
    {
     "name": "stdout",
     "output_type": "stream",
     "text": [
      "numList[0][0]\n"
     ]
    },
    {
     "ename": "TypeError",
     "evalue": "'int' object does not support item assignment",
     "output_type": "error",
     "traceback": [
      "\u001b[1;31m---------------------------------------------------------------------------\u001b[0m",
      "\u001b[1;31mTypeError\u001b[0m                                 Traceback (most recent call last)",
      "\u001b[1;32m<ipython-input-30-c80c5d5800c2>\u001b[0m in \u001b[0;36m<module>\u001b[1;34m\u001b[0m\n\u001b[0;32m      9\u001b[0m     \u001b[1;32mfor\u001b[0m \u001b[0mj\u001b[0m \u001b[1;32min\u001b[0m \u001b[0mrange\u001b[0m\u001b[1;33m(\u001b[0m\u001b[1;36m0\u001b[0m\u001b[1;33m,\u001b[0m\u001b[1;36m3\u001b[0m\u001b[1;33m)\u001b[0m\u001b[1;33m:\u001b[0m\u001b[1;33m\u001b[0m\u001b[1;33m\u001b[0m\u001b[0m\n\u001b[0;32m     10\u001b[0m         \u001b[0mprint\u001b[0m\u001b[1;33m(\u001b[0m\u001b[1;34m\"numList[{}][{}]\"\u001b[0m\u001b[1;33m.\u001b[0m\u001b[0mformat\u001b[0m\u001b[1;33m(\u001b[0m\u001b[0mi\u001b[0m\u001b[1;33m,\u001b[0m\u001b[0mj\u001b[0m\u001b[1;33m)\u001b[0m\u001b[1;33m)\u001b[0m\u001b[1;33m\u001b[0m\u001b[1;33m\u001b[0m\u001b[0m\n\u001b[1;32m---> 11\u001b[1;33m         \u001b[0msumList\u001b[0m\u001b[1;33m[\u001b[0m\u001b[0mi\u001b[0m\u001b[1;33m]\u001b[0m\u001b[1;33m[\u001b[0m\u001b[0mj\u001b[0m\u001b[1;33m]\u001b[0m \u001b[1;33m=\u001b[0m \u001b[0mnumList1\u001b[0m\u001b[1;33m[\u001b[0m\u001b[0mi\u001b[0m\u001b[1;33m]\u001b[0m\u001b[1;33m[\u001b[0m\u001b[0mj\u001b[0m\u001b[1;33m]\u001b[0m \u001b[1;33m+\u001b[0m \u001b[0mnumList2\u001b[0m\u001b[1;33m[\u001b[0m\u001b[0mi\u001b[0m\u001b[1;33m]\u001b[0m\u001b[1;33m[\u001b[0m\u001b[0mj\u001b[0m\u001b[1;33m]\u001b[0m\u001b[1;33m\u001b[0m\u001b[1;33m\u001b[0m\u001b[0m\n\u001b[0m\u001b[0;32m     12\u001b[0m \u001b[1;33m\u001b[0m\u001b[0m\n\u001b[0;32m     13\u001b[0m \u001b[0mprint\u001b[0m\u001b[1;33m(\u001b[0m\u001b[0msumList\u001b[0m\u001b[1;33m)\u001b[0m\u001b[1;33m\u001b[0m\u001b[1;33m\u001b[0m\u001b[0m\n",
      "\u001b[1;31mTypeError\u001b[0m: 'int' object does not support item assignment"
     ]
    }
   ],
   "source": [
    "numList1 = [[1,2,3],[4,5,6],[7,8,9]]\n",
    "numList2 = [[1,2,3],[4,5,6],[7,8,9]]\n",
    "\n",
    "sumList = [0,0,0]\n",
    "\n",
    "#print(numList[0][0])\n",
    "\n",
    "for i in range(0,3):\n",
    "    for j in range(0,3):\n",
    "        print(\"numList[{}][{}]\".format(i,j))\n",
    "        sumList[i][j] = numList1[i][j] + numList2[i][j] \n",
    "\n",
    "print(sumList)"
   ]
  },
  {
   "cell_type": "code",
   "execution_count": 4,
   "id": "f11eba05-75d9-490a-a5b4-9f19e270fc1f",
   "metadata": {},
   "outputs": [
    {
     "name": "stdout",
     "output_type": "stream",
     "text": [
      "3\n",
      "[[2, 4, 6], [8, 10, 12], [14, 16, 18]]\n"
     ]
    }
   ],
   "source": [
    "numList1 = [[1,2,3],[4,5,6],[7,8,9]]\n",
    "numList2 = [[1,2,3],[4,5,6],[7,8,9]]\n",
    "\n",
    "sumList = [[0,0,0],[0,0,0],[0,0,0]]\n",
    "\n",
    "len1 = len(numList1)\n",
    "len2 = len(numList2)\n",
    "\n",
    "print(len(numList1))\n",
    "#print(numList[0][0])\n",
    "\n",
    "for i in range(0,len1):\n",
    "    for j in range(0,len2):\n",
    "        #print(\"numList[{}][{}]\".format(i,j))\n",
    "        sumList[i][j] = numList1[i][j] + numList2[i][j] \n",
    "\n",
    "print(sumList)"
   ]
  },
  {
   "cell_type": "code",
   "execution_count": 5,
   "id": "afaf1c0a-882b-41e9-aab0-73e404346379",
   "metadata": {},
   "outputs": [
    {
     "name": "stdout",
     "output_type": "stream",
     "text": [
      "[0, 1, 2, 3, 4, 5, 6, 7, 8, 9]\n"
     ]
    }
   ],
   "source": [
    "import random\n",
    "#list1 = list(range(10))\n",
    "\n",
    "list1 = [i*2 for i in range(10)]   \n",
    "\n",
    "list1 = [i for i in range(10)]  \n",
    "\n",
    "print(list1)\n"
   ]
  },
  {
   "cell_type": "code",
   "execution_count": 7,
   "id": "36a05322-50dd-4fff-acf4-405910b31794",
   "metadata": {},
   "outputs": [
    {
     "name": "stdout",
     "output_type": "stream",
     "text": [
      "[0, 1, 2]\n"
     ]
    }
   ],
   "source": [
    "list1 = list(range(10))\n",
    "\n",
    "print(list1[0:3])"
   ]
  },
  {
   "cell_type": "code",
   "execution_count": null,
   "id": "be085de0-7a8f-4d49-848a-3759c5b4f58f",
   "metadata": {},
   "outputs": [],
   "source": [
    "\n",
    "a = 1\n",
    "b = 2\n",
    "\n",
    "a,b = b,a\n",
    "\n"
   ]
  },
  {
   "cell_type": "code",
   "execution_count": 15,
   "id": "9beb26b9-8706-45ef-9682-fb2669085395",
   "metadata": {},
   "outputs": [
    {
     "name": "stdout",
     "output_type": "stream",
     "text": [
      "before: [1, 4, 8, 9, 6, 6, 8, 8, 8, 5]\n",
      "after: [1, 4, 5, 6, 6, 8, 8, 8, 8, 9]\n"
     ]
    }
   ],
   "source": [
    "import random\n",
    "\n",
    "def bubbleSort(list):\n",
    "    for i in range(0,len(list)-1):\n",
    "        for j in range(i,len(list)):\n",
    "            if list[i] > list[j]:\n",
    "                list[i],list[j] = list[j],list[i]\n",
    "                \n",
    "                \n",
    "list = [random.randint(1,10) for i in range(10)]      #랜덤한 10개 수 만들기...          \n",
    "\n",
    "print(\"before:\",list)\n",
    "bubbleSort(list)\n",
    "print(\"after:\",list)"
   ]
  },
  {
   "cell_type": "code",
   "execution_count": 12,
   "id": "390529fc-5b80-4db9-aae4-2e24f2d22367",
   "metadata": {},
   "outputs": [
    {
     "name": "stdout",
     "output_type": "stream",
     "text": [
      "1 2\n",
      "2 1\n"
     ]
    }
   ],
   "source": [
    "i,j = 1,2 #초기화....\n",
    "print(i,j)\n",
    "\n",
    "i,j = j,i\n",
    "print(i,j)\n"
   ]
  },
  {
   "cell_type": "code",
   "execution_count": 13,
   "id": "70732243-1e6c-4ee6-b410-f283fa02500c",
   "metadata": {},
   "outputs": [
    {
     "name": "stdout",
     "output_type": "stream",
     "text": [
      "2 1\n"
     ]
    }
   ],
   "source": [
    "i = 1\n",
    "j = 2\n",
    "\n",
    "t = i\n",
    "i = j\n",
    "j = t\n",
    "\n",
    "\n",
    "print(i,j)"
   ]
  },
  {
   "cell_type": "code",
   "execution_count": 20,
   "id": "b31af648-e5d1-48b4-a9cd-60dcbd379ed5",
   "metadata": {},
   "outputs": [
    {
     "name": "stdout",
     "output_type": "stream",
     "text": [
      "3.4\n",
      "40\n",
      "15\n",
      "32\n",
      "64\n",
      "-4\n",
      "11\n"
     ]
    }
   ],
   "source": [
    "temp = [40,15,32,64,-4,11] #화씨\n",
    "#섭씨.... = (화씨 - 32) * 5/9\n",
    " \n",
    "i = round(3.42323,1)  #소수점 이하 1자리까지..\n",
    "\n",
    "print(i)\n",
    "\n",
    "for c in temp:\n",
    "    print(c)\n",
    "    \n"
   ]
  },
  {
   "cell_type": "code",
   "execution_count": 21,
   "id": "acce9fe6-83a3-4048-900a-0d263b3adf48",
   "metadata": {},
   "outputs": [
    {
     "name": "stdout",
     "output_type": "stream",
     "text": [
      "[40, 15, 32, 64, -4, 11]\n"
     ]
    }
   ],
   "source": [
    "temp = [40,15,32,64,-4,11] #화씨\n",
    "\n",
    "def printList(t):\n",
    "    \n",
    "    \n",
    "    \n",
    "    return t\n",
    "    \n",
    "    \n",
    "r = printList(temp)    \n",
    "\n"
   ]
  },
  {
   "cell_type": "code",
   "execution_count": 24,
   "id": "89d9b838-bdec-4a78-8597-fcccf3fa8a05",
   "metadata": {},
   "outputs": [
    {
     "name": "stdout",
     "output_type": "stream",
     "text": [
      "[15, 32, -4, 11]\n"
     ]
    }
   ],
   "source": [
    "temp = [40,15,32,64,-4,11] #화씨\n",
    "\n",
    "del(temp[0])  #del() 함수는 값을 삭제... = remove()\n",
    "temp.remove(64)\n",
    "print(temp)"
   ]
  },
  {
   "cell_type": "code",
   "execution_count": 28,
   "id": "ae45fdbc-6032-4b29-a643-851f3fd070d7",
   "metadata": {},
   "outputs": [
    {
     "name": "stdout",
     "output_type": "stream",
     "text": [
      "abc\n"
     ]
    }
   ],
   "source": [
    "s = 'abc'\n",
    "\n",
    "print(s)\n"
   ]
  },
  {
   "cell_type": "code",
   "execution_count": 35,
   "id": "1f771c5f-a6da-4361-b3c1-981dea25c234",
   "metadata": {},
   "outputs": [
    {
     "name": "stdout",
     "output_type": "stream",
     "text": [
      "11\n",
      "-4\n",
      "64\n",
      "32\n",
      "15\n",
      "40\n"
     ]
    }
   ],
   "source": [
    "temp = [40,15,32,64,-4,11] #화씨\n",
    "\n",
    "\n",
    "for i in range(len(temp)):\n",
    "    #print(temp[i])\n",
    "    print(temp.pop())"
   ]
  },
  {
   "cell_type": "code",
   "execution_count": 49,
   "id": "8eac059b-198a-48d3-b078-9a0898ee18ab",
   "metadata": {},
   "outputs": [
    {
     "name": "stdout",
     "output_type": "stream",
     "text": [
      "['alpha', 'bravo', 'charlie', 'delta', 'echo', 'foxtrot', 'golf', 'hotel', 'india']\n",
      "['alpha', 'bravo', 'delta', 'hotel', 'india']\n",
      "['alpha', 'bravo', 'delta', 'hotel', 'india']\n"
     ]
    }
   ],
   "source": [
    "# 문자열이 5개인것만 뽑아서 다시 리스트를 만들라....\n",
    "a = ['alpha', 'bravo', 'charlie', 'delta', 'echo', 'foxtrot', 'golf', 'hotel', 'india']\n",
    "\n",
    "l = [i for i in a]\n",
    "b = [i for i in a if len(i)==5]\n",
    "\n",
    "c = []\n",
    "d = []\n",
    "\n",
    "j = 0\n",
    "for i in a:\n",
    "    if len(i)==5:\n",
    "        c.append(i)\n",
    "        #d[j] += i\n",
    "        #d.extend(i)\n",
    "        #j +=1\n",
    "        \n",
    "print(l)   \n",
    "print(b)\n",
    "print(c)\n",
    "#print(d)"
   ]
  },
  {
   "cell_type": "code",
   "execution_count": 50,
   "id": "026b0841-e3d2-45c7-994d-b157f9a264bd",
   "metadata": {},
   "outputs": [
    {
     "name": "stdout",
     "output_type": "stream",
     "text": [
      "m: -4 x: 64\n"
     ]
    }
   ],
   "source": [
    "temp = [40,15,32,64,-4,11]\n",
    "\n",
    "m = min(temp)\n",
    "x = max(temp)\n",
    "print(\"m:\",m,\"x:\",x)\n",
    "\n"
   ]
  }
 ],
 "metadata": {
  "kernelspec": {
   "display_name": "Python 3",
   "language": "python",
   "name": "python3"
  },
  "language_info": {
   "codemirror_mode": {
    "name": "ipython",
    "version": 3
   },
   "file_extension": ".py",
   "mimetype": "text/x-python",
   "name": "python",
   "nbconvert_exporter": "python",
   "pygments_lexer": "ipython3",
   "version": "3.8.8"
  }
 },
 "nbformat": 4,
 "nbformat_minor": 5
}
