{
 "cells": [
  {
   "cell_type": "code",
   "execution_count": 4,
   "id": "04373df0-6767-4d14-8d03-5cf4fc7a885f",
   "metadata": {},
   "outputs": [
    {
     "name": "stdout",
     "output_type": "stream",
     "text": [
      "55\n"
     ]
    }
   ],
   "source": [
    "sum=0\n",
    "for i in range(11):\n",
    "    sum+=i\n",
    "print(sum)\n",
    "    "
   ]
  },
  {
   "cell_type": "code",
   "execution_count": 7,
   "id": "f8ecd816-4f4c-420e-91b1-351668272a0a",
   "metadata": {},
   "outputs": [
    {
     "name": "stdout",
     "output_type": "stream",
     "text": [
      "2 X 2 2 X 3 2 X 4 2 X 5 2 X 6 2 X 7 2 X 8 3 X 2 3 X 3 3 X 4 3 X 5 3 X 6 3 X 7 3 X 8 4 X 2 4 X 3 4 X 4 4 X 5 4 X 6 4 X 7 4 X 8 5 X 2 5 X 3 5 X 4 5 X 5 5 X 6 5 X 7 5 X 8 6 X 2 6 X 3 6 X 4 6 X 5 6 X 6 6 X 7 6 X 8 7 X 2 7 X 3 7 X 4 7 X 5 7 X 6 7 X 7 7 X 8 8 X 2 8 X 3 8 X 4 8 X 5 8 X 6 8 X 7 8 X 8 "
     ]
    }
   ],
   "source": [
    "for i in range(2,9):\n",
    "    for j in range(2,9):\n",
    "        print(i,'X',j,end=' ')"
   ]
  },
  {
   "cell_type": "code",
   "execution_count": 9,
   "id": "55eb0a34-41bf-4738-beb9-b277f4a79685",
   "metadata": {},
   "outputs": [
    {
     "name": "stdout",
     "output_type": "stream",
     "text": [
      "0\n",
      "1\n",
      "2\n",
      "3\n",
      "4\n",
      "5\n",
      "6\n",
      "7\n",
      "8\n",
      "9\n",
      "10\n",
      "11\n",
      "12\n",
      "13\n",
      "14\n",
      "15\n",
      "16\n",
      "17\n",
      "18\n",
      "19\n",
      "20\n",
      "21\n",
      "22\n",
      "23\n",
      "24\n",
      "25\n",
      "26\n",
      "27\n",
      "28\n",
      "29\n",
      "30\n",
      "31\n",
      "32\n",
      "33\n",
      "34\n",
      "35\n",
      "36\n",
      "37\n",
      "38\n",
      "39\n",
      "40\n",
      "41\n",
      "42\n",
      "43\n",
      "44\n",
      "45\n",
      "46\n",
      "47\n",
      "48\n",
      "49\n",
      "50\n",
      "51\n",
      "52\n",
      "53\n",
      "54\n",
      "55\n",
      "56\n",
      "57\n",
      "58\n",
      "59\n",
      "60\n",
      "61\n",
      "62\n",
      "63\n",
      "64\n",
      "65\n",
      "66\n",
      "67\n",
      "68\n",
      "69\n",
      "70\n",
      "71\n",
      "72\n",
      "73\n",
      "74\n",
      "75\n",
      "76\n",
      "77\n",
      "78\n",
      "79\n",
      "80\n",
      "81\n",
      "82\n",
      "83\n",
      "84\n",
      "85\n",
      "86\n",
      "87\n",
      "88\n",
      "89\n",
      "90\n",
      "91\n",
      "92\n",
      "93\n",
      "94\n",
      "95\n",
      "96\n",
      "97\n",
      "98\n",
      "99\n",
      "i가 100이면 탈출\n"
     ]
    }
   ],
   "source": [
    "i=0\n",
    "while i < 300:\n",
    "    if i == 100:\n",
    "        print('i가 100이면 탈출')\n",
    "        break\n",
    "    print(i)\n",
    "    i+=1"
   ]
  },
  {
   "cell_type": "code",
   "execution_count": null,
   "id": "b68b9eb5-cf2e-479d-b3e6-7e170c306e30",
   "metadata": {},
   "outputs": [
    {
     "name": "stdout",
     "output_type": "stream",
     "text": [
      "게임: 1 회:"
     ]
    },
    {
     "name": "stdin",
     "output_type": "stream",
     "text": [
      "컴퓨터가 생각하는 숫자는? 3\n"
     ]
    },
    {
     "name": "stdout",
     "output_type": "stream",
     "text": [
      "lose\n",
      "게임: 2 회:"
     ]
    },
    {
     "name": "stdin",
     "output_type": "stream",
     "text": [
      "컴퓨터가 생각하는 숫자는? 5\n"
     ]
    },
    {
     "name": "stdout",
     "output_type": "stream",
     "text": [
      "lose\n",
      "게임: 3 회:"
     ]
    },
    {
     "name": "stdin",
     "output_type": "stream",
     "text": [
      "컴퓨터가 생각하는 숫자는? 2\n"
     ]
    },
    {
     "name": "stdout",
     "output_type": "stream",
     "text": [
      "lose\n",
      "게임: 4 회:"
     ]
    },
    {
     "name": "stdin",
     "output_type": "stream",
     "text": [
      "컴퓨터가 생각하는 숫자는? 1\n"
     ]
    },
    {
     "name": "stdout",
     "output_type": "stream",
     "text": [
      "lose\n",
      "게임: 5 회:"
     ]
    },
    {
     "name": "stdin",
     "output_type": "stream",
     "text": [
      "컴퓨터가 생각하는 숫자는? 6\n"
     ]
    },
    {
     "name": "stdout",
     "output_type": "stream",
     "text": [
      "lose\n",
      "게임: 6 회:"
     ]
    }
   ],
   "source": [
    "import random\n",
    "\n",
    "computer, user = 0,0\n",
    "win=0\n",
    "\n",
    "for i in range(1,11,1):\n",
    "    computer=random.randint(1,5)\n",
    "    print('게임:',i,'회:',end='')\n",
    "    user=int(input('컴퓨터가 생각하는 숫자는?'))\n",
    "    \n",
    "    prin('computer',computer,'user',user)\n",
    "    \n",
    "    if computer == user:\n",
    "        print('hit')\n",
    "        wint+=1\n",
    "        \n",
    "    else:\n",
    "        print('lose')\n",
    "\n",
    "print('win:',win)\n",
    "    "
   ]
  },
  {
   "cell_type": "code",
   "execution_count": 1,
   "id": "52ec8c73-e800-4309-919d-ffb004eac7e9",
   "metadata": {},
   "outputs": [
    {
     "name": "stdout",
     "output_type": "stream",
     "text": [
      "4\n",
      "10\n",
      "20\n",
      "30\n",
      "40\n"
     ]
    }
   ],
   "source": [
    "# 리스트: 여러개의 값을 한번에 저장하는 그릇\n",
    "\n",
    "numList=[10,20,30,40]\n",
    "\n",
    "count = len(numList)\n",
    "\n",
    "print(count)\n",
    "\n",
    "for i in range(4):\n",
    "    print(numList[i])"
   ]
  },
  {
   "cell_type": "code",
   "execution_count": 5,
   "id": "f2040e44-49eb-49b6-a949-bf3ed0029b8c",
   "metadata": {},
   "outputs": [
    {
     "name": "stdout",
     "output_type": "stream",
     "text": [
      "9\n",
      "10\n",
      "20\n",
      "30\n",
      "40\n",
      "50\n",
      "60\n",
      "70\n",
      "80\n",
      "90\n"
     ]
    }
   ],
   "source": [
    "numList=[10,20,30,40,50,60,70,80,90]\n",
    "\n",
    "count = len(numList)\n",
    "\n",
    "print(count)\n",
    "\n",
    "i=0\n",
    "\n",
    "while i<count:\n",
    "    print(numList[i])\n",
    "    i+=1"
   ]
  },
  {
   "cell_type": "code",
   "execution_count": 9,
   "id": "d4c9b5fe-f758-4d45-9824-f6eed6ffd38e",
   "metadata": {},
   "outputs": [
    {
     "name": "stdout",
     "output_type": "stream",
     "text": [
      "2\n",
      "b\n",
      "abc\n",
      "True\n",
      "True\n",
      "False\n",
      "<class 'list'>\n"
     ]
    }
   ],
   "source": [
    "blankList = []\n",
    "mixlist=[1,'a',\"abc\",\"True\",True,False]\n",
    "mixlist[0]=2\n",
    "mixlist[1]='b'\n",
    "\n",
    "i=0\n",
    "count = len(mixlist)\n",
    "while i<count:\n",
    "    print(mixlist[i])\n",
    "    i+=1\n",
    "\n",
    "print(type(blankList))"
   ]
  },
  {
   "cell_type": "code",
   "execution_count": 17,
   "id": "e811b1e4-d726-4ef8-901d-3eb1ab5b135d",
   "metadata": {},
   "outputs": [
    {
     "name": "stdout",
     "output_type": "stream",
     "text": [
      "1 번 학생은 '양' 입니다\n",
      "2 번 학생은 '양' 입니다\n",
      "3 번 학생은 '양' 입니다\n",
      "4 번 학생은 '미' 입니다\n",
      "5 번 학생은 '미' 입니다\n",
      "6 번 학생은 '우' 입니다\n",
      "7 번 학생은 '우' 입니다\n",
      "8 번 학생은 '수' 입니다\n",
      "9 번 학생은 '수' 입니다\n",
      "10 번 학생은 '수' 입니다\n"
     ]
    }
   ],
   "source": [
    "student = [10,20,30,40,50,60,70,80,90,100]\n",
    "#학생번호는 1번부터\n",
    "\n",
    "# 80이상은 수, 60이상은 우, 40미만은 미, 나머지는 양\n",
    "\n",
    "#1번학생은 수입니다\n",
    "#2번학생은 양입니다\n",
    "\n",
    "i=0\n",
    "count=len(student)\n",
    "while i < count:\n",
    "    #print(\"{}번 학생은 {}\".formart(i,student[i]))\n",
    "    if student[i] >= 80:\n",
    "        print(i+1,\"번 학생은 \\'수\\' 입니다\")\n",
    "    elif student[i] >= 60:\n",
    "        print(i+1,\"번 학생은 \\'우\\' 입니다\")\n",
    "    elif student[i] >= 40:\n",
    "        print(i+1,\"번 학생은 \\'미\\' 입니다\")\n",
    "    else:\n",
    "        print(i+1,\"번 학생은 \\'양\\' 입니다\")\n",
    "    #print(\"%d번 학생은 %d점입니다\"%(i+1,student[i]))\n",
    "    \n",
    "    i+=1"
   ]
  },
  {
   "cell_type": "code",
   "execution_count": null,
   "id": "f7075889-9f96-4d8e-adc9-d40f7c6460e1",
   "metadata": {},
   "outputs": [],
   "source": [
    "student = [10,20,30,40,50,60,70,80,90,100]\n",
    "\n",
    "#0을 포함한 짝수 학생은 5점을 더주고 홀수 학생은 3점 더주기\n",
    "count=len(student)\n",
    "\n",
    "for i in range(count):\n",
    "    if i%2 == 0:\n",
    "        i+=5\n",
    "        \n",
    "    print(student[i])"
   ]
  },
  {
   "cell_type": "code",
   "execution_count": 24,
   "id": "1f4438a2-407b-4d70-b84d-86c7adbeb71d",
   "metadata": {},
   "outputs": [
    {
     "name": "stdout",
     "output_type": "stream",
     "text": [
      "[20, 10, 90, 80, 70, 60, 50, 40, 30, 20, 10]\n"
     ]
    }
   ],
   "source": [
    "student = [10,20,30,40,50,60,70,80,90,10,20]\n",
    "count=len(student)\n",
    "\n",
    "lcount=student.count(10)\n",
    "\n",
    "#student.sort(reverse=True)\n",
    "student.reverse()\n",
    "print(student)"
   ]
  },
  {
   "cell_type": "code",
   "execution_count": 31,
   "id": "b5c80039-4ba4-4003-b10d-883f011d81de",
   "metadata": {},
   "outputs": [
    {
     "name": "stdout",
     "output_type": "stream",
     "text": [
      "[90, 80, 70, 60, 50, 40, 30, 20, 20, 10, 10]\n",
      "[90, 80, 70, 60, 50, 40, 30, 20, 10, 10]\n"
     ]
    }
   ],
   "source": [
    "student = [10,20,30,40,50,60,70,80,90,10,20]\n",
    "\n",
    "student.sort()\n",
    "student.reverse()\n",
    "print(student)\n",
    "\n",
    "student.remove(20)\n",
    "\n",
    "student2 = student.copy()\n",
    "\n",
    "print(student2)"
   ]
  },
  {
   "cell_type": "code",
   "execution_count": 35,
   "id": "a1f6aacf-1e65-4198-9ff2-cd4724ea6541",
   "metadata": {},
   "outputs": [
    {
     "name": "stdout",
     "output_type": "stream",
     "text": [
      "[1, 2, 3, 20, 30, 40, 50, 60, 70, 80, 90, 10, 20]\n"
     ]
    }
   ],
   "source": [
    "student = [1,2,3,10,20,30,40,50,60,70,80,90,10,20]\n",
    "\n",
    "del student[3]\n",
    "print(student)"
   ]
  },
  {
   "cell_type": "code",
   "execution_count": 38,
   "id": "be331e19-719f-4daa-81da-38ab7d16c46e",
   "metadata": {},
   "outputs": [
    {
     "name": "stdout",
     "output_type": "stream",
     "text": [
      "1\n",
      "1\n",
      "2\n",
      "3\n",
      "4\n",
      "5\n",
      "6\n",
      "7\n",
      "8\n",
      "9\n"
     ]
    }
   ],
   "source": [
    "numList=[[1,2,3],[4,5,6],[7,8,9]]\n",
    "print(numList[0][0])\n",
    "\n",
    "for i in range(0,3):\n",
    "    for j in range(0,3):\n",
    "        print(numList[i][j])"
   ]
  },
  {
   "cell_type": "code",
   "execution_count": 42,
   "id": "e30bb6fd-724e-40f8-a7bd-67bb287a69e1",
   "metadata": {},
   "outputs": [
    {
     "name": "stdout",
     "output_type": "stream",
     "text": [
      "1+4+7+\n",
      "2+5+8+\n",
      "3+6+9+\n",
      "[12, 15, 18]\n"
     ]
    }
   ],
   "source": [
    "numList=[[1,2,3],[4,5,6],[7,8,9]]\n",
    "sumList=[0,0,0]\n",
    "#print(numList[0][0])\n",
    "\n",
    "for i in range(0,3):\n",
    "    for j in range(0,3):\n",
    "        print(numList[j][i],end='+')\n",
    "        sumList[i]+=numList[j][i]\n",
    "    print('')\n",
    "    \n",
    "print(sumList)"
   ]
  },
  {
   "cell_type": "code",
   "execution_count": 44,
   "id": "40fa75e7-7af5-4cd0-9c44-8df2da32b142",
   "metadata": {},
   "outputs": [
    {
     "name": "stdout",
     "output_type": "stream",
     "text": [
      "[10, 20, 30, 40, 50, 60, 70, 80, 90, 200]\n"
     ]
    }
   ],
   "source": [
    "ss=[10,20,30,40,50,60,70,80,90]\n",
    "\n",
    "ss += [200]\n",
    "#ss.append(100)\n",
    "print(ss)"
   ]
  },
  {
   "cell_type": "code",
   "execution_count": 45,
   "id": "9c569467-db6a-4e5e-9f15-98d1307dd683",
   "metadata": {},
   "outputs": [
    {
     "name": "stdout",
     "output_type": "stream",
     "text": [
      "[[2, 4, 6], [8, 10, 12], [14, 16, 18]]\n"
     ]
    }
   ],
   "source": [
    "numList1=[[1,2,3],[4,5,6],[7,8,9]]\n",
    "numList2=[[1,2,3],[4,5,6],[7,8,9]]\n",
    "\n",
    "sumList=[[0,0,0],[0,0,0],[0,0,0]]\n",
    "\n",
    "for i in range(0,3):\n",
    "    for j in range(0,3):\n",
    "        sumList[i][j]=numList1[i][j]+numList2[i][j]\n",
    "        \n",
    "print(sumList)"
   ]
  },
  {
   "cell_type": "code",
   "execution_count": 46,
   "id": "683a04aa-a06f-4297-b38d-b77174fdaa5d",
   "metadata": {},
   "outputs": [
    {
     "name": "stdout",
     "output_type": "stream",
     "text": [
      "[0, 1, 2, 3, 4, 5, 6, 7, 8, 9]\n"
     ]
    }
   ],
   "source": [
    "list1 = list(range(10))\n",
    "print(list1)"
   ]
  },
  {
   "cell_type": "code",
   "execution_count": 48,
   "id": "5750c39c-ed84-41fe-a0a5-8b839cfb96f1",
   "metadata": {},
   "outputs": [
    {
     "name": "stdout",
     "output_type": "stream",
     "text": [
      "[0, 1, 2]\n"
     ]
    }
   ],
   "source": [
    "list2 = list(range(10))\n",
    "print(list2[0:3])"
   ]
  },
  {
   "cell_type": "code",
   "execution_count": 58,
   "id": "056e0ec7-9d9c-467f-8c0d-49f2804b629f",
   "metadata": {},
   "outputs": [
    {
     "name": "stdout",
     "output_type": "stream",
     "text": [
      "before: [5, 1, 2, 1, 4, 10, 7, 7, 4, 2]\n",
      "after: [1, 1, 2, 2, 4, 4, 5, 7, 7, 10]\n"
     ]
    }
   ],
   "source": [
    "import random\n",
    "def bubbleSort(list):\n",
    "    for i in range(0,len(list)-1):\n",
    "        for j in range(i,len(list)):\n",
    "            if list[i]>list[j]:\n",
    "                list[i],list[j]=list[j],list[i]\n",
    "                \n",
    "list=[random.randint(1,10) for _ in range(10)]      #랜덤한 수 10개 만들기\n",
    "\n",
    "print(\"before:\",list)\n",
    "bubbleSort(list)\n",
    "print(\"after:\",list)"
   ]
  },
  {
   "cell_type": "code",
   "execution_count": 72,
   "id": "568f35c4-c8da-416d-a74f-b5edbccbd26f",
   "metadata": {},
   "outputs": [
    {
     "ename": "SyntaxError",
     "evalue": "invalid syntax (<ipython-input-72-8c1780a46a1b>, line 7)",
     "output_type": "error",
     "traceback": [
      "\u001b[1;36m  File \u001b[1;32m\"<ipython-input-72-8c1780a46a1b>\"\u001b[1;36m, line \u001b[1;32m7\u001b[0m\n\u001b[1;33m    for c in range(list)\u001b[0m\n\u001b[1;37m                        ^\u001b[0m\n\u001b[1;31mSyntaxError\u001b[0m\u001b[1;31m:\u001b[0m invalid syntax\n"
     ]
    }
   ],
   "source": [
    "temp = [40,15,32,64,-4,11] #화씨\n",
    "#섭씨 = (화씨-34)*5/9\n",
    "\n",
    "y= round(3.4,1)  #소수점 1자리까지만\n",
    "print(y)\n",
    "\n",
    "for c in range(list)\n",
    "    c=(temp-32)*5/9\n",
    "    print(c)"
   ]
  },
  {
   "cell_type": "code",
   "execution_count": 75,
   "id": "21ae75ad-0e45-4c40-9636-dcb73f44f021",
   "metadata": {},
   "outputs": [],
   "source": [
    "temp = [40,15,32,64,-4,11]\n",
    "\n",
    "def printList(t):\n",
    "    \n",
    "    return t\n",
    "    \n",
    "    \n",
    "r=printList(temp)"
   ]
  },
  {
   "cell_type": "code",
   "execution_count": 77,
   "id": "3ae167cf-1b6b-40ef-8e7c-8d87e5fb2f33",
   "metadata": {},
   "outputs": [
    {
     "name": "stdout",
     "output_type": "stream",
     "text": [
      "[15, 32, -4, 11]\n"
     ]
    }
   ],
   "source": [
    "temp = [40,15,32,64,-4,11]\n",
    "\n",
    "del(temp[0])\n",
    "temp.remove(64)\n",
    "print(temp)"
   ]
  },
  {
   "cell_type": "code",
   "execution_count": 81,
   "id": "19f94030-e396-4ce9-91d8-21f3d4b86e83",
   "metadata": {},
   "outputs": [
    {
     "name": "stdout",
     "output_type": "stream",
     "text": [
      "11\n",
      "-4\n",
      "64\n",
      "32\n",
      "15\n",
      "40\n"
     ]
    }
   ],
   "source": [
    "temp = [40,15,32,64,-4,11]\n",
    "\n",
    "for i in range(len(temp)):\n",
    "    #print(temp[i])\n",
    "    print(temp.pop())\n",
    "    "
   ]
  },
  {
   "cell_type": "code",
   "execution_count": 92,
   "id": "573ff563-1532-4d4d-af46-5fa1d9419666",
   "metadata": {},
   "outputs": [
    {
     "name": "stdout",
     "output_type": "stream",
     "text": [
      "['alpha', 'bravo', 'charlie', 'delta', 'echo', 'foxtort', 'golf', 'hotel', 'india']\n",
      "['alpha', 'bravo', 'delta', 'hotel', 'india']\n",
      "['alpha', 'bravo', 'delta', 'hotel', 'india']\n"
     ]
    }
   ],
   "source": [
    "a = ['alpha','bravo','charlie','delta','echo','foxtort','golf','hotel','india']\n",
    "\n",
    "l = [i for i in a]  #copy와 같음\n",
    "b = [i for i in a if len(i)==5]\n",
    "\n",
    "c = []\n",
    "d = []\n",
    "\n",
    "j=0\n",
    "\n",
    "for i in a:\n",
    "    if len(i)==5:\n",
    "        c.append(i)\n",
    "        #d[f]+=i\n",
    "        #d.extend(i)\n",
    "        #j+=i\n",
    "        \n",
    "print(l)\n",
    "print(c)\n",
    "print(b)\n",
    "#print(d)"
   ]
  },
  {
   "cell_type": "code",
   "execution_count": 94,
   "id": "9ea4f916-34ab-43fc-a1ea-70a4c2d10cf0",
   "metadata": {},
   "outputs": [
    {
     "name": "stdout",
     "output_type": "stream",
     "text": [
      "m: -4 x 64\n"
     ]
    }
   ],
   "source": [
    "#온도차가 가장 큰 것(가장 뜨거운-가장 차가운)\n",
    "temp = [40,15,32,64,-4,11]\n",
    "\n",
    "m = min(temp)\n",
    "x = max(temp)\n",
    "\n",
    "print('m:',m,'x',x)"
   ]
  },
  {
   "cell_type": "code",
   "execution_count": null,
   "id": "01c5b26e-d080-46d0-b551-27784a0ba391",
   "metadata": {},
   "outputs": [],
   "source": [
    "import numpy as np\n",
    "\n",
    "list1=[[1,2,3,4],[5,6,7,8],[9,'a,'b','c'],['d','e','f','g']]\n",
    "                            \n",
    "a = np"
   ]
  },
  {
   "cell_type": "code",
   "execution_count": null,
   "id": "a856ca06-fe2a-4b40-9e7a-81a810a0edcf",
   "metadata": {},
   "outputs": [],
   "source": [
    "from pIL import Image\n",
    "im = "
   ]
  }
 ],
 "metadata": {
  "kernelspec": {
   "display_name": "Python 3 (ipykernel)",
   "language": "python",
   "name": "python3"
  },
  "language_info": {
   "codemirror_mode": {
    "name": "ipython",
    "version": 3
   },
   "file_extension": ".py",
   "mimetype": "text/x-python",
   "name": "python",
   "nbconvert_exporter": "python",
   "pygments_lexer": "ipython3",
   "version": "3.9.7"
  }
 },
 "nbformat": 4,
 "nbformat_minor": 5
}
