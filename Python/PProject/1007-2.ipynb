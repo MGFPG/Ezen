{
 "cells": [
  {
   "cell_type": "code",
   "execution_count": 9,
   "id": "e118ceeb-f710-4d63-a025-9166707e42bd",
   "metadata": {},
   "outputs": [
    {
     "name": "stdout",
     "output_type": "stream",
     "text": [
      "100보다 작다\n"
     ]
    }
   ],
   "source": [
    "# if조건문\n",
    "num1 = 500\n",
    "num2 = 10\n",
    "\n",
    "if num1 > 1005 and num2 <40:\n",
    "    print(\"100보다 크다\")\n",
    "else:\n",
    "    print(\"100보다 작다\")"
   ]
  },
  {
   "cell_type": "code",
   "execution_count": 5,
   "id": "09af5bf5-3fb3-4970-b219-1f97ecdbd5f6",
   "metadata": {},
   "outputs": [
    {
     "name": "stdout",
     "output_type": "stream",
     "text": [
      "90년생이면서 여자\n"
     ]
    }
   ],
   "source": [
    "ssn = \"900222-2666851\"\n",
    "num1 = \"90\"\n",
    "num2 = \"2\"\n",
    "\n",
    "num1 = int(num1)\n",
    "num2 = int(num2)\n",
    "\n",
    "if num1 == 80 or not (num2 == 1):\n",
    "    print(\"90년생이면서 여자\")"
   ]
  },
  {
   "cell_type": "code",
   "execution_count": 41,
   "id": "0a55724f-d2ea-4060-b5f0-98429f1aa018",
   "metadata": {
    "tags": []
   },
   "outputs": [
    {
     "name": "stdout",
     "output_type": "stream",
     "text": [
      "Even\n"
     ]
    }
   ],
   "source": [
    "if 10%2 == 0:\n",
    "    print(\"Even\")\n",
    "else:\n",
    "    print(\"Odd\")"
   ]
  },
  {
   "cell_type": "code",
   "execution_count": 14,
   "id": "2a8ac707-8cee-446e-b8ae-9ca739646a7a",
   "metadata": {},
   "outputs": [
    {
     "name": "stdin",
     "output_type": "stream",
     "text": [
      "숫자를 입력하세요 :  6\n"
     ]
    },
    {
     "name": "stdout",
     "output_type": "stream",
     "text": [
      "5보다 크거나 10보다 작다\n"
     ]
    }
   ],
   "source": [
    "i = int(input(\"숫자를 입력하세요 : \"))\n",
    "\n",
    "if i < 1:\n",
    "    print(\"1보다 작다\")\n",
    "elif i < 10:\n",
    "    \n",
    "    # 1,2,3,4,     5,6,7,8,9\n",
    "    if i < 5 :\n",
    "        print(\"1보다 크거나 5보다 작다\")\n",
    "    elif i < 10:\n",
    "        print(\"5보다 크거나 10보다 작다\") \n",
    "else:\n",
    "    print(\"10보다 크다\")"
   ]
  },
  {
   "cell_type": "code",
   "execution_count": 15,
   "id": "e2e73fad-2ba7-4c14-8477-295e6c58b9e7",
   "metadata": {},
   "outputs": [
    {
     "name": "stdout",
     "output_type": "stream",
     "text": [
      "0\n",
      "1\n",
      "2\n",
      "3\n",
      "4\n",
      "5\n",
      "6\n",
      "7\n",
      "8\n",
      "9\n",
      "new line\n"
     ]
    }
   ],
   "source": [
    "#반복문\n",
    "for i in range(10):\n",
    "    print(i)\n",
    "print(\"new line\")"
   ]
  },
  {
   "cell_type": "code",
   "execution_count": 23,
   "id": "edee0e14-4f1a-4f4f-884c-b9900af02523",
   "metadata": {},
   "outputs": [
    {
     "name": "stdout",
     "output_type": "stream",
     "text": [
      "3-4-5-6-7-8-9-End\n"
     ]
    }
   ],
   "source": [
    "for i in range(3,10, 1): #range(시작, 끝(미만), 증분(정수))\n",
    "    print(i, end='-')\n",
    "print(\"End\")"
   ]
  },
  {
   "cell_type": "code",
   "execution_count": 28,
   "id": "1f3e7539-9f2d-4e16-81d5-f929aff67ad1",
   "metadata": {},
   "outputs": [
    {
     "name": "stdout",
     "output_type": "stream",
     "text": [
      "55\n"
     ]
    }
   ],
   "source": [
    "# 1~10까지의 합 구하기\n",
    "s = 0\n",
    "\n",
    "for i in range(11):\n",
    "    s += i\n",
    "print(s)"
   ]
  },
  {
   "cell_type": "code",
   "execution_count": 38,
   "id": "9921f691-32ae-432c-ae2c-c649077cd85b",
   "metadata": {},
   "outputs": [
    {
     "name": "stdout",
     "output_type": "stream",
     "text": [
      "0-2-4-6-8-10-30\n",
      "2\n",
      "4\n",
      "6\n",
      "8\n",
      "10\n",
      "60\n"
     ]
    }
   ],
   "source": [
    "# 1~10까지의 짝수의 합을 구하라\n",
    "s = 0\n",
    "\n",
    "for i in range(11):\n",
    "    if i%2 == 0:\n",
    "        print(i, end=\"-\")\n",
    "        s += i\n",
    "print(s)\n",
    "    \n",
    "\n",
    "for i in range(2, 11, 2):\n",
    "    print(i)\n",
    "    s += i\n",
    "print(s)"
   ]
  },
  {
   "cell_type": "code",
   "execution_count": 47,
   "id": "67a2f010-76d9-4197-b285-ab9e5ad96c4c",
   "metadata": {},
   "outputs": [
    {
     "ename": "SyntaxError",
     "evalue": "unexpected EOF while parsing (<ipython-input-47-fe8d27b9f69e>, line 5)",
     "output_type": "error",
     "traceback": [
      "\u001b[1;36m  File \u001b[1;32m\"<ipython-input-47-fe8d27b9f69e>\"\u001b[1;36m, line \u001b[1;32m5\u001b[0m\n\u001b[1;33m    else:\u001b[0m\n\u001b[1;37m         ^\u001b[0m\n\u001b[1;31mSyntaxError\u001b[0m\u001b[1;31m:\u001b[0m unexpected EOF while parsing\n"
     ]
    }
   ],
   "source": [
    "g = int(input(\"1보다 크고 100보다 작은 수를 입력하세요 : \"))\n",
    "\n",
    "if g \n",
    "\n",
    "else:\n"
   ]
  },
  {
   "cell_type": "code",
   "execution_count": 49,
   "id": "34d73a3f-ec78-4ff6-8803-09401701f17a",
   "metadata": {},
   "outputs": [
    {
     "name": "stdin",
     "output_type": "stream",
     "text": [
      "당신의 나이는 : 25\n"
     ]
    },
    {
     "name": "stdout",
     "output_type": "stream",
     "text": [
      "pass\n"
     ]
    }
   ],
   "source": [
    "# 20살이상이면 pass 아니면 go home\n",
    "\n",
    "num = 0\n",
    "age = int(input(\"당신의 나이는 :\"))\n",
    "\n",
    "if num > 19 or num < 20:\n",
    "    print(\"pass\")\n",
    "else:\n",
    "    print(\"go home\")"
   ]
  },
  {
   "cell_type": "code",
   "execution_count": 59,
   "id": "a2950d91-b869-4a93-bcbd-89566ecd2e54",
   "metadata": {},
   "outputs": [
    {
     "name": "stdout",
     "output_type": "stream",
     "text": [
      "*\n"
     ]
    }
   ],
   "source": [
    "# 자신의 영문이름에 a가 들어가면 *을 프린트 아니면 #을 프린트\n",
    "\n",
    "name = \"Lim Yea Rim\"\n",
    "\n",
    "if name.find(\"a\")>-1:\n",
    "    print(\"*\")\n",
    "\n",
    "else:\n",
    "    print(\"#\")"
   ]
  },
  {
   "cell_type": "code",
   "execution_count": 64,
   "id": "0348599a-7858-497e-8ed2-a7b0fd00ec0a",
   "metadata": {},
   "outputs": [
    {
     "ename": "TypeError",
     "evalue": "slice indices must be integers or None or have an __index__ method",
     "output_type": "error",
     "traceback": [
      "\u001b[1;31m---------------------------------------------------------------------------\u001b[0m",
      "\u001b[1;31mTypeError\u001b[0m                                 Traceback (most recent call last)",
      "\u001b[1;32m<ipython-input-64-7313b17d8db7>\u001b[0m in \u001b[0;36m<module>\u001b[1;34m\u001b[0m\n\u001b[0;32m      3\u001b[0m \u001b[1;33m\u001b[0m\u001b[0m\n\u001b[0;32m      4\u001b[0m \u001b[0mnamem\u001b[0m \u001b[1;33m=\u001b[0m \u001b[1;34m\"Lim Yea Rim\"\u001b[0m\u001b[1;33m\u001b[0m\u001b[1;33m\u001b[0m\u001b[0m\n\u001b[1;32m----> 5\u001b[1;33m \u001b[0mv\u001b[0m \u001b[1;33m=\u001b[0m \u001b[0mnamem\u001b[0m\u001b[1;33m.\u001b[0m\u001b[0mfind\u001b[0m\u001b[1;33m(\u001b[0m\u001b[1;34m\"a\"\u001b[0m\u001b[1;33m,\u001b[0m\u001b[1;34m\"e\"\u001b[0m\u001b[1;33m,\u001b[0m\u001b[1;34m\"i\"\u001b[0m\u001b[1;33m)\u001b[0m\u001b[1;33m\u001b[0m\u001b[1;33m\u001b[0m\u001b[0m\n\u001b[0m\u001b[0;32m      6\u001b[0m \u001b[0mv\u001b[0m \u001b[1;33m=\u001b[0m \u001b[0mnamem\u001b[0m\u001b[1;33m.\u001b[0m\u001b[0mcount\u001b[0m\u001b[1;33m(\u001b[0m\u001b[1;34m\"a\"\u001b[0m\u001b[1;33m,\u001b[0m\u001b[1;34m\"e\"\u001b[0m\u001b[1;33m,\u001b[0m\u001b[1;34m\"i\"\u001b[0m\u001b[1;33m)\u001b[0m\u001b[1;33m\u001b[0m\u001b[1;33m\u001b[0m\u001b[0m\n\u001b[0;32m      7\u001b[0m \u001b[0mprint\u001b[0m\u001b[1;33m(\u001b[0m\u001b[0mnamem\u001b[0m\u001b[1;33m)\u001b[0m\u001b[1;33m\u001b[0m\u001b[1;33m\u001b[0m\u001b[0m\n",
      "\u001b[1;31mTypeError\u001b[0m: slice indices must be integers or None or have an __index__ method"
     ]
    }
   ],
   "source": [
    "# 자신의 영문이름의 모음의 갯수를 프린트하시오\n",
    "# a,e,i,o,u\n",
    "\n",
    "namem = \"Lim Yea Rim\"\n",
    "v = namem.find(\"a\",\"e\",\"i\")\n",
    "v = namem.count(\"a\",\"e\",\"i\")\n",
    "print(namem)\n",
    "\n"
   ]
  },
  {
   "cell_type": "markdown",
   "id": "61ebdf68-6164-473e-adbe-d9b3c1cc7771",
   "metadata": {},
   "source": []
  }
 ],
 "metadata": {
  "kernelspec": {
   "display_name": "Python 3",
   "language": "python",
   "name": "python3"
  },
  "language_info": {
   "codemirror_mode": {
    "name": "ipython",
    "version": 3
   },
   "file_extension": ".py",
   "mimetype": "text/x-python",
   "name": "python",
   "nbconvert_exporter": "python",
   "pygments_lexer": "ipython3",
   "version": "3.8.8"
  }
 },
 "nbformat": 4,
 "nbformat_minor": 5
}
