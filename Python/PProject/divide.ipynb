{
 "cells": [
  {
   "cell_type": "code",
   "execution_count": 9,
   "id": "13a83c7d-3e8d-4bd1-a3c6-adfbe77b02bc",
   "metadata": {},
   "outputs": [
    {
     "name": "stdout",
     "output_type": "stream",
     "text": [
      "[['1']]\n",
      "[['2']]\n",
      "[['3']]\n",
      "[['4']]\n",
      "[['5']]\n",
      "[['6']]\n",
      "[['7']]\n",
      "[['8']]\n",
      "[['9']]\n",
      "[['a']]\n",
      "[['b']]\n",
      "[['c']]\n",
      "[['d']]\n",
      "[['e']]\n",
      "[['f']]\n",
      "[['g']]\n"
     ]
    }
   ],
   "source": [
    "import numpy as np\n",
    "\n",
    "list1 =[[1,2,3,4],\n",
    "        [5,6,7,8],\n",
    "        [9,'a','b','c'],\n",
    "        ['d','e','f','g']]\n",
    "a=np.array(list1)\n",
    "\n",
    "for i in range(4):\n",
    "    for j in range(4):\n",
    "        print(a[i:i+1,j:j+1])"
   ]
  },
  {
   "cell_type": "code",
   "execution_count": null,
   "id": "88ae3d8d-e19a-45cf-8842-4876ba724b35",
   "metadata": {},
   "outputs": [],
   "source": []
  }
 ],
 "metadata": {
  "kernelspec": {
   "display_name": "Python 3",
   "language": "python",
   "name": "python3"
  },
  "language_info": {
   "codemirror_mode": {
    "name": "ipython",
    "version": 3
   },
   "file_extension": ".py",
   "mimetype": "text/x-python",
   "name": "python",
   "nbconvert_exporter": "python",
   "pygments_lexer": "ipython3",
   "version": "3.8.8"
  }
 },
 "nbformat": 4,
 "nbformat_minor": 5
}
