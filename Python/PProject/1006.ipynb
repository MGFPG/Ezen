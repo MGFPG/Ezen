{
 "cells": [
  {
   "cell_type": "code",
   "execution_count": null,
   "id": "0f23d53c-0268-4699-bfc2-930b749d1408",
   "metadata": {},
   "outputs": [],
   "source": [
    "// % **2\n",
    "\\\n",
    "+=\n",
    "-=\n",
    "\n",
    "and or not"
   ]
  },
  {
   "cell_type": "code",
   "execution_count": 3,
   "id": "f23d2bf5-a291-40be-88e0-0f21ae28cb2f",
   "metadata": {},
   "outputs": [
    {
     "data": {
      "text/plain": [
       "True"
      ]
     },
     "execution_count": 3,
     "metadata": {},
     "output_type": "execute_result"
    }
   ],
   "source": [
    "True or False"
   ]
  },
  {
   "cell_type": "code",
   "execution_count": 7,
   "id": "44839cee-51aa-479e-9d9c-4a346d39cf56",
   "metadata": {},
   "outputs": [
    {
     "name": "stdout",
     "output_type": "stream",
     "text": [
      "4\n"
     ]
    }
   ],
   "source": [
    "not False\n",
    "print(2**2)"
   ]
  },
  {
   "cell_type": "code",
   "execution_count": null,
   "id": "daf05022-9437-4ef6-9101-52a9c6509168",
   "metadata": {},
   "outputs": [],
   "source": [
    "(2-2) * 3 + 34 / 4**2 \n",
    "\n",
    "#1: ()\n",
    "#2: **\n",
    "#3: + - ~ (+1,-1)   3 + (-1)  -(32+3*3)\n",
    "#4: * / // %\n",
    "#5: + - \n",
    "\n",
    "c = 10\n",
    "\n",
    "#논리 연산자   and or not"
   ]
  },
  {
   "cell_type": "code",
   "execution_count": 12,
   "id": "ec87d297-5271-4ea6-b7a5-0257a829e8db",
   "metadata": {},
   "outputs": [
    {
     "name": "stdout",
     "output_type": "stream",
     "text": [
      "abcdabcdabcd\n"
     ]
    }
   ],
   "source": [
    "#데이터형(type)\n",
    "#정수 : int  실수: float   문자열: str\n",
    "\n",
    "a = 1\n",
    "'a'\n",
    "\n",
    "print('abcd'*3)\n",
    "\n"
   ]
  },
  {
   "cell_type": "code",
   "execution_count": 20,
   "id": "957dcaec-5e58-4a29-affc-98ab36cc8b30",
   "metadata": {},
   "outputs": [
    {
     "name": "stdout",
     "output_type": "stream",
     "text": [
      "<class 'str'>\n",
      "3\n",
      "abc\n",
      "ABC\n"
     ]
    },
    {
     "data": {
      "text/plain": [
       "True"
      ]
     },
     "execution_count": 20,
     "metadata": {},
     "output_type": "execute_result"
    }
   ],
   "source": [
    "s = \"AbC\"\n",
    "#데이터의 타입을 알고싶은때 쓰는 평선\n",
    "print(type(s))\n",
    "\n",
    "print(len(s))\n",
    "\n",
    "print(s.lower()) # lower() 문자열을 소문자로 변경\n",
    "print(s.upper())"
   ]
  },
  {
   "cell_type": "code",
   "execution_count": 40,
   "id": "897ec03d-3b7c-4dc5-ace8-67f627efa6d7",
   "metadata": {},
   "outputs": [
    {
     "name": "stdout",
     "output_type": "stream",
     "text": [
      "-1\n",
      "C E\n"
     ]
    }
   ],
   "source": [
    "l = s.lower()\n",
    "c = s.upper()\n",
    "\n",
    "a.islower() #소문자 판별\n",
    "l.isupper()\n",
    "\n",
    "i = 1234\n",
    "a = \"ABBCDEFABBCDEFABBCDEFABBCDEFABBCDEFABBCDEFABBCDEFABBCDEFABBCDEFABBCDEF\" #인덱스 : 순서를 의미하는데 문자열(얼레이) \n",
    "print(a.find(\"BCE\",30))\n",
    "print(a[3],a[5])"
   ]
  },
  {
   "cell_type": "code",
   "execution_count": 39,
   "id": "bad00522-35b5-49d0-9f29-31eada227569",
   "metadata": {},
   "outputs": [
    {
     "name": "stdout",
     "output_type": "stream",
     "text": [
      "5\n"
     ]
    }
   ],
   "source": [
    "print(a.count(\"AB\"))"
   ]
  },
  {
   "cell_type": "code",
   "execution_count": 49,
   "id": "1e895249-42c6-4527-82fb-210b7feb4803",
   "metadata": {},
   "outputs": [
    {
     "name": "stdout",
     "output_type": "stream",
     "text": [
      "1 2 3\n",
      "6\n"
     ]
    }
   ],
   "source": [
    "def summery(a,b,c):\n",
    "    s = a + b + c + 10\n",
    "    return s\n",
    "\n",
    "\n",
    "\n",
    "def avg(a,b,c):    \n",
    "    print(a,b,c)  \n",
    "    su = summery(a,b,c)\n",
    "    print(su)\n",
    "    \n",
    "    return su/3\n",
    "    \n",
    "def school():\n",
    "    a = int(input(\"\"))\n",
    "    av = avg(a,b,c)\n",
    "    \n",
    "    \n",
    "school()\n",
    "\n",
    "\n",
    "#su = summery(1,2,3)    \n",
    "av = avg(1,2,3)\n",
    "print(av)"
   ]
  },
  {
   "cell_type": "code",
   "execution_count": null,
   "id": "3501cda5-f903-4907-8a0c-e7dc2cd08df1",
   "metadata": {},
   "outputs": [],
   "source": [
    "num = 99\n",
    "#조건문: if ~~~:  만약 ~~~라면 그럻지 않으면.... else:\n",
    "if num < 100:\n",
    "    print(\"100보다 작다\") \n",
    "else:\n",
    "    print(\"100보다 크다\")\n",
    "    \n",
    "    "
   ]
  },
  {
   "cell_type": "code",
   "execution_count": 51,
   "id": "19df0a20-42c7-4843-ab97-1655bc1a1fd0",
   "metadata": {},
   "outputs": [
    {
     "name": "stdout",
     "output_type": "stream",
     "text": [
      "100보다 크거나 같다\n",
      "100보다 크거나 같다\n",
      "100보다 크거나 같다\n"
     ]
    }
   ],
   "source": [
    "num = 100\n",
    "#조건문: if ~~~:  만약 ~~~라면 그럻지 않으면.... else:\n",
    "if num < 100:\n",
    "    print(\"100보다 작다\") \n",
    "elif num == 100:\n",
    "    print(\"100과 같다\")\n",
    "else:\n",
    "    print(\"100보다 크다\")\n",
    "    \n",
    "print(\"끝\")    "
   ]
  },
  {
   "cell_type": "code",
   "execution_count": 55,
   "id": "71a0bb32-e1ca-4930-b9f6-05be4b9d9e5e",
   "metadata": {},
   "outputs": [
    {
     "name": "stdin",
     "output_type": "stream",
     "text": [
      "점수를 입력하세요: 45\n"
     ]
    },
    {
     "name": "stdout",
     "output_type": "stream",
     "text": [
      "...\n"
     ]
    }
   ],
   "source": [
    "#90점 이상은 A, 75점 이상은 B,65점 이상은 C,나머지(65점 미만)는 F\n",
    "\n",
    "#점수를 입력받는데 짝수이면(if) 그대로 학점을 주고 홀수이면 1점을 더해서 학점을 \n",
    "#주세요.\n",
    "\n",
    "grade = int(input(\"점수를 입력하세요:\"))\n",
    "if grade==95:\n",
    "    print(\"A ...\")\n",
    "elif grade>=75:\n",
    "    print(\"B ...\")\n",
    "elif grade>=65:\n",
    "    print(\"C ...\")\n",
    "else:\n",
    "    print(\"F...\")    \n",
    "    \n",
    "    "
   ]
  },
  {
   "cell_type": "code",
   "execution_count": 64,
   "id": "0cf3f0d3-e0d0-4108-b3f8-d739c4160a46",
   "metadata": {},
   "outputs": [
    {
     "name": "stdin",
     "output_type": "stream",
     "text": [
      "점수를 입력하세요: 99\n"
     ]
    },
    {
     "name": "stdout",
     "output_type": "stream",
     "text": [
      "1\n"
     ]
    }
   ],
   "source": [
    "grade = int(input(\"점수를 입력하세요:\"))\n",
    "res = grade % 2\n",
    "\n",
    "\n",
    "print(res)\n",
    "\n",
    "if res == 1:\n",
    "    grade +=1\n",
    "    \n",
    "if grade>=95:\n",
    "    print(\"A ...\")\n",
    "elif grade>=75:\n",
    "    print(\"B ...\")\n",
    "elif grade>=65:\n",
    "    print(\"C ...\")\n",
    "else:\n",
    "    print(\"F...\")"
   ]
  }
 ],
 "metadata": {
  "kernelspec": {
   "display_name": "Python 3",
   "language": "python",
   "name": "python3"
  },
  "language_info": {
   "codemirror_mode": {
    "name": "ipython",
    "version": 3
   },
   "file_extension": ".py",
   "mimetype": "text/x-python",
   "name": "python",
   "nbconvert_exporter": "python",
   "pygments_lexer": "ipython3",
   "version": "3.8.8"
  }
 },
 "nbformat": 4,
 "nbformat_minor": 5
}
