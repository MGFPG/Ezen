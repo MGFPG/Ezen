{
 "cells": [
  {
   "cell_type": "code",
   "execution_count": 1,
   "id": "27402fb7-70a3-4ed5-a409-b79ad64ec015",
   "metadata": {},
   "outputs": [
    {
     "name": "stdout",
     "output_type": "stream",
     "text": [
      "Hi,Hello World\n"
     ]
    }
   ],
   "source": [
    "def print_hi(name):\n",
    "    print(f'Hi,{name}')\n",
    "    \n",
    "if __name__ == '__main__':\n",
    "    print_hi('Hello World')"
   ]
  },
  {
   "cell_type": "code",
   "execution_count": 2,
   "id": "4bcc3139-7aeb-4112-a364-d6e1d979561f",
   "metadata": {},
   "outputs": [
    {
     "name": "stdout",
     "output_type": "stream",
     "text": [
      "Hi,Hello Ezen\n"
     ]
    }
   ],
   "source": [
    "\n",
    "def print_ezen(name):\n",
    "    print(f'Hi,{name}')\n",
    "    \n",
    "if __name__ == '__main__':\n",
    "    print_hi('Hello Ezen')"
   ]
  },
  {
   "cell_type": "code",
   "execution_count": 3,
   "id": "35aa152d-1e6a-4dcc-aefe-0529e31e5c6b",
   "metadata": {},
   "outputs": [
    {
     "name": "stdout",
     "output_type": "stream",
     "text": [
      "5\n",
      "4\n",
      "Hello\n",
      "Hi,Lim YeaRim\n"
     ]
    }
   ],
   "source": [
    "def Add():\n",
    "    a = 2 #a는 변수, = 대입연산자\n",
    "    b = 3\n",
    "    c = (a + b)\n",
    "    \n",
    "    print(c)\n",
    "Add()\n",
    "\n",
    "def Add(a,b): #a,b 피라미터\n",
    "    c = a + b\n",
    "    print(c)\n",
    "    \n",
    "Add(1,3)\n",
    "\n",
    "a = 'a' #'a'는 문자(char), 'ab'는 문자열(string)\n",
    "print('Hello')\n",
    "print_hi('Lim YeaRim')\n"
   ]
  },
  {
   "cell_type": "code",
   "execution_count": 4,
   "id": "17c985ca-7b25-4bbf-83e3-c3b67ac27116",
   "metadata": {},
   "outputs": [
    {
     "name": "stdout",
     "output_type": "stream",
     "text": [
      "5\n",
      "9\n"
     ]
    }
   ],
   "source": [
    "def m():\n",
    "    a = 9\n",
    "    b = 4\n",
    "    c = (a - b)\n",
    "    print(c)\n",
    "m()\n",
    "\n",
    "def m(a,b):\n",
    "    c = a - b\n",
    "    print(c)\n",
    "m(10, 1)"
   ]
  },
  {
   "cell_type": "code",
   "execution_count": 5,
   "id": "8948506b-0e7c-4178-8f3c-668ccadd43ac",
   "metadata": {},
   "outputs": [
    {
     "name": "stdout",
     "output_type": "stream",
     "text": [
      "6\n"
     ]
    }
   ],
   "source": [
    "def xx(a,b):\n",
    "    c = a * b\n",
    "    print(c)\n",
    "xx(2,3)"
   ]
  },
  {
   "cell_type": "code",
   "execution_count": 6,
   "id": "7f4a8eac-8312-4d00-b3d1-e69a02719f22",
   "metadata": {},
   "outputs": [
    {
     "name": "stdout",
     "output_type": "stream",
     "text": [
      "Hi,홍길동\n"
     ]
    }
   ],
   "source": [
    "def print_name(name):\n",
    "    print(f'Hi,{name}') #{a}는 a의 실제 값을 써라\n",
    "    \n",
    "print_name(\"홍길동\")"
   ]
  },
  {
   "cell_type": "code",
   "execution_count": 7,
   "id": "aa88400e-5b79-4902-8d38-6dc20f78d3b1",
   "metadata": {},
   "outputs": [
    {
     "name": "stdout",
     "output_type": "stream",
     "text": [
      "Hi,홍홍홍은 25살 입니다\n"
     ]
    }
   ],
   "source": [
    "def print_nameAge(name,age):\n",
    "    print(f'Hi,{name}은 {age}살 입니다')\n",
    "    \n",
    "print_nameAge(\"홍홍홍\", \"25\")"
   ]
  },
  {
   "cell_type": "code",
   "execution_count": 8,
   "id": "c5db0f60-5083-4d92-82bc-b7acb8ea4a97",
   "metadata": {},
   "outputs": [],
   "source": [
    "\n",
    "#파이썬은 파이썬 코드를 입력할 수 있는 텍스트 에다터와 파이썬 코드를 실행할 수 있는 도구인 파이썬 인터프리터기 필요합니다.\n",
    "#왜 인터프린터언어의 인터벡티브 셀을 사용하는가?"
   ]
  },
  {
   "cell_type": "code",
   "execution_count": 9,
   "id": "535a094b-06a3-4b38-bc8e-df61d557da46",
   "metadata": {},
   "outputs": [
    {
     "name": "stdout",
     "output_type": "stream",
     "text": [
      "1 2 3\n",
      "f\n",
      "안녕\n",
      "안녕\n",
      "1,2\n",
      "1,2\n",
      "2,1\n",
      "1,2-안녕\n"
     ]
    }
   ],
   "source": [
    "print(1,2,3)\n",
    "print('f')\n",
    "print('안녕')\n",
    "print(\"안녕\")\n",
    "print(\"{},{}\". format(1,2))\n",
    "print(\"{0},{1}\". format('1',2))\n",
    "print(\"{1},{0}\". format('1',2))\n",
    "print(\"{},{}-{}\". format(1,2,'안녕'))"
   ]
  },
  {
   "cell_type": "code",
   "execution_count": 10,
   "id": "fb559858-c77b-40a7-8b6b-9fa90a5d2c81",
   "metadata": {},
   "outputs": [
    {
     "name": "stdout",
     "output_type": "stream",
     "text": [
      "1 2 3 4\n",
      "1234\n",
      "ab\n"
     ]
    }
   ],
   "source": [
    "print(1,2,3,4)\n",
    "print(1,2,3,4,sep='')\n",
    "print('a', end='')\n",
    "print('b')"
   ]
  },
  {
   "cell_type": "code",
   "execution_count": 11,
   "id": "a9bb8b53-be0e-48be-90a5-2a1832a07dfa",
   "metadata": {},
   "outputs": [
    {
     "name": "stdout",
     "output_type": "stream",
     "text": [
      "my name is ray, my birtday is 28\n",
      "apple : 120005, weight : 10.1\n"
     ]
    }
   ],
   "source": [
    "\n",
    "print('my name is %s, my birtday is %d' % ('ray',28))\n",
    "print('apple : %5d, weight : %2.1f' % (120005, 10.12))"
   ]
  },
  {
   "cell_type": "code",
   "execution_count": 12,
   "id": "08c183eb-4223-494e-9900-067d89fdad3b",
   "metadata": {},
   "outputs": [],
   "source": [
    "#\\n : 개행\n",
    "#\\t : 탭\n",
    "#\\\\ : 문자\n",
    "#\\' : 문자\n",
    "#\\\" : 문자\n",
    "#\\r : 캐리지 리턴\n",
    "#\\f : 폼 피드\n",
    "#\\a : 벨 소리\n",
    "#\\b : 백 스페이스\n",
    "#\\000 : 널 문자\n"
   ]
  },
  {
   "cell_type": "code",
   "execution_count": 13,
   "id": "0fcc489d-ba12-4d16-a8af-1d0c823254cd",
   "metadata": {},
   "outputs": [
    {
     "name": "stdout",
     "output_type": "stream",
     "text": [
      "'you'\n",
      "'you'\n",
      "\"you\"\n",
      "'you'\n",
      "\\you\\\n",
      "\n",
      "\n",
      "\n",
      "\n",
      "\t\t\t\t\ttest\n"
     ]
    }
   ],
   "source": [
    "\n",
    "print(\"'you'\")\n",
    "print('\\'you\\'')\n",
    "print('\"you\"')\n",
    "print(\"\"\"'you'\"\"\")\n",
    "print('\\\\you\\\\\\n\\n\\n\\n')\n",
    "print('\\t\\t\\t\\t\\ttest')"
   ]
  }
 ],
 "metadata": {
  "kernelspec": {
   "display_name": "Python 3",
   "language": "python",
   "name": "python3"
  },
  "language_info": {
   "codemirror_mode": {
    "name": "ipython",
    "version": 3
   },
   "file_extension": ".py",
   "mimetype": "text/x-python",
   "name": "python",
   "nbconvert_exporter": "python",
   "pygments_lexer": "ipython3",
   "version": "3.8.8"
  }
 },
 "nbformat": 4,
 "nbformat_minor": 5
}
