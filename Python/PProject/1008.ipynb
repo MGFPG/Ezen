{
 "cells": [
  {
   "cell_type": "code",
   "execution_count": 1,
   "id": "081db34e-aeee-4c39-bdb9-7517f30eb03b",
   "metadata": {},
   "outputs": [
    {
     "name": "stdout",
     "output_type": "stream",
     "text": [
      "i=> 0,before: 0 + 0After: 0\n",
      "i=> 1,i=> 2,i=> 3,before: 0 + 3After: 3\n",
      "i=> 4,i=> 5,i=> 6,before: 3 + 6After: 9\n",
      "i=> 7,i=> 8,i=> 9,before: 9 + 9After: 18\n",
      "i=> 10,i=> 11,i=> 12,before: 18 + 12After: 30\n",
      "sum: 30\n"
     ]
    }
   ],
   "source": [
    "#1~12까지 3의 배수\n",
    "\n",
    "s = 0\n",
    "\n",
    "for i in range(13):\n",
    "    print(\"i=>\",i,end=\",\")\n",
    "    \n",
    "    r = i % 3\n",
    "    \n",
    "    if r == 0:\n",
    "        print(\"before:\", s,\"+\",i, end='')\n",
    "        s +=i\n",
    "        print(\"After:\", s)\n",
    "        \n",
    "print(\"sum:\", s)\n"
   ]
  },
  {
   "cell_type": "code",
   "execution_count": 2,
   "id": "eaeaf0a8-db20-43e5-b900-a85dc91cd493",
   "metadata": {},
   "outputs": [
    {
     "name": "stdout",
     "output_type": "stream",
     "text": [
      "\n",
      "  2 단\n",
      "2 * 2 = 4 \n",
      "2 * 3 = 6 \n",
      "2 * 4 = 8 \n",
      "2 * 5 = 10 \n",
      "2 * 6 = 12 \n",
      "2 * 7 = 14 \n",
      "2 * 8 = 16 \n",
      "2 * 9 = 18 \n",
      "\n",
      "  3 단\n",
      "3 * 2 = 6 \n",
      "3 * 3 = 9 \n",
      "3 * 4 = 12 \n",
      "3 * 5 = 15 \n",
      "3 * 6 = 18 \n",
      "3 * 7 = 21 \n",
      "3 * 8 = 24 \n",
      "3 * 9 = 27 \n",
      "\n",
      "  4 단\n",
      "4 * 2 = 8 \n",
      "4 * 3 = 12 \n",
      "4 * 4 = 16 \n",
      "4 * 5 = 20 \n",
      "4 * 6 = 24 \n",
      "4 * 7 = 28 \n",
      "4 * 8 = 32 \n",
      "4 * 9 = 36 \n",
      "\n",
      "  5 단\n",
      "5 * 2 = 10 \n",
      "5 * 3 = 15 \n",
      "5 * 4 = 20 \n",
      "5 * 5 = 25 \n",
      "5 * 6 = 30 \n",
      "5 * 7 = 35 \n",
      "5 * 8 = 40 \n",
      "5 * 9 = 45 \n",
      "\n",
      "  6 단\n",
      "6 * 2 = 12 \n",
      "6 * 3 = 18 \n",
      "6 * 4 = 24 \n",
      "6 * 5 = 30 \n",
      "6 * 6 = 36 \n",
      "6 * 7 = 42 \n",
      "6 * 8 = 48 \n",
      "6 * 9 = 54 \n",
      "\n",
      "  7 단\n",
      "7 * 2 = 14 \n",
      "7 * 3 = 21 \n",
      "7 * 4 = 28 \n",
      "7 * 5 = 35 \n",
      "7 * 6 = 42 \n",
      "7 * 7 = 49 \n",
      "7 * 8 = 56 \n",
      "7 * 9 = 63 \n",
      "\n",
      "  8 단\n",
      "8 * 2 = 16 \n",
      "8 * 3 = 24 \n",
      "8 * 4 = 32 \n",
      "8 * 5 = 40 \n",
      "8 * 6 = 48 \n",
      "8 * 7 = 56 \n",
      "8 * 8 = 64 \n",
      "8 * 9 = 72 \n",
      "\n",
      "  9 단\n",
      "9 * 2 = 18 \n",
      "9 * 3 = 27 \n",
      "9 * 4 = 36 \n",
      "9 * 5 = 45 \n",
      "9 * 6 = 54 \n",
      "9 * 7 = 63 \n",
      "9 * 8 = 72 \n",
      "9 * 9 = 81 \n"
     ]
    }
   ],
   "source": [
    "for i in range(2,10):\n",
    "    print(\"\\n \",i,'단')\n",
    "    \n",
    "    for j in range(2,10):\n",
    "        print(i,'*',j,'=',i*j,'\\n',end='')"
   ]
  },
  {
   "cell_type": "code",
   "execution_count": 3,
   "id": "90d17191-4a57-4036-b4ba-0215ec6af4c3",
   "metadata": {},
   "outputs": [
    {
     "name": "stdout",
     "output_type": "stream",
     "text": [
      "Hello 0\n",
      "Hello 2\n",
      "Hello 4\n",
      "j: 0\n",
      "j: 1\n",
      "j: 2\n",
      "j: 3\n",
      "j: 4\n",
      "j: 5\n",
      "end j: 5\n"
     ]
    }
   ],
   "source": [
    "#while문\n",
    "\n",
    "i = 0\n",
    "while(i<10):\n",
    "    if i%2 == 0:\n",
    "        print('Hello', i)\n",
    "        \n",
    "    if i == 5:\n",
    "        \n",
    "        j = 0\n",
    "        while (j<10):\n",
    "            print('j:', j)\n",
    "            \n",
    "            if j == 5:\n",
    "                break\n",
    "            j += 1\n",
    "        print(\"end j:\", j)    \n",
    "        break\n",
    "    \n",
    "    i += 1"
   ]
  },
  {
   "cell_type": "code",
   "execution_count": 4,
   "id": "11c9f787-b33d-4987-b22c-68f94b41c17a",
   "metadata": {},
   "outputs": [
    {
     "name": "stdout",
     "output_type": "stream",
     "text": [
      "2 * 2 = 4\n",
      "2 * 3 = 6\n",
      "2 * 4 = 8\n",
      "2 * 5 = 10\n",
      "2 * 6 = 12\n",
      "2 * 7 = 14\n",
      "2 * 8 = 16\n",
      "2 * 9 = 18\n"
     ]
    }
   ],
   "source": [
    "i = 2\n",
    "j = 2\n",
    "\n",
    "while(j<10):\n",
    "    print(i,'*',j,'=',i*j)\n",
    "    j += 1"
   ]
  },
  {
   "cell_type": "code",
   "execution_count": 5,
   "id": "3ac89b48-2f14-4310-8ec0-3be2cf25cbb4",
   "metadata": {},
   "outputs": [
    {
     "name": "stdout",
     "output_type": "stream",
     "text": [
      "\n",
      "  2 단\n",
      "2 * 2 = 4 \n",
      "2 * 3 = 6 \n",
      "2 * 4 = 8 \n",
      "2 * 5 = 10 \n",
      "2 * 6 = 12 \n",
      "2 * 7 = 14 \n",
      "2 * 8 = 16 \n",
      "2 * 9 = 18 \n",
      "\n",
      "  3 단\n",
      "3 * 2 = 6 \n",
      "3 * 3 = 9 \n",
      "3 * 4 = 12 \n",
      "3 * 5 = 15 \n",
      "3 * 6 = 18 \n",
      "3 * 7 = 21 \n",
      "3 * 8 = 24 \n",
      "3 * 9 = 27 \n",
      "\n",
      "  4 단\n",
      "4 * 2 = 8 \n",
      "4 * 3 = 12 \n",
      "4 * 4 = 16 \n",
      "4 * 5 = 20 \n",
      "4 * 6 = 24 \n",
      "4 * 7 = 28 \n",
      "4 * 8 = 32 \n",
      "4 * 9 = 36 \n",
      "\n",
      "  5 단\n",
      "5 * 2 = 10 \n",
      "5 * 3 = 15 \n",
      "5 * 4 = 20 \n",
      "5 * 5 = 25 \n",
      "5 * 6 = 30 \n",
      "5 * 7 = 35 \n",
      "5 * 8 = 40 \n",
      "5 * 9 = 45 \n",
      "\n",
      "  6 단\n"
     ]
    }
   ],
   "source": [
    "i =2\n",
    "while i <10:\n",
    "    print('\\n ', i,'단')\n",
    "    \n",
    "    if i == 6: # 5단까지 출력\n",
    "        break\n",
    "    \n",
    "    j=2\n",
    "    while j<10:\n",
    "        print(i,'*',j,'=',i*j,'\\n',end='')\n",
    "        j+=1\n",
    "        \n",
    "    i+=1"
   ]
  },
  {
   "cell_type": "code",
   "execution_count": 6,
   "id": "ee13086b-90de-4da2-a944-cf7807dc4d91",
   "metadata": {},
   "outputs": [
    {
     "name": "stdout",
     "output_type": "stream",
     "text": [
      "i: 0\n",
      "i: 1\n",
      "i: 2\n",
      "i: 3\n",
      "i: 4\n",
      "i: 5\n"
     ]
    }
   ],
   "source": [
    "for i in range(10):\n",
    "    \n",
    "#    if i <= 5:      \n",
    "#        print('i',i)\n",
    "        \n",
    "        \n",
    "#    if i == 6:     \n",
    "#        break      # 참이면 반복문이면 탈출한다\n",
    "#    print('i',i)\n",
    "\n",
    "    \n",
    "    if i>5:   \n",
    "        continue    #참이면 다음문장을 수행하지 않고 바로 반복문으로 간다\n",
    "        \n",
    "    print('i:',i)\n"
   ]
  },
  {
   "cell_type": "code",
   "execution_count": 10,
   "id": "41606ea7-2d33-474e-9b51-9312f991ca1d",
   "metadata": {},
   "outputs": [
    {
     "name": "stdout",
     "output_type": "stream",
     "text": [
      "2\n",
      "4\n",
      "6\n",
      "8\n",
      "10\n"
     ]
    }
   ],
   "source": [
    "s = 0\n",
    "for i in range(2,11,2):\n",
    "    s = i * 2 \n",
    "    print(i)"
   ]
  },
  {
   "cell_type": "code",
   "execution_count": 7,
   "id": "8b24260d-908e-4882-ad0e-a4e5432333cc",
   "metadata": {},
   "outputs": [
    {
     "name": "stdout",
     "output_type": "stream",
     "text": [
      "-1683\n",
      "1\n",
      "5\n",
      "12\n",
      "22\n",
      "35\n",
      "51\n",
      "70\n",
      "92\n",
      "117\n",
      "145\n",
      "176\n",
      "210\n",
      "247\n",
      "287\n",
      "330\n",
      "376\n",
      "425\n",
      "477\n",
      "532\n",
      "590\n",
      "651\n",
      "715\n",
      "782\n",
      "852\n",
      "925\n",
      "1001\n",
      "1080\n",
      "1162\n",
      "1247\n",
      "1335\n",
      "1426\n",
      "1520\n",
      "1617\n",
      "1717\n"
     ]
    }
   ],
   "source": [
    "# 1에서 100까지 더하는데 3의 배수는 제외하시오. 단, continue문을 사용하시오.\n",
    "   \n",
    "n = 0\n",
    "s = 0\n",
    "\n",
    "while n < 100:\n",
    "    n += 1\n",
    "    if (n % 3) != 0: \n",
    "        continue\n",
    "    s -= n\n",
    "print(s)\n",
    "\n",
    "\n",
    "s = 0\n",
    "for i in range(1,101,3):\n",
    "    s+=i\n",
    "    if i%3 == 0:\n",
    "        continue   \n",
    "    print(s)"
   ]
  },
  {
   "cell_type": "code",
   "execution_count": 8,
   "id": "78ed0952-fc97-48fe-a4f9-ace18b4a9e61",
   "metadata": {},
   "outputs": [
    {
     "name": "stdout",
     "output_type": "stream",
     "text": [
      "1 잔째 입니다. 맛있게 드세요.\n",
      "잔액 :  1200\n",
      "2 잔째 입니다. 맛있게 드세요.\n",
      "잔액 :  1170\n",
      "3 잔째 입니다. 맛있게 드세요.\n",
      "잔액 :  1140\n",
      "4 잔째 입니다. 맛있게 드세요.\n",
      "잔액 :  1110\n",
      "5 잔째 입니다. 맛있게 드세요.\n",
      "잔액 :  1080\n",
      "6 잔째 입니다. 맛있게 드세요.\n",
      "잔액 :  1050\n",
      "7 잔째 입니다. 맛있게 드세요.\n",
      "잔액 :  1020\n",
      "8 잔째 입니다. 맛있게 드세요.\n",
      "잔액 :  990\n",
      "9 잔째 입니다. 맛있게 드세요.\n",
      "잔액 :  960\n",
      "10 잔째 입니다. 맛있게 드세요.\n",
      "잔액 :  930\n",
      "11 잔째 입니다. 맛있게 드세요.\n",
      "잔액 :  900\n",
      "12 잔째 입니다. 맛있게 드세요.\n",
      "잔액 :  870\n",
      "13 잔째 입니다. 맛있게 드세요.\n",
      "잔액 :  840\n",
      "14 잔째 입니다. 맛있게 드세요.\n",
      "잔액 :  810\n",
      "15 잔째 입니다. 맛있게 드세요.\n",
      "잔액 :  780\n",
      "16 잔째 입니다. 맛있게 드세요.\n",
      "잔액 :  750\n",
      "17 잔째 입니다. 맛있게 드세요.\n",
      "잔액 :  720\n",
      "18 잔째 입니다. 맛있게 드세요.\n",
      "잔액 :  690\n",
      "19 잔째 입니다. 맛있게 드세요.\n",
      "잔액 :  660\n",
      "20 잔째 입니다. 맛있게 드세요.\n",
      "잔액 :  630\n",
      "21 잔째 입니다. 맛있게 드세요.\n",
      "잔액 :  600\n",
      "22 잔째 입니다. 맛있게 드세요.\n",
      "잔액 :  570\n",
      "23 잔째 입니다. 맛있게 드세요.\n",
      "잔액 :  540\n",
      "24 잔째 입니다. 맛있게 드세요.\n",
      "잔액 :  510\n",
      "25 잔째 입니다. 맛있게 드세요.\n",
      "잔액 :  480\n",
      "26 잔째 입니다. 맛있게 드세요.\n",
      "잔액 :  450\n",
      "27 잔째 입니다. 맛있게 드세요.\n",
      "잔액 :  420\n",
      "28 잔째 입니다. 맛있게 드세요.\n",
      "잔액 :  390\n",
      "29 잔째 입니다. 맛있게 드세요.\n",
      "잔액 :  360\n",
      "30 잔째 입니다. 맛있게 드세요.\n",
      "잔액 :  330\n",
      "31 잔째 입니다. 맛있게 드세요.\n",
      "잔액 :  300\n",
      "32 잔째 입니다. 맛있게 드세요.\n",
      "잔액 :  270\n",
      "33 잔째 입니다. 맛있게 드세요.\n",
      "잔액 :  240\n",
      "34 잔째 입니다. 맛있게 드세요.\n",
      "잔액 :  210\n",
      "35 잔째 입니다. 맛있게 드세요.\n",
      "잔액 :  180\n",
      "36 잔째 입니다. 맛있게 드세요.\n",
      "잔액 :  150\n",
      "37 잔째 입니다. 맛있게 드세요.\n",
      "잔액 :  120\n",
      "38 잔째 입니다. 맛있게 드세요.\n",
      "잔액 :  90\n",
      "39 잔째 입니다. 맛있게 드세요.\n",
      "잔액 :  60\n",
      "40 잔째 입니다. 맛있게 드세요.\n",
      "잔액 :  30\n",
      "41 잔째 입니다. 맛있게 드세요.\n",
      "잔액 :  0\n",
      "잔액이 부족합니다.\n",
      "커피가 떨어졌습니다.\n"
     ]
    }
   ],
   "source": [
    "# 1230원이 있는데 한잔에 30원하는 자판기커피를 뽑는다\n",
    "# 뽑을 때마다 밋있게 드세요. 출력하고 모든 커피가 떨어지면 커피가 떨어졌습니다 출력한다\n",
    "# 마지막으로 잔액을 출력한다\n",
    "# 돈이 30원이 안되면 금액이 부족합니다 출력하기\n",
    "\n",
    "money = 1230\n",
    "i = 1\n",
    "\n",
    "while True:\n",
    "    money -= 30\n",
    "    print(i,\"잔째 입니다. 맛있게 드세요.\")\n",
    "    i+=1\n",
    "    print(\"잔액 : \", money) \n",
    "\n",
    "    if money <30:\n",
    "        print(\"잔액이 부족합니다.\")\n",
    "        break\n",
    "        \n",
    "print(\"커피가 떨어졌습니다.\")"
   ]
  },
  {
   "cell_type": "code",
   "execution_count": 3,
   "id": "55b3ff6e-66c1-425f-a8cf-6383fec81645",
   "metadata": {},
   "outputs": [
    {
     "name": "stdin",
     "output_type": "stream",
     "text": [
      "돈을 투입하세요: 200\n"
     ]
    },
    {
     "name": "stdout",
     "output_type": "stream",
     "text": [
      "300 원 부족합니다\n"
     ]
    },
    {
     "name": "stdin",
     "output_type": "stream",
     "text": [
      "돈을 투입하세요: 500\n"
     ]
    },
    {
     "name": "stdout",
     "output_type": "stream",
     "text": [
      "맛있게 드세요.\n"
     ]
    },
    {
     "name": "stdin",
     "output_type": "stream",
     "text": [
      "돈을 투입하세요: 600\n"
     ]
    },
    {
     "name": "stdout",
     "output_type": "stream",
     "text": [
      "맛있게 드세요. 거스름돈 100 원입니다.\n"
     ]
    },
    {
     "name": "stdin",
     "output_type": "stream",
     "text": [
      "돈을 투입하세요: 800\n"
     ]
    },
    {
     "name": "stdout",
     "output_type": "stream",
     "text": [
      "맛있게 드세요. 거스름돈 300 원입니다.\n"
     ]
    },
    {
     "name": "stdin",
     "output_type": "stream",
     "text": [
      "돈을 투입하세요: 250\n"
     ]
    },
    {
     "name": "stdout",
     "output_type": "stream",
     "text": [
      "250 원 부족합니다\n"
     ]
    },
    {
     "name": "stdin",
     "output_type": "stream",
     "text": [
      "돈을 투입하세요: 333\n"
     ]
    },
    {
     "name": "stdout",
     "output_type": "stream",
     "text": [
      "167 원 부족합니다\n"
     ]
    },
    {
     "name": "stdin",
     "output_type": "stream",
     "text": [
      "돈을 투입하세요: 850\n"
     ]
    },
    {
     "name": "stdout",
     "output_type": "stream",
     "text": [
      "맛있게 드세요. 거스름돈 350 원입니다.\n"
     ]
    },
    {
     "name": "stdin",
     "output_type": "stream",
     "text": [
      "돈을 투입하세요: 650\n"
     ]
    },
    {
     "name": "stdout",
     "output_type": "stream",
     "text": [
      "맛있게 드세요. 거스름돈 150 원입니다.\n"
     ]
    },
    {
     "name": "stdin",
     "output_type": "stream",
     "text": [
      "돈을 투입하세요: 520\n"
     ]
    },
    {
     "name": "stdout",
     "output_type": "stream",
     "text": [
      "맛있게 드세요. 거스름돈 20 원입니다.\n"
     ]
    },
    {
     "name": "stdin",
     "output_type": "stream",
     "text": [
      "돈을 투입하세요: 1000\n"
     ]
    },
    {
     "name": "stdout",
     "output_type": "stream",
     "text": [
      "맛있게 드세요. 거스름돈 500 원입니다.\n"
     ]
    },
    {
     "name": "stdin",
     "output_type": "stream",
     "text": [
      "돈을 투입하세요: 500\n"
     ]
    },
    {
     "name": "stdout",
     "output_type": "stream",
     "text": [
      "맛있게 드세요.\n"
     ]
    },
    {
     "name": "stdin",
     "output_type": "stream",
     "text": [
      "돈을 투입하세요: 600\n"
     ]
    },
    {
     "name": "stdout",
     "output_type": "stream",
     "text": [
      "맛있게 드세요. 거스름돈 100 원입니다.\n"
     ]
    },
    {
     "name": "stdin",
     "output_type": "stream",
     "text": [
      "돈을 투입하세요: 560\n"
     ]
    },
    {
     "name": "stdout",
     "output_type": "stream",
     "text": [
      "맛있게 드세요. 거스름돈 60 원입니다.\n",
      "품절되었습니다. 판매를 중지합니다.\n"
     ]
    }
   ],
   "source": [
    "### 하루에 10잔 파는 자판기 입니다. 한잔에 500원 입니다.\n",
    "# 돈을 입력받습니다. \n",
    "# 돈을 500원 받으면 커피한잔으로 끝\n",
    "# 돈이 500원이 넘으면 커피한잔 주고 거스름돈 출력\n",
    "# 돈이 500원이 안되면 얼마의 돈이 부족합니다. 출력\n",
    "# 커피가 품절되면 판매를 중지합니다. 출력하기\n",
    "\n",
    "coffee = 10\n",
    "\n",
    "while True:\n",
    "    money = int(input('돈을 투입하세요:'))\n",
    "    \n",
    "    if money>500:\n",
    "        t = money-500\n",
    "        print('맛있게 드세요. 거스름돈',t,'원입니다.')\n",
    "        coffee -= 1\n",
    "    elif money<500:\n",
    "        y = 500-money\n",
    "        print(y,'원 부족합니다')\n",
    "        continue\n",
    "    else:\n",
    "        if money == 500:\n",
    "            print('맛있게 드세요.')\n",
    "            coffee -= 1\n",
    "    if coffee == 0:\n",
    "        print('품절되었습니다. 판매를 중지합니다.')\n",
    "        break"
   ]
  },
  {
   "cell_type": "code",
   "execution_count": 1,
   "id": "aa67a649-f7e6-4ff3-ae74-2f5024604b94",
   "metadata": {},
   "outputs": [
    {
     "name": "stdout",
     "output_type": "stream",
     "text": [
      "*\n",
      "**\n",
      "***\n",
      "****\n",
      "*****\n",
      "*\n",
      "**\n",
      "***\n",
      "****\n",
      "*****\n",
      "*\n",
      "**\n",
      "***\n",
      "****\n",
      "*****\n",
      "\n",
      "\n",
      "*\n",
      "**\n",
      "***\n",
      "****\n",
      "*****\n",
      "*\n",
      "\n",
      "**\n",
      "\n",
      "***\n",
      "\n",
      "****\n",
      "\n",
      "*****\n",
      "\n",
      "*\n",
      "**\n",
      "***\n",
      "****\n",
      "*****"
     ]
    }
   ],
   "source": [
    "# while문을 사용하여 다음과 같이 별(*)을 표시하는 프로그램을 작성해보자\n",
    "\n",
    "#1번째\n",
    "star = 0\n",
    "\n",
    "while True:\n",
    "    star+=1\n",
    "    if star>5:\n",
    "        break\n",
    "    print('*'*star)\n",
    "    \n",
    "#2번째       \n",
    "for star in range(1,6):\n",
    "    print('*'*star)\n",
    "\n",
    "#3번쨰    \n",
    "for j in range(1,6):\n",
    "    print('*'*j)\n",
    "print('\\n')\n",
    "\n",
    "#4번째\n",
    "for star in range(1,6):\n",
    "    for j in range(1,6):\n",
    "        if j>star:\n",
    "            continue\n",
    "        print('*',end='')\n",
    "    print('')\n",
    "    \n",
    "#5번쨰    \n",
    "for star in range(1,6):\n",
    "    for j in range(0,star):\n",
    "        print('*',end='')\n",
    "    print('\\n')\n",
    "    \n",
    "#6번쨰    \n",
    "for star in range(1,6):\n",
    "    for j in range(1,6):\n",
    "        if j<=star:\n",
    "            print('*',end='')\n",
    "        else:\n",
    "            print('')\n",
    "            break    "
   ]
  },
  {
   "cell_type": "code",
   "execution_count": 2,
   "id": "7793cae9-7fb4-431a-ad91-b9d59f48113f",
   "metadata": {},
   "outputs": [
    {
     "data": {
      "text/plain": [
       "False"
      ]
     },
     "execution_count": 2,
     "metadata": {},
     "output_type": "execute_result"
    }
   ],
   "source": [
    "'a'>'b'"
   ]
  },
  {
   "cell_type": "code",
   "execution_count": 4,
   "id": "a1f4e618-3a26-49bf-9526-1fd024a41899",
   "metadata": {},
   "outputs": [
    {
     "data": {
      "text/plain": [
       "True"
      ]
     },
     "execution_count": 4,
     "metadata": {},
     "output_type": "execute_result"
    }
   ],
   "source": [
    "'a'!='b'"
   ]
  },
  {
   "cell_type": "code",
   "execution_count": 5,
   "id": "89d26bfc-30dd-475a-bdef-f39b1d118932",
   "metadata": {},
   "outputs": [
    {
     "data": {
      "text/plain": [
       "False"
      ]
     },
     "execution_count": 5,
     "metadata": {},
     "output_type": "execute_result"
    }
   ],
   "source": [
    "'a' == 'b'"
   ]
  },
  {
   "cell_type": "code",
   "execution_count": 6,
   "id": "64c0bc5f-6aad-4847-80a1-5b6bf41f5001",
   "metadata": {},
   "outputs": [
    {
     "data": {
      "text/plain": [
       "True"
      ]
     },
     "execution_count": 6,
     "metadata": {},
     "output_type": "execute_result"
    }
   ],
   "source": [
    "'a'<'b'<'c'"
   ]
  },
  {
   "cell_type": "code",
   "execution_count": 7,
   "id": "e1fd39ef-74e8-4d6b-8e28-f2a8a78e9776",
   "metadata": {},
   "outputs": [
    {
     "name": "stdin",
     "output_type": "stream",
     "text": [
      "알파벳을 입력하시오: a\n"
     ]
    },
    {
     "name": "stdout",
     "output_type": "stream",
     "text": [
      "소문자\n"
     ]
    }
   ],
   "source": [
    "# 알파벳 하나를 입력받아 대문자 인지 소문자 인지\n",
    "\n",
    "c = input('알파벳을 입력하시오:')\n",
    "\n",
    "if c>='a' and c<='z':\n",
    "    print('소문자')\n",
    "else:\n",
    "    print('대문자')"
   ]
  },
  {
   "cell_type": "code",
   "execution_count": 8,
   "id": "058301e9-e3c7-46b9-8fad-fba71b69a339",
   "metadata": {},
   "outputs": [
    {
     "name": "stdin",
     "output_type": "stream",
     "text": [
      "알파벳을 입력하시오: d\n"
     ]
    },
    {
     "name": "stdout",
     "output_type": "stream",
     "text": [
      "소문자\n"
     ]
    },
    {
     "name": "stdin",
     "output_type": "stream",
     "text": [
      "알파벳을 입력하시오: c\n"
     ]
    },
    {
     "name": "stdout",
     "output_type": "stream",
     "text": [
      "소문자\n"
     ]
    },
    {
     "name": "stdin",
     "output_type": "stream",
     "text": [
      "알파벳을 입력하시오: s\n"
     ]
    },
    {
     "name": "stdout",
     "output_type": "stream",
     "text": [
      "소문자\n"
     ]
    },
    {
     "name": "stdin",
     "output_type": "stream",
     "text": [
      "알파벳을 입력하시오: f\n"
     ]
    },
    {
     "name": "stdout",
     "output_type": "stream",
     "text": [
      "소문자\n"
     ]
    },
    {
     "name": "stdin",
     "output_type": "stream",
     "text": [
      "알파벳을 입력하시오: #\n"
     ]
    },
    {
     "name": "stdout",
     "output_type": "stream",
     "text": [
      "대문자\n",
      "종료....\n"
     ]
    }
   ],
   "source": [
    "while True:\n",
    "    c = input('알파벳을 입력하시오:')\n",
    "    if c>='a' and c<='z':\n",
    "        print('소문자')\n",
    "    else:\n",
    "        print('대문자')\n",
    "        \n",
    "    if c == '#':\n",
    "        print('종료....')\n",
    "        break"
   ]
  }
 ],
 "metadata": {
  "kernelspec": {
   "display_name": "Python 3 (ipykernel)",
   "language": "python",
   "name": "python3"
  },
  "language_info": {
   "codemirror_mode": {
    "name": "ipython",
    "version": 3
   },
   "file_extension": ".py",
   "mimetype": "text/x-python",
   "name": "python",
   "nbconvert_exporter": "python",
   "pygments_lexer": "ipython3",
   "version": "3.9.7"
  }
 },
 "nbformat": 4,
 "nbformat_minor": 5
}
