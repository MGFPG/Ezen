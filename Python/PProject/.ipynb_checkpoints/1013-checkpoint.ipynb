{
 "cells": [
  {
   "cell_type": "code",
   "execution_count": 13,
   "id": "1de7d8cc-0617-4f0c-88f4-8ad5b8b9beeb",
   "metadata": {},
   "outputs": [
    {
     "name": "stdout",
     "output_type": "stream",
     "text": [
      "i: 80\n",
      "i: 75\n",
      "i: 55\n",
      "합계 3\n"
     ]
    }
   ],
   "source": [
    "grade=[80,75,55]\n",
    "\n",
    "h=0\n",
    "\n",
    "for i in grade:\n",
    "    print('i:',i)\n",
    "    h+=1\n",
    "    \n",
    "print(\"합계 %d\" % h)"
   ]
  },
  {
   "cell_type": "code",
   "execution_count": 3,
   "id": "35d51d13-c8eb-4910-9af6-dd0f0adfd6f4",
   "metadata": {},
   "outputs": [
    {
     "name": "stdout",
     "output_type": "stream",
     "text": [
      "odd\n"
     ]
    }
   ],
   "source": [
    "if 13%2==0:\n",
    "    print('Even')\n",
    "else:\n",
    "    print('odd')"
   ]
  },
  {
   "cell_type": "code",
   "execution_count": 32,
   "id": "885b0c02-13bb-4684-93a6-f0641a6f4be0",
   "metadata": {},
   "outputs": [
    {
     "data": {
      "text/plain": [
       "['881120', '1068234']"
      ]
     },
     "execution_count": 32,
     "metadata": {},
     "output_type": "execute_result"
    }
   ],
   "source": [
    "a = \"881120-1068234\"\n",
    "a.split(\"-\")"
   ]
  },
  {
   "cell_type": "code",
   "execution_count": 31,
   "id": "79d93d33-a43f-4ae9-89da-28ac8f335f37",
   "metadata": {},
   "outputs": [
    {
     "data": {
      "text/plain": [
       "'a#b#c#d'"
      ]
     },
     "execution_count": 31,
     "metadata": {},
     "output_type": "execute_result"
    }
   ],
   "source": [
    "a = 'a:b:c:d'\n",
    "a.replace(':','#')"
   ]
  },
  {
   "cell_type": "code",
   "execution_count": 28,
   "id": "56490bc5-5cb2-4531-95b5-f58d52a2a85d",
   "metadata": {},
   "outputs": [
    {
     "name": "stdout",
     "output_type": "stream",
     "text": [
      "1\n",
      "[18, 5, 4, 3, 2, 1]\n"
     ]
    },
    {
     "data": {
      "text/plain": [
       "['__add__',\n",
       " '__class__',\n",
       " '__contains__',\n",
       " '__delattr__',\n",
       " '__delitem__',\n",
       " '__dir__',\n",
       " '__doc__',\n",
       " '__eq__',\n",
       " '__format__',\n",
       " '__ge__',\n",
       " '__getattribute__',\n",
       " '__getitem__',\n",
       " '__gt__',\n",
       " '__hash__',\n",
       " '__iadd__',\n",
       " '__imul__',\n",
       " '__init__',\n",
       " '__init_subclass__',\n",
       " '__iter__',\n",
       " '__le__',\n",
       " '__len__',\n",
       " '__lt__',\n",
       " '__mul__',\n",
       " '__ne__',\n",
       " '__new__',\n",
       " '__reduce__',\n",
       " '__reduce_ex__',\n",
       " '__repr__',\n",
       " '__reversed__',\n",
       " '__rmul__',\n",
       " '__setattr__',\n",
       " '__setitem__',\n",
       " '__sizeof__',\n",
       " '__str__',\n",
       " '__subclasshook__',\n",
       " 'append',\n",
       " 'clear',\n",
       " 'copy',\n",
       " 'count',\n",
       " 'extend',\n",
       " 'index',\n",
       " 'insert',\n",
       " 'pop',\n",
       " 'remove',\n",
       " 'reverse',\n",
       " 'sort']"
      ]
     },
     "execution_count": 28,
     "metadata": {},
     "output_type": "execute_result"
    }
   ],
   "source": [
    "i=[1,3,5,4,2]  #리스트 클래스\n",
    "\n",
    "i.insert(3,18)\n",
    "print(i.index(3))\n",
    "\n",
    "def add(a,b):\n",
    "    return a+b\n",
    "\n",
    "i.sort()   #리스트 클래스의 내장 함수(정렬해주는 함수)\n",
    "i.reverse()\n",
    "\n",
    "print(i)\n",
    "dir(list) #클래스의 내장함수를 볼 수 있는 빌트인 함수(파이썬에서 제공해주는 함수)"
   ]
  },
  {
   "cell_type": "code",
   "execution_count": 35,
   "id": "6ccbc047-2a5d-4c78-943a-e1c9d26e335a",
   "metadata": {},
   "outputs": [
    {
     "name": "stdout",
     "output_type": "stream",
     "text": [
      "(1, 2, 3, 4)\n",
      "<class 'tuple'>\n",
      "['__add__', '__class__', '__contains__', '__delattr__', '__dir__', '__doc__', '__eq__', '__format__', '__ge__', '__getattribute__', '__getitem__', '__getnewargs__', '__gt__', '__hash__', '__init__', '__init_subclass__', '__iter__', '__le__', '__len__', '__lt__', '__mul__', '__ne__', '__new__', '__reduce__', '__reduce_ex__', '__repr__', '__rmul__', '__setattr__', '__sizeof__', '__str__', '__subclasshook__', 'count', 'index']\n"
     ]
    }
   ],
   "source": [
    "a=(1,2,3)\n",
    "b=(4,)\n",
    "c=a+b\n",
    "print(c)\n",
    "\n",
    "print(type(a))\n",
    "print(dir(tuple))"
   ]
  },
  {
   "cell_type": "code",
   "execution_count": 37,
   "id": "e95a5743-01a2-4f37-957e-18a215f454c8",
   "metadata": {},
   "outputs": [
    {
     "name": "stdout",
     "output_type": "stream",
     "text": [
      "[0, 1, 2, 10, 4, 5, 6, 7, 8, 9]\n"
     ]
    }
   ],
   "source": [
    "numlist=[]\n",
    "\n",
    "for i in range(10):\n",
    "    numlist.append(i)\n",
    "    \n",
    "numlist[3]=10\n",
    "print(numlist)"
   ]
  },
  {
   "cell_type": "code",
   "execution_count": 38,
   "id": "e612e30a-6500-4176-9a77-f566e47169bb",
   "metadata": {},
   "outputs": [
    {
     "name": "stdout",
     "output_type": "stream",
     "text": [
      "[0, 6, 8, 7, 9, 10, 3, 0, 1, 10]\n"
     ]
    }
   ],
   "source": [
    "import random\n",
    "\n",
    "numlist=[]\n",
    "\n",
    "for i in range(10):\n",
    "    x=random.randint(0,10)   #int=> inrteger : 정수\n",
    "    numlist.append(x)\n",
    "\n",
    "print(numlist)"
   ]
  },
  {
   "cell_type": "code",
   "execution_count": 45,
   "id": "1cc0d315-5039-4f1a-844c-82355c1cec9e",
   "metadata": {},
   "outputs": [
    {
     "name": "stdout",
     "output_type": "stream",
     "text": [
      "<class 'list'>\n",
      "[1, 2, 3, 4, 5, 6, 7, 8, 9, 10, 11, 12, 13, 14, 15, 16]\n"
     ]
    }
   ],
   "source": [
    "matrix = [[1,2,3,4],[5,6,7,8],[9,10,11,12],[13,14,15,16]]\n",
    "\n",
    "print(type(matrix))\n",
    "\n",
    "new=[]\n",
    "\n",
    "for i in range(4):\n",
    "    for j in range(4):\n",
    "        new.append(matrix[i][j])\n",
    "\n",
    "print(new)"
   ]
  },
  {
   "cell_type": "code",
   "execution_count": null,
   "id": "e1d19c5e-cf74-4d99-93df-05662036f02f",
   "metadata": {},
   "outputs": [
    {
     "name": "stdin",
     "output_type": "stream",
     "text": [
      "0은 가위, 1은 바위, 2는 보 1\n"
     ]
    },
    {
     "name": "stdout",
     "output_type": "stream",
     "text": [
      "나: 바위\n",
      "컴: 보\n"
     ]
    }
   ],
   "source": [
    "import random\n",
    "\n",
    "win = 0\n",
    "game=['가위','바위','보']\n",
    "\n",
    "while True:    \n",
    "    uc = int(input('0은 가위, 1은 바위, 2는 보'))\n",
    "    print('나:',game[1])\n",
    "    \n",
    "    cc = random.randint(0,2)\n",
    "    print('컴:',game[cc])\n",
    "    \n",
    "    if cc == 0:   # computer 가위\n",
    "        if cc == 0:\n",
    "            pass\n",
    "        elif cc < 1:\n",
    "            win+=1\n",
    "            print('이겼습니다')\n",
    "        else:\n",
    "            pass\n",
    "\n",
    "    elif cc == 1:   # computer 바위\n",
    "        if cc == 1:\n",
    "            pass\n",
    "        elif cc < 2:\n",
    "            win+=1\n",
    "            print('이겼습니다')\n",
    "        else:\n",
    "            pass\n",
    "            \n",
    "    else:  #computer 보\n",
    "        if cc == 2:\n",
    "            pass\n",
    "        elif cc < 0:\n",
    "            win+=1\n",
    "            print('이겼습니다')\n",
    "        else:\n",
    "            pass\n",
    "        \n",
    "    if win == 3:\n",
    "        print('Your Winner!')\n",
    "        break\n",
    "    "
   ]
  },
  {
   "cell_type": "code",
   "execution_count": null,
   "id": "ede2d527-b6b0-41dd-b9ce-2c2bd04376ca",
   "metadata": {},
   "outputs": [],
   "source": [
    "win = 0\n",
    "i = 0\n",
    "game =['가위','바위','보']\n",
    "\n",
    "while True:\n",
    "    i = int(input('가위 0, 바위 1, 보 2 =>'))\n",
    "    print('나:',game[1])\n",
    "    \n",
    "    x = random.randint(0,2)\n",
    "    print('컴:',game[x])\n",
    "    \n",
    "    if i==0 and x==2:\n",
    "        win+=1\n",
    "        \n",
    "    elif i==1 and x==0:\n",
    "        win+1\n",
    "        \n",
    "    elif i==2 and x==1:\n",
    "        win+=1\n",
    "        \n",
    "    if win == 3:\n",
    "        print('3번이김')\n",
    "        break"
   ]
  },
  {
   "cell_type": "code",
   "execution_count": 4,
   "id": "8fef6619-76e5-4f55-9793-cc2f5076f358",
   "metadata": {},
   "outputs": [
    {
     "name": "stdout",
     "output_type": "stream",
     "text": [
      "(1, 2, 3, 'a', 'b')\n",
      "(1, 2, 3, 1, 2, 3, 1, 2, 3)\n",
      "['__class__', '__contains__', '__delattr__', '__delitem__', '__dir__', '__doc__', '__eq__', '__format__', '__ge__', '__getattribute__', '__getitem__', '__gt__', '__hash__', '__init__', '__init_subclass__', '__iter__', '__le__', '__len__', '__lt__', '__ne__', '__new__', '__reduce__', '__reduce_ex__', '__repr__', '__reversed__', '__setattr__', '__setitem__', '__sizeof__', '__str__', '__subclasshook__', 'clear', 'copy', 'fromkeys', 'get', 'items', 'keys', 'pop', 'popitem', 'setdefault', 'update', 'values']\n"
     ]
    }
   ],
   "source": [
    "t = (1,2,3)\n",
    "a=('a','b')\n",
    "c=t*3\n",
    "t=t+a\n",
    "#del(a)\n",
    "print(t)\n",
    "print(c)\n",
    "\n",
    "print(dir(dict))"
   ]
  },
  {
   "cell_type": "code",
   "execution_count": 20,
   "id": "4db7e2a5-ae0b-411b-b858-027d29352992",
   "metadata": {},
   "outputs": [
    {
     "name": "stdout",
     "output_type": "stream",
     "text": [
      "<class 'dict'>\n",
      "0001\n",
      "사번 0001\n",
      "이름 홍길동\n",
      "부서 소프트웨어 개발\n",
      "부서\n"
     ]
    }
   ],
   "source": [
    "# 딕셔너리는 키와 벨류 (key, value)\n",
    "\n",
    "myOlc = {'사번':'0001','이름':'홍길동','부서':'소프트웨어 개발'}\n",
    "\n",
    "print(type(myOlc))\n",
    "print(myOlc['사번'])\n",
    "\n",
    "#k=list(myOlc.keys())\n",
    "#k=list(myOlc.item())\n",
    "\n",
    "for k in myOlc.keys():\n",
    "    print(k,myOlc[k])\n",
    "\n",
    "print(k)"
   ]
  },
  {
   "cell_type": "code",
   "execution_count": 32,
   "id": "b8385ac7-43e4-4945-8a88-498d57416bd6",
   "metadata": {},
   "outputs": [
    {
     "name": "stdout",
     "output_type": "stream",
     "text": [
      "트와이스\n",
      "트와이스\n",
      "사번 0001\n",
      "이름 홍길동\n",
      "부서 소프트웨어 개발\n"
     ]
    }
   ],
   "source": [
    "l=(2,3,4)\n",
    "\n",
    "singer = {}\n",
    "singer['이름']='트와이스'\n",
    "singer['멤버들']=3\n",
    "\n",
    "print(singer.get('이름'))\n",
    "print(singer['이름'])\n",
    "\n",
    "for k,v in myOlc.items():\n",
    "    print(k,v)\n",
    "    "
   ]
  },
  {
   "cell_type": "code",
   "execution_count": 10,
   "id": "133bd838-c8f4-420e-931a-e3008586a9c2",
   "metadata": {
    "tags": []
   },
   "outputs": [
    {
     "name": "stdin",
     "output_type": "stream",
     "text": [
      "국어 :  44\n",
      "영어 :  95\n",
      "수학 :  64\n"
     ]
    },
    {
     "name": "stdout",
     "output_type": "stream",
     "text": [
      "국어 영어 수학 총점 평균\n",
      " 44  95   64  203  67.67\n"
     ]
    }
   ],
   "source": [
    "#국영수 세과목 점수를 딕셔너리에 입력 합과 평균을 출력하라\n",
    "\n",
    "st = dict()\n",
    "\n",
    "st['kor'] = int(input('국어 : '))\n",
    "st['eng'] = int(input('영어 : '))\n",
    "st['mat'] = int(input('수학 : '))\n",
    "st['tot'] = st['kor'] + st['eng'] + st['mat']\n",
    "st['ave'] = st['tot'] / 3\n",
    "\n",
    "print(\"국어 영어 수학 총점 평균\")\n",
    "\n",
    "print(\"%3d %3d  %3d  %3d %6.2f\"% (st['kor'], st['eng'], st['mat'],st['tot'], st['ave']))"
   ]
  },
  {
   "cell_type": "code",
   "execution_count": 2,
   "id": "ba2efb3d-e5ca-495c-a8a7-909f829a60c0",
   "metadata": {
    "tags": []
   },
   "outputs": [
    {
     "name": "stdout",
     "output_type": "stream",
     "text": [
      "['apple', 'grape', 'orange']\n",
      "['사과', '포도', '오렌지']\n"
     ]
    }
   ],
   "source": [
    "d = {'apple':'사과','grape':'포도','orange':'오렌지'}\n",
    "sentence = 'apple grape orange'\n",
    "\n",
    "word=sentence.split(' ')  # word 리스트 \n",
    "print(word)\n",
    "\n",
    "result = []\n",
    "\n",
    "for k in word:\n",
    "    result.append(d[k])\n",
    "    \n",
    "print(result)\n"
   ]
  },
  {
   "cell_type": "code",
   "execution_count": 28,
   "id": "129e6d5f-cdff-4b78-9882-9b6ac2fadca4",
   "metadata": {},
   "outputs": [
    {
     "name": "stdout",
     "output_type": "stream",
     "text": [
      "+ simple\n",
      "10 + 20\n",
      "result: 30\n",
      "- simple\n",
      "10 - 20\n",
      "result: -10\n",
      "* simple\n",
      "10 * 20\n",
      "result: 200\n",
      "/ simple\n",
      "10 / 20\n",
      "result: 0.5\n",
      "% simple\n",
      "10 % 20\n",
      "result: 10\n"
     ]
    }
   ],
   "source": [
    "def cal(v1,v2,op):\n",
    "    result = 0\n",
    "    \n",
    "    if op == '+':\n",
    "        result=v1+v2\n",
    "        print(v1,'+',v2)\n",
    "    elif op == '-':\n",
    "        result=v1-v2\n",
    "        print(v1,'-',v2)\n",
    "    elif op == '*':\n",
    "        result=v1*v2\n",
    "        print(v1,'*',v2)\n",
    "    elif op == '/':\n",
    "        result=v1/v2\n",
    "        print(v1,'/',v2)\n",
    "    elif op == '%':\n",
    "        result=v1%v2\n",
    "        print(v1,'%',v2)\n",
    "    else:\n",
    "        print('Error opration')\n",
    "        \n",
    "    return result\n",
    "\n",
    "print('+ simple')\n",
    "r=cal(10,20,'+')\n",
    "print('result:',r)\n",
    "\n",
    "print('- simple')\n",
    "r=cal(10,20,'-')\n",
    "print('result:',r)\n",
    "\n",
    "print('* simple')\n",
    "r=cal(10,20,'*')\n",
    "print('result:',r)\n",
    "\n",
    "print('/ simple')\n",
    "r=cal(10,20,'/')\n",
    "print('result:',r)\n",
    "\n",
    "print('% simple')\n",
    "r=cal(10,20,'%')\n",
    "print('result:',r)\n"
   ]
  },
  {
   "cell_type": "code",
   "execution_count": 43,
   "id": "0540bb88-3f00-475b-87e6-3a6c5d725ca8",
   "metadata": {},
   "outputs": [
    {
     "name": "stdout",
     "output_type": "stream",
     "text": [
      "[1, 14, 17, 23, 28, 29]\n"
     ]
    }
   ],
   "source": [
    "# lotto 추첨기\n",
    "#함수로 구현하기\n",
    "#추첨하는 개수를 입력하시요. 6자릿수 입력 리스트\n",
    "# 00~30 사이의 수가 나오게 하기 랜덤함수\n",
    "\n",
    "import random\n",
    "\n",
    "def Lotto():\n",
    "    hit = 6\n",
    "    lotto_num = list()\n",
    "\n",
    "    while hit > 0:\n",
    "        num = random.randint(0,30)\n",
    "        if num in lotto_num:\n",
    "            continue\n",
    "        else:\n",
    "            lotto_num.append(num)\n",
    "            hit -= 1\n",
    "\n",
    "    return sorted(lotto_num)\n",
    "\n",
    "\n",
    "print(Lotto())\n",
    "\n"
   ]
  },
  {
   "cell_type": "code",
   "execution_count": 53,
   "id": "fb2defc5-88f8-4b94-bfea-a8d10f982763",
   "metadata": {},
   "outputs": [
    {
     "name": "stdout",
     "output_type": "stream",
     "text": [
      "[8, 3, 8, 4, 7]\n"
     ]
    }
   ],
   "source": [
    "import random\n",
    "\n",
    "hit=[]\n",
    "\n",
    "def lotto(lenth):\n",
    "    for i in range(lenth):\n",
    "        x=random.randint(1,10)\n",
    "        hit.append(x)\n",
    "        \n",
    "    return hit\n",
    "\n",
    "res = lotto(5)\n",
    "\n",
    "print(res)\n",
    "    "
   ]
  },
  {
   "cell_type": "code",
   "execution_count": 4,
   "id": "0348fa30-4e61-40bf-9058-c775d156271b",
   "metadata": {},
   "outputs": [
    {
     "name": "stdout",
     "output_type": "stream",
     "text": [
      "[4, 9, 1, 3, 9, 7]\n"
     ]
    },
    {
     "name": "stdin",
     "output_type": "stream",
     "text": [
      "6자리입력: 4,3,5,2,1,9\n"
     ]
    },
    {
     "name": "stdout",
     "output_type": "stream",
     "text": [
      "['4', '3', '5', '2', '1', '9']\n",
      "Lotto: [4, 9, 1, 3, 9, 7]\n",
      "My fortune: [4, 3, 5, 2, 1, 9]\n",
      "hit: 5\n"
     ]
    }
   ],
   "source": [
    "import random\n",
    "\n",
    "hit=[]\n",
    "\n",
    "def lotto(lenth):\n",
    "    for i in range(lenth):\n",
    "        x=random.randint(1,10)\n",
    "        hit.append(x)\n",
    "        \n",
    "    return hit\n",
    "\n",
    "hitlotto = lotto(6)\n",
    "\n",
    "print(hitlotto)\n",
    "  \n",
    "s=input(\"6자리입력:\")\n",
    "\n",
    "mylotto=s.split(',')\n",
    "print(mylotto)\n",
    "mylotto=[int (i) for i in mylotto]\n",
    "\n",
    "print('Lotto:',hitlotto)\n",
    "print('My fortune:',mylotto)\n",
    "  \n",
    "#mylotto = [3,6,5,2,4,1]\n",
    "\n",
    "hitcount=0\n",
    "\n",
    "for l in hitlotto:\n",
    "    for i in mylotto:\n",
    "        if i==l:\n",
    "            hitcount+=1\n",
    "            break\n",
    "\n",
    "print('hit:',hitcount)\n"
   ]
  }
 ],
 "metadata": {
  "kernelspec": {
   "display_name": "Python 3",
   "language": "python",
   "name": "python3"
  },
  "language_info": {
   "codemirror_mode": {
    "name": "ipython",
    "version": 3
   },
   "file_extension": ".py",
   "mimetype": "text/x-python",
   "name": "python",
   "nbconvert_exporter": "python",
   "pygments_lexer": "ipython3",
   "version": "3.8.8"
  }
 },
 "nbformat": 4,
 "nbformat_minor": 5
}
