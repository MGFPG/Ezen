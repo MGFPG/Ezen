{
 "cells": [
  {
   "cell_type": "code",
   "execution_count": 44,
   "id": "15bdca0d-5af3-46cb-b55f-5d987d535490",
   "metadata": {},
   "outputs": [
    {
     "name": "stdout",
     "output_type": "stream",
     "text": [
      "9 45\n"
     ]
    }
   ],
   "source": [
    "def exam01():\n",
    "    i,sum = 0,0\n",
    "    while (i<100):\n",
    "        i += 1\n",
    "        sum += i\n",
    "        if i>=100:\n",
    "            break\n",
    "    print(sum) #5050\n",
    "    \n",
    "def exam02():\n",
    "    numbers = [1,2,3,4,5,6,7]\n",
    "    total = 0\n",
    "\n",
    "    for n in numbers:\n",
    "        if( n%2 ) == 0:\n",
    "            total += n\n",
    "    print(\"Total:\",total) #12\n",
    "    \n",
    "def exam03():\n",
    "    score = int(input('성적을 입력하세요:'))\n",
    "\n",
    "    if score >=90:\n",
    "        print(\"A 입니다.\")\n",
    "    elif score >= 80:\n",
    "        print(\"B 입니다.\")\n",
    "    elif score >= 70:\n",
    "        print(\"C 입니다.\")\n",
    "    elif score >= 60:\n",
    "        print(\"D 입니다.\")\n",
    "    else:\n",
    "        print(\"F 입니다.\")\n",
    "        \n",
    "        \n",
    "def exam04():\n",
    "    a,sum = 0,0\n",
    "    while(a<10):\n",
    "        a +=1\n",
    "        \n",
    "        if(a%2 == 1):\n",
    "            continue\n",
    "            \n",
    "        sum += a\n",
    "    print(sum) # 30\n",
    "    \n",
    "    \n",
    "def exam05():\n",
    "    sum = 0\n",
    "    for  i in range(1,10):\n",
    "        sum += i\n",
    "        \n",
    "    print(i,sum) # 9 45\n",
    "    \n",
    "    \n",
    "if __name__ == '__main__':\n",
    "    exam01()\n",
    "    #exam02()\n",
    "    #exam03()\n",
    "    #exam04()\n",
    "    #exam05()\n"
   ]
  },
  {
   "cell_type": "code",
   "execution_count": 5,
   "id": "aa17e5e9-d820-4517-9356-e2878dfe4118",
   "metadata": {},
   "outputs": [
    {
     "name": "stdout",
     "output_type": "stream",
     "text": [
      "hong 12 False\n",
      "Woman\n"
     ]
    }
   ],
   "source": [
    "class Person:\n",
    "    def __init__(self,name,age,gender):\n",
    "        self.name = name\n",
    "        self.age = age\n",
    "        self.gender = gender\n",
    "        \n",
    "    def printme(self):\n",
    "        print(self.name,self.age,self.gender)\n",
    "    \n",
    "    def genders(self):\n",
    "        if self.gender:\n",
    "            print(\"Man\")\n",
    "        else:\n",
    "            print(\"Woman\")\n",
    "            \n",
    "        \n",
    "person = Person(\"hong\",12,False)\n",
    " \n",
    "person.printme()\n",
    "person.genders()"
   ]
  },
  {
   "cell_type": "code",
   "execution_count": 6,
   "id": "4f66287a-9ca9-4c48-8992-8c293e9f33db",
   "metadata": {},
   "outputs": [
    {
     "name": "stdout",
     "output_type": "stream",
     "text": [
      "Requirement already satisfied: openpyxl in c:\\users\\user\\anaconda3\\lib\\site-packages (3.0.7)\n",
      "Requirement already satisfied: et-xmlfile in c:\\users\\user\\anaconda3\\lib\\site-packages (from openpyxl) (1.0.1)\n",
      "Note: you may need to restart the kernel to use updated packages.\n"
     ]
    }
   ],
   "source": [
    "pip install openpyxl"
   ]
  },
  {
   "cell_type": "code",
   "execution_count": 7,
   "id": "4c96f0f2-9a51-47b9-80c2-f5f63ef2277c",
   "metadata": {},
   "outputs": [],
   "source": [
    "from openpyxl import Workbook"
   ]
  }
 ],
 "metadata": {
  "kernelspec": {
   "display_name": "Python 3",
   "language": "python",
   "name": "python3"
  },
  "language_info": {
   "codemirror_mode": {
    "name": "ipython",
    "version": 3
   },
   "file_extension": ".py",
   "mimetype": "text/x-python",
   "name": "python",
   "nbconvert_exporter": "python",
   "pygments_lexer": "ipython3",
   "version": "3.8.8"
  }
 },
 "nbformat": 4,
 "nbformat_minor": 5
}
