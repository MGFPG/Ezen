{
 "cells": [
  {
   "cell_type": "code",
   "execution_count": 1,
   "id": "3fd66b96-5449-4ce3-ab6d-3593a87a1cb1",
   "metadata": {},
   "outputs": [
    {
     "name": "stdout",
     "output_type": "stream",
     "text": [
      "Hi,Hello World\n"
     ]
    }
   ],
   "source": [
    "def print_hi(name):\n",
    "    print(f'Hi,{name}')\n",
    "    \n",
    "if __name__ == '__main__':\n",
    "    print_hi('Hello World')"
   ]
  },
  {
   "cell_type": "code",
   "execution_count": 2,
   "id": "d4b39202-339a-4f8b-a230-991f3b4f3d9e",
   "metadata": {},
   "outputs": [
    {
     "name": "stdout",
     "output_type": "stream",
     "text": [
      "Hi,Hello Ezen\n"
     ]
    }
   ],
   "source": [
    "def print_ezen(name):\n",
    "    print(f'Hi,{name}')\n",
    "    \n",
    "if __name__ == '__main__':\n",
    "    print_hi('Hello Ezen')"
   ]
  },
  {
   "cell_type": "code",
   "execution_count": 17,
   "id": "5f5fca0c-5aa9-402a-9345-6d8f8f361a78",
   "metadata": {},
   "outputs": [
    {
     "name": "stdout",
     "output_type": "stream",
     "text": [
      "5\n",
      "4\n",
      "Hello\n",
      "Hi,Lim YeaRim\n"
     ]
    }
   ],
   "source": [
    "def Add():\n",
    "    a = 2 #a는 변수, = 대입연산자\n",
    "    b = 3\n",
    "    c = (a + b)\n",
    "    \n",
    "    print(c)\n",
    "Add()\n",
    "\n",
    "def Add(a,b): #a,b 피라미터\n",
    "    c = a + b\n",
    "    print(c)\n",
    "    \n",
    "Add(1,3)\n",
    "\n",
    "a = 'a' #'a'는 문자(char), 'ab'는 문자열(string)\n",
    "print('Hello')\n",
    "print_hi('Lim YeaRim')"
   ]
  },
  {
   "cell_type": "code",
   "execution_count": 6,
   "id": "6da5cab4-e648-49e3-a967-bd6703849472",
   "metadata": {},
   "outputs": [
    {
     "name": "stdout",
     "output_type": "stream",
     "text": [
      "5\n",
      "9\n"
     ]
    }
   ],
   "source": [
    "def m():\n",
    "    a = 9\n",
    "    b = 4\n",
    "    c = (a - b)\n",
    "    print(c)\n",
    "m()\n",
    "\n",
    "def m(a,b):\n",
    "    c = a - b\n",
    "    print(c)\n",
    "m(10, 1)"
   ]
  },
  {
   "cell_type": "code",
   "execution_count": 18,
   "id": "988d84fd-3af9-4940-93e7-b66e40c17eef",
   "metadata": {},
   "outputs": [
    {
     "name": "stdout",
     "output_type": "stream",
     "text": [
      "6\n"
     ]
    }
   ],
   "source": [
    "def xx(a,b):\n",
    "    c = a * b\n",
    "    print(c)\n",
    "xx(2,3)"
   ]
  },
  {
   "cell_type": "code",
   "execution_count": 19,
   "id": "1dcd6f32-d66b-47cc-af74-71ae0c246dfa",
   "metadata": {},
   "outputs": [
    {
     "name": "stdout",
     "output_type": "stream",
     "text": [
      "Hi,홍길동\n"
     ]
    }
   ],
   "source": [
    "def print_name(name):\n",
    "    print(f'Hi,{name}') #{a}는 a의 실제 값을 써라\n",
    "    \n",
    "print_name(\"홍길동\")"
   ]
  },
  {
   "cell_type": "code",
   "execution_count": 32,
   "id": "288c7ab5-d851-4a9e-bf6e-aded359425cc",
   "metadata": {},
   "outputs": [
    {
     "name": "stdout",
     "output_type": "stream",
     "text": [
      "Hi,홍홍홍은 25살 입니다\n"
     ]
    }
   ],
   "source": [
    "def print_nameAge(name,age):\n",
    "    print(f'Hi,{name}은 {age}살 입니다')\n",
    "    \n",
    "print_nameAge(\"홍홍홍\", \"25\")\n"
   ]
  },
  {
   "cell_type": "code",
   "execution_count": null,
   "id": "4f961389-1f9b-4c2b-a3bd-d17660552e6c",
   "metadata": {},
   "outputs": [],
   "source": [
    "#파이썬은 파이썬 코드를 입력할 수 있는 텍스트 에다터와 파이썬 코드를 실행할 수 있는 도구인 파이썬 인터프리터기 필요합니다.\n",
    "#왜 인터프린터언어의 인터벡티브 셀을 사용하는가?\n"
   ]
  },
  {
   "cell_type": "code",
   "execution_count": 44,
   "id": "6bc5949f-f901-4d26-8d6f-a7349d47380f",
   "metadata": {},
   "outputs": [
    {
     "name": "stdout",
     "output_type": "stream",
     "text": [
      "1 2 3\n",
      "f\n",
      "안녕\n",
      "안녕\n",
      "1,2\n",
      "1,2\n",
      "2,1\n",
      "1,2-안녕\n"
     ]
    }
   ],
   "source": [
    "print(1,2,3)\n",
    "print('f')\n",
    "print('안녕')\n",
    "print(\"안녕\")\n",
    "print(\"{},{}\". format(1,2))\n",
    "print(\"{0},{1}\". format('1',2))\n",
    "print(\"{1},{0}\". format('1',2))\n",
    "print(\"{},{}-{}\". format(1,2,'안녕'))"
   ]
  },
  {
   "cell_type": "code",
   "execution_count": 35,
   "id": "f5ac6ece-14f3-456b-b896-4e6d8f0d1f1b",
   "metadata": {},
   "outputs": [
    {
     "name": "stdout",
     "output_type": "stream",
     "text": [
      "1 2 3 4\n",
      "1234\n",
      "ab\n"
     ]
    }
   ],
   "source": [
    "print(1,2,3,4)\n",
    "print(1,2,3,4,sep='')\n",
    "print('a', end='')\n",
    "print('b')"
   ]
  },
  {
   "cell_type": "code",
   "execution_count": 38,
   "id": "d7de4fa7-8c06-4c85-a9e6-2367cff0d800",
   "metadata": {},
   "outputs": [
    {
     "name": "stdout",
     "output_type": "stream",
     "text": [
      "my name is ray, my birtday is 28\n",
      "apple : 120005, weight : 10.1\n"
     ]
    }
   ],
   "source": [
    "print('my name is %s, my birtday is %d' % ('ray',28))\n",
    "print('apple : %5d, weight : %2.1f' % (120005, 10.12))"
   ]
  },
  {
   "cell_type": "code",
   "execution_count": 39,
   "id": "a9053cbb-625c-4ae6-8b5d-2cadaca3895a",
   "metadata": {},
   "outputs": [],
   "source": [
    "#\\n : 개행\n",
    "#\\t : 탭\n",
    "#\\\\ : 문자\n",
    "#\\' : 문자\n",
    "#\\\" : 문자\n",
    "#\\r : 캐리지 리턴\n",
    "#\\f : 폼 피드\n",
    "#\\a : 벨 소리\n",
    "#\\b : 백 스페이스\n",
    "#\\000 : 널 문자\n"
   ]
  },
  {
   "cell_type": "code",
   "execution_count": 41,
   "id": "97faa31d-33eb-4b4c-a851-eed6e68d124e",
   "metadata": {},
   "outputs": [
    {
     "name": "stdout",
     "output_type": "stream",
     "text": [
      "'you'\n",
      "'you'\n",
      "\"you\"\n",
      "'you'\n",
      "\\you\\\n",
      "\n",
      "\n",
      "\n",
      "\n",
      "\t\t\t\t\ttest\n"
     ]
    }
   ],
   "source": [
    "print(\"'you'\")\n",
    "print('\\'you\\'')\n",
    "print('\"you\"')\n",
    "print(\"\"\"'you'\"\"\")\n",
    "print('\\\\you\\\\\\n\\n\\n\\n')\n",
    "print('\\t\\t\\t\\t\\ttest')"
   ]
  }
 ],
 "metadata": {
  "kernelspec": {
   "display_name": "Python 3",
   "language": "python",
   "name": "python3"
  },
  "language_info": {
   "codemirror_mode": {
    "name": "ipython",
    "version": 3
   },
   "file_extension": ".py",
   "mimetype": "text/x-python",
   "name": "python",
   "nbconvert_exporter": "python",
   "pygments_lexer": "ipython3",
   "version": "3.8.8"
  }
 },
 "nbformat": 4,
 "nbformat_minor": 5
}
