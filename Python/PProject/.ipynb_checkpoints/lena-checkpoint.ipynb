{
 "cells": [
  {
   "cell_type": "code",
   "execution_count": 4,
   "id": "37dc5ed4-178e-4342-afb2-95b61e92ade9",
   "metadata": {},
   "outputs": [
    {
     "name": "stdout",
     "output_type": "stream",
     "text": [
      "(0,0),(0,0)\n",
      "256\n"
     ]
    }
   ],
   "source": [
    "import cv2\n",
    "# load image\n",
    "img = cv2.imread('lena.jpg')\n",
    "\n",
    "##########################################\n",
    "# At first vertical devide image         #\n",
    "##########################################\n",
    "# start vertical devide image\n",
    "height = img.shape[0]\n",
    "width = img.shape[1]\n",
    "# Cut the image in half\n",
    "\n",
    "oc = width // 2 \n",
    "\n",
    "x1,y1,x2,y2 = 0,0,0,0\n",
    "print(\"({},{}),({},{})\".format(x1, y1, x2, y2))\n",
    "\n",
    "#for i in range(4):\n",
    "#    for j in range(4):\n",
    "#        print(img[i:i+1,j:j+1])\n",
    "        \n",
    "        \n",
    "print(oc)\n",
    "for i in range(0,4,oc):\n",
    "    for j in range(0,4,oc):\n",
    "        #print(\"({},{}),({},{})\".format(x1,y1,x2,y2))\n",
    "\n",
    "        p = img[i:i+oc,j:j+oc]\n",
    "        \n",
    "        #cv2.imshow(\"{}{}{}{}\".format(x1,y1,x2,y2), p)       \n",
    "\n",
    "        img = cv2.rectangle(img, (x1, y1), (x2, y2), (255, 0, 0), 2)\n",
    "\n",
    "cv2.imshow('Octa', img)\n",
    "\n",
    "cv2.waitKey(0)\n",
    "cv2.destroyAllWindows()\n"
   ]
  },
  {
   "cell_type": "code",
   "execution_count": null,
   "id": "4c5da43a-608d-4564-8597-a08d53db9a62",
   "metadata": {},
   "outputs": [],
   "source": []
  }
 ],
 "metadata": {
  "kernelspec": {
   "display_name": "Python 3",
   "language": "python",
   "name": "python3"
  },
  "language_info": {
   "codemirror_mode": {
    "name": "ipython",
    "version": 3
   },
   "file_extension": ".py",
   "mimetype": "text/x-python",
   "name": "python",
   "nbconvert_exporter": "python",
   "pygments_lexer": "ipython3",
   "version": "3.8.8"
  }
 },
 "nbformat": 4,
 "nbformat_minor": 5
}
