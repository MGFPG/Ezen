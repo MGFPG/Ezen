{
 "cells": [
  {
   "cell_type": "code",
   "execution_count": 9,
   "id": "e118ceeb-f710-4d63-a025-9166707e42bd",
   "metadata": {},
   "outputs": [
    {
     "name": "stdout",
     "output_type": "stream",
     "text": [
      "100보다 작다\n"
     ]
    }
   ],
   "source": [
    "# if조건문\n",
    "num1 = 500\n",
    "num2 = 10\n",
    "\n",
    "if num1 > 1005 and num2 <40:\n",
    "    print(\"100보다 크다\")\n",
    "else:\n",
    "    print(\"100보다 작다\")"
   ]
  },
  {
   "cell_type": "code",
   "execution_count": 5,
   "id": "09af5bf5-3fb3-4970-b219-1f97ecdbd5f6",
   "metadata": {},
   "outputs": [
    {
     "name": "stdout",
     "output_type": "stream",
     "text": [
      "90년생이면서 여자\n"
     ]
    }
   ],
   "source": [
    "ssn = \"900222-2666851\"\n",
    "num1 = \"90\"\n",
    "num2 = \"2\"\n",
    "\n",
    "num1 = int(num1)\n",
    "num2 = int(num2)\n",
    "\n",
    "if num1 == 80 or not (num2 == 1):\n",
    "    print(\"90년생이면서 여자\")"
   ]
  },
  {
   "cell_type": "code",
   "execution_count": null,
   "id": "0a55724f-d2ea-4060-b5f0-98429f1aa018",
   "metadata": {},
   "outputs": [],
   "source": [
    "if 10%2 == 0:\n",
    "    print(\"Even\")\n",
    "else:\n",
    "    rint(\"Odd\")"
   ]
  },
  {
   "cell_type": "code",
   "execution_count": 13,
   "id": "2a8ac707-8cee-446e-b8ae-9ca739646a7a",
   "metadata": {},
   "outputs": [
    {
     "name": "stdin",
     "output_type": "stream",
     "text": [
      "숫자를 입력하세요 :  6\n"
     ]
    },
    {
     "name": "stdout",
     "output_type": "stream",
     "text": [
      "1보다 크거나 10보다 작다\n"
     ]
    }
   ],
   "source": [
    "i = int(input(\"숫자를 입력하세요 : \"))\n",
    "\n",
    "if i < 1:\n",
    "    print(\"1보다 작다\")\n",
    "elif i < 10:\n",
    "    print(\"1보다 크거나 10보다 작다\") \n",
    "else:\n",
    "    print(\"10보다 크다\")"
   ]
  },
  {
   "cell_type": "code",
   "execution_count": null,
   "id": "e2e73fad-2ba7-4c14-8477-295e6c58b9e7",
   "metadata": {},
   "outputs": [],
   "source": []
  }
 ],
 "metadata": {
  "kernelspec": {
   "display_name": "Python 3",
   "language": "python",
   "name": "python3"
  },
  "language_info": {
   "codemirror_mode": {
    "name": "ipython",
    "version": 3
   },
   "file_extension": ".py",
   "mimetype": "text/x-python",
   "name": "python",
   "nbconvert_exporter": "python",
   "pygments_lexer": "ipython3",
   "version": "3.8.8"
  }
 },
 "nbformat": 4,
 "nbformat_minor": 5
}
