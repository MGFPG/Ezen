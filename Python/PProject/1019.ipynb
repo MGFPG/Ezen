{
 "cells": [
  {
   "cell_type": "code",
   "execution_count": 11,
   "id": "257d44cd-e318-4f88-8029-fb1f15aee603",
   "metadata": {},
   "outputs": [
    {
     "name": "stdout",
     "output_type": "stream",
     "text": [
      "nohtyp\n",
      "RE\n"
     ]
    }
   ],
   "source": [
    "#221\n",
    "def print_reverse(string):\n",
    "    return(string[::-1])\n",
    "res =print_reverse(\"python\")\n",
    "print(res)\n",
    "\n",
    "#  or\n",
    "\n",
    "def print_reverse(string):\n",
    "    res=True\n",
    "    res=string[2:-1]\n",
    "    return res\n",
    "res=print_reverse(\"KOREA\")\n",
    "print(res)"
   ]
  },
  {
   "cell_type": "code",
   "execution_count": 38,
   "id": "6711a8ec-1dbd-47ef-8fd1-c4f058015007",
   "metadata": {},
   "outputs": [
    {
     "name": "stdout",
     "output_type": "stream",
     "text": [
      "2.0\n"
     ]
    }
   ],
   "source": [
    "#222\n",
    "score_list=[1,2,3]\n",
    "def print_score(score_list):\n",
    "    print(sum(score_list)/len(score_list))\n",
    "print_score ([1, 2, 3])"
   ]
  },
  {
   "cell_type": "code",
   "execution_count": 37,
   "id": "13329749-5f78-4463-8158-38452587bcec",
   "metadata": {},
   "outputs": [
    {
     "name": "stdout",
     "output_type": "stream",
     "text": [
      "2\n",
      "10\n",
      "12\n"
     ]
    }
   ],
   "source": [
    "#223\n",
    "my_list=[1,3,2,10,12,11,15]\n",
    "def print_even(my_list):\n",
    "    for v in my_list:\n",
    "        if v % 2 == 0:\n",
    "            print(v)\n",
    "print_even ([1, 3, 2, 10, 12, 11, 15]) "
   ]
  },
  {
   "cell_type": "code",
   "execution_count": 36,
   "id": "d02faf28-9eee-458e-b182-c3ab38d6906f",
   "metadata": {},
   "outputs": [
    {
     "name": "stdout",
     "output_type": "stream",
     "text": [
      "이름 김말똥\n",
      "나이 30\n",
      "성별 0\n"
     ]
    }
   ],
   "source": [
    "#224\n",
    "def print_keys(dic):\n",
    "    for key in dic.keys():\n",
    "        print(key,dic[key])\n",
    "print_keys ({\"이름\":\"김말똥\", \"나이\":30, \"성별\":0}) "
   ]
  },
  {
   "cell_type": "code",
   "execution_count": 35,
   "id": "f997dbe6-e8f7-41c6-a878-c3051f02e3bb",
   "metadata": {},
   "outputs": [
    {
     "name": "stdout",
     "output_type": "stream",
     "text": [
      "[100, 130, 100, 100]\n"
     ]
    }
   ],
   "source": [
    "#225\n",
    "my_dict={\"10/26\":[100,130,100,100],\"10/27\":[10,12,10,11]}\n",
    "def print_value_by_key(my_dict,key):\n",
    "    print(my_dict[key])\n",
    "print_value_by_key(my_dict,\"10/26\")"
   ]
  },
  {
   "cell_type": "code",
   "execution_count": 40,
   "id": "41c104cc-37b9-4ec7-910e-9c95e12ea9bd",
   "metadata": {},
   "outputs": [
    {
     "name": "stdout",
     "output_type": "stream",
     "text": [
      "아이엠어보\n",
      "이유알어걸\n"
     ]
    }
   ],
   "source": [
    "#226  알아두기\n",
    "def print_5xn(line):\n",
    "    num=len(line)//5\n",
    "    for x in range(num):\n",
    "        print(line[x*5:x*5+5])\n",
    "print_5xn(\"아이엠어보이유알어걸\")"
   ]
  },
  {
   "cell_type": "code",
   "execution_count": 48,
   "id": "31f2dffc-55ee-413c-8d6e-a529e3efc410",
   "metadata": {},
   "outputs": [
    {
     "name": "stdout",
     "output_type": "stream",
     "text": [
      "\n",
      "이유어\n",
      "유어걸\n",
      "어걸\n"
     ]
    }
   ],
   "source": [
    "#227\n",
    "def print_mxn(line,num):\n",
    "    num=len(line)//num+1\n",
    "    for x in range(num):\n",
    "        print(line[x+num: x*num+num])\n",
    "print_mxn(\"아이엠어보이유어걸\",3)"
   ]
  },
  {
   "cell_type": "code",
   "execution_count": 59,
   "id": "b1e2f317-b33a-412c-b84b-75f8a53df2f7",
   "metadata": {},
   "outputs": [
    {
     "name": "stdout",
     "output_type": "stream",
     "text": [
      "1028438.0\n"
     ]
    }
   ],
   "source": [
    "#228\n",
    "def calc_monthly_salary(annual_pay) :\n",
    "    monthly_pay = annual_pay / 12\n",
    "    return monthly_pay\n",
    "res=calc_monthly_salary(12341256)\n",
    "print(res)"
   ]
  },
  {
   "cell_type": "code",
   "execution_count": 53,
   "id": "14107047-c68f-4f44-9d05-7301f66e39b5",
   "metadata": {},
   "outputs": [],
   "source": [
    "#229\n",
    "def my_print(a,b):\n",
    "    print(\"왼쪽\",a)\n",
    "    print(\"오른쪽\",b)\n",
    "    my_print(a=100, b=200)"
   ]
  },
  {
   "cell_type": "code",
   "execution_count": 54,
   "id": "96356b89-e8e5-4b11-b388-e42ba51e4af3",
   "metadata": {},
   "outputs": [],
   "source": [
    "#230\n",
    "def my_print(a,b):\n",
    "    print(\"왼쪽\",a)\n",
    "    print(\"오른쪽\",b)\n",
    "    my_print(b=100, a=200)"
   ]
  },
  {
   "cell_type": "code",
   "execution_count": 63,
   "id": "7a33c87f-de46-4141-8017-b464942015c3",
   "metadata": {},
   "outputs": [
    {
     "name": "stdout",
     "output_type": "stream",
     "text": [
      "4\n",
      "4\n"
     ]
    }
   ],
   "source": [
    "#231\n",
    "#전역변수(global variable)는 전체코드에서 전역의 영역안에서 사용가능하고\n",
    "#지역변수(local variable)은 선언한 함수 안에서만 사용가능하다\n",
    "def n_plus_1(n):\n",
    "    result=n+1\n",
    "    n_plus_1(3)\n",
    "    print(result)\n",
    "    \n",
    "# 위에껀 프린트가 불가능하니 밑에 수정해봄    \n",
    "\n",
    "def n_plus_1(n):\n",
    "    result=n+1\n",
    "    return result\n",
    "res =n_plus_1(3)\n",
    "print(res)\n",
    "\n",
    "#  or\n",
    "\n",
    "num =3 #전역변수\n",
    "\n",
    "def n_plus_1():\n",
    "    global num\n",
    "    result=num+1\n",
    "    return result\n",
    "\n",
    "def m_plus_2(n):\n",
    "    result=n+2\n",
    "    return result\n",
    "\n",
    "res=n_plus_1()\n",
    "print(res)\n"
   ]
  },
  {
   "cell_type": "code",
   "execution_count": 64,
   "id": "a0c8b4f7-edb4-403e-9d5a-23749f830bbd",
   "metadata": {},
   "outputs": [],
   "source": [
    "#232\n",
    "def make_url(string) :\n",
    "    return \"www.\" + string + \".com\""
   ]
  },
  {
   "cell_type": "code",
   "execution_count": 72,
   "id": "77eb1e73-381c-44ce-88bd-d12479badd46",
   "metadata": {},
   "outputs": [],
   "source": [
    "#233\n",
    "def make_list (string) :\n",
    "    return list(string)"
   ]
  },
  {
   "cell_type": "code",
   "execution_count": 66,
   "id": "b2019678-2fc4-4590-b898-0776e182d621",
   "metadata": {},
   "outputs": [],
   "source": [
    "#234\n",
    "def pickup_even(items):\n",
    "    result = []\n",
    "    for item in items:\n",
    "        if item % 2 == 0:\n",
    "            result.append(item)\n",
    "    return result"
   ]
  },
  {
   "cell_type": "code",
   "execution_count": 74,
   "id": "c6bd4d4d-a59e-478a-b90a-6e66dc5abc10",
   "metadata": {},
   "outputs": [],
   "source": [
    "#235\n",
    "def convert_int (string) :\n",
    "    return int(string.replace(',', '')) # ,를 제거하고 인트로 바꿈"
   ]
  },
  {
   "cell_type": "code",
   "execution_count": 75,
   "id": "ff821ba0-e06a-4e47-98d1-addfff3bcf76",
   "metadata": {},
   "outputs": [
    {
     "name": "stdout",
     "output_type": "stream",
     "text": [
      "22\n"
     ]
    }
   ],
   "source": [
    "#236\n",
    "def fun(num) : \n",
    "    return num + 4 \n",
    "a = fun(10) \n",
    "b = fun(a) \n",
    "c = fun(b) \n",
    "print(c) "
   ]
  },
  {
   "cell_type": "code",
   "execution_count": 81,
   "id": "5c429bc2-32de-45dc-bcff-3e519590b0a0",
   "metadata": {},
   "outputs": [
    {
     "name": "stdout",
     "output_type": "stream",
     "text": [
      "22\n"
     ]
    }
   ],
   "source": [
    "#237\n",
    "def fun(num) : \n",
    "    return num + 4 \n",
    "c = fun(fun(fun(10))) \n",
    "print(c) "
   ]
  },
  {
   "cell_type": "code",
   "execution_count": 80,
   "id": "2b82a3cd-e633-4564-847c-eed001b7e819",
   "metadata": {},
   "outputs": [
    {
     "name": "stdout",
     "output_type": "stream",
     "text": [
      "140\n"
     ]
    }
   ],
   "source": [
    "#238\n",
    "def fun1(num) : \n",
    "    return num + 4 \n",
    "def fun2(num) : \n",
    "    return num * 10 \n",
    "a = fun1(10) \n",
    "c = fun2(a) \n",
    "print(c) "
   ]
  },
  {
   "cell_type": "code",
   "execution_count": 83,
   "id": "cd7977a5-605a-46b0-857b-81f360375afb",
   "metadata": {},
   "outputs": [
    {
     "name": "stdout",
     "output_type": "stream",
     "text": [
      "16\n"
     ]
    }
   ],
   "source": [
    "#239\n",
    "def fun1(num) : \n",
    "    return num + 4 \n",
    "def fun2(num) : \n",
    "    num = num + 2 \n",
    "    return fun1(num) \n",
    "c = fun2(10) \n",
    "print(c)"
   ]
  },
  {
   "cell_type": "code",
   "execution_count": 84,
   "id": "be83f16f-b992-4837-9660-02ea8ec63a47",
   "metadata": {},
   "outputs": [
    {
     "name": "stdout",
     "output_type": "stream",
     "text": [
      "28\n"
     ]
    }
   ],
   "source": [
    "#240\n",
    "def fun0(num) : \n",
    "    return num * 2 \n",
    "def fun1(num) : \n",
    "    return fun0(num + 2) \n",
    "def fun2(num) : \n",
    "    num = num + 10 \n",
    "    return fun1(num) \n",
    "c = fun2(2) \n",
    "print(c)"
   ]
  },
  {
   "cell_type": "code",
   "execution_count": 87,
   "id": "c220794e-c4f4-42fe-965f-6957be3a4be4",
   "metadata": {},
   "outputs": [
    {
     "name": "stdout",
     "output_type": "stream",
     "text": [
      "2021-10-19 11:22:31.415475\n"
     ]
    }
   ],
   "source": [
    "#241\n",
    "import datetime\n",
    "now=datetime.datetime.now()\n",
    "print(now)"
   ]
  },
  {
   "cell_type": "code",
   "execution_count": 90,
   "id": "032e2972-03dc-41d9-9ff5-d782ab8640cc",
   "metadata": {},
   "outputs": [
    {
     "name": "stdout",
     "output_type": "stream",
     "text": [
      "2021-10-19 11:33:14.768618 <class 'datetime.datetime'>\n"
     ]
    }
   ],
   "source": [
    "#242\n",
    "import datetime\n",
    "now=datetime.datetime.now()\n",
    "print(now,type(now))"
   ]
  },
  {
   "cell_type": "code",
   "execution_count": 91,
   "id": "6a726e39-03ca-4e97-b944-88f3ab4886c5",
   "metadata": {},
   "outputs": [
    {
     "name": "stdout",
     "output_type": "stream",
     "text": [
      "2021-10-14 11:34:46.182243\n",
      "2021-10-15 11:34:46.182243\n",
      "2021-10-16 11:34:46.182243\n",
      "2021-10-17 11:34:46.182243\n",
      "2021-10-18 11:34:46.182243\n"
     ]
    }
   ],
   "source": [
    "#243\n",
    "import datetime\n",
    "now=datetime.datetime.now()\n",
    "for day in range(5, 0, -1):\n",
    "    delta = datetime.timedelta(days=day)\n",
    "    date = now - delta\n",
    "    print(date)"
   ]
  },
  {
   "cell_type": "code",
   "execution_count": 92,
   "id": "46774bfd-ed07-43f6-bb1a-4595dbcaeef3",
   "metadata": {},
   "outputs": [
    {
     "name": "stdout",
     "output_type": "stream",
     "text": [
      "11:35:09\n"
     ]
    }
   ],
   "source": [
    "#244\n",
    "import datetime\n",
    "now = datetime.datetime.now()\n",
    "print(now.strftime(\"%H:%M:%S\"))"
   ]
  },
  {
   "cell_type": "code",
   "execution_count": 99,
   "id": "e654990b-e356-47d4-82c8-4757eb3c7cda",
   "metadata": {},
   "outputs": [
    {
     "name": "stdout",
     "output_type": "stream",
     "text": [
      "2020-05-04 00:00:00 <class 'datetime.datetime'>\n"
     ]
    }
   ],
   "source": [
    "#245\n",
    "import datetime\n",
    "day = \"2020-05-04\"\n",
    "ret = datetime.datetime.strptime(day, \"%Y-%m-%d\")\n",
    "print(ret, type(ret))"
   ]
  },
  {
   "cell_type": "code",
   "execution_count": 1,
   "id": "77582470-dc9d-4513-8f1f-9bfe78230e70",
   "metadata": {},
   "outputs": [
    {
     "name": "stdout",
     "output_type": "stream",
     "text": [
      "2021-10-19 11:41:20.740790\n",
      "2021-10-19 11:41:21.748587\n",
      "2021-10-19 11:41:22.751474\n",
      "2021-10-19 11:41:23.767002\n",
      "2021-10-19 11:41:24.782599\n",
      "2021-10-19 11:41:25.798212\n",
      "2021-10-19 11:41:26.809608\n",
      "2021-10-19 11:41:27.816856\n",
      "2021-10-19 11:41:28.828154\n",
      "2021-10-19 11:41:29.833310\n",
      "2021-10-19 11:41:30.848837\n",
      "2021-10-19 11:41:31.849883\n",
      "2021-10-19 11:41:32.850501\n",
      "2021-10-19 11:41:33.865284\n",
      "2021-10-19 11:41:34.866297\n",
      "2021-10-19 11:41:35.881788\n",
      "2021-10-19 11:41:36.883748\n",
      "2021-10-19 11:41:37.898966\n",
      "2021-10-19 11:41:38.899323\n",
      "2021-10-19 11:41:39.914846\n",
      "2021-10-19 11:41:40.915850\n",
      "2021-10-19 11:41:41.916715\n",
      "2021-10-19 11:41:42.930826\n",
      "2021-10-19 11:41:43.932416\n",
      "2021-10-19 11:41:44.947944\n",
      "2021-10-19 11:41:45.950694\n",
      "2021-10-19 11:41:46.965241\n",
      "2021-10-19 11:41:47.965598\n",
      "2021-10-19 11:41:48.965842\n",
      "2021-10-19 11:41:49.967031\n",
      "2021-10-19 11:41:50.981329\n",
      "2021-10-19 11:41:51.982533\n",
      "2021-10-19 11:41:52.983454\n",
      "2021-10-19 11:41:53.997813\n",
      "2021-10-19 11:41:54.998087\n",
      "2021-10-19 11:41:56.013661\n",
      "2021-10-19 11:41:57.014913\n",
      "2021-10-19 11:41:58.015843\n",
      "2021-10-19 11:41:59.030229\n",
      "2021-10-19 11:42:00.039319\n",
      "2021-10-19 11:42:01.045112\n",
      "2021-10-19 11:42:02.060578\n",
      "2021-10-19 11:42:03.063176\n",
      "2021-10-19 11:42:04.072839\n",
      "2021-10-19 11:42:05.080690\n",
      "2021-10-19 11:42:06.093578\n",
      "2021-10-19 11:42:07.103401\n",
      "2021-10-19 11:42:08.103589\n",
      "2021-10-19 11:42:09.114894\n",
      "2021-10-19 11:42:10.130445\n",
      "2021-10-19 11:42:11.139249\n",
      "2021-10-19 11:42:12.149439\n",
      "2021-10-19 11:42:13.155240\n",
      "2021-10-19 11:42:14.165455\n",
      "2021-10-19 11:42:15.175873\n",
      "2021-10-19 11:42:16.186963\n",
      "2021-10-19 11:42:17.191195\n",
      "2021-10-19 11:42:18.193555\n",
      "2021-10-19 11:42:19.200037\n",
      "2021-10-19 11:42:20.202089\n",
      "2021-10-19 11:42:21.203108\n",
      "2021-10-19 11:42:22.215619\n",
      "2021-10-19 11:42:23.221074\n",
      "2021-10-19 11:42:24.229359\n",
      "2021-10-19 11:42:25.241024\n",
      "2021-10-19 11:42:26.255937\n",
      "2021-10-19 11:42:27.267380\n",
      "2021-10-19 11:42:28.294258\n",
      "2021-10-19 11:42:29.299550\n",
      "2021-10-19 11:42:30.304299\n",
      "2021-10-19 11:42:31.305090\n",
      "2021-10-19 11:42:32.312382\n",
      "2021-10-19 11:42:33.315179\n",
      "2021-10-19 11:42:34.318588\n",
      "2021-10-19 11:42:35.319964\n",
      "2021-10-19 11:42:36.334024\n",
      "2021-10-19 11:42:37.339404\n",
      "2021-10-19 11:42:38.342461\n",
      "2021-10-19 11:42:39.349437\n",
      "2021-10-19 11:42:40.350517\n",
      "2021-10-19 11:42:41.357946\n",
      "2021-10-19 11:42:42.358967\n",
      "2021-10-19 11:42:43.364478\n",
      "2021-10-19 11:42:44.366692\n",
      "2021-10-19 11:42:45.370871\n",
      "2021-10-19 11:42:46.373068\n",
      "2021-10-19 11:42:47.375630\n",
      "2021-10-19 11:42:48.380040\n",
      "2021-10-19 11:42:49.384293\n",
      "2021-10-19 11:42:50.387130\n",
      "2021-10-19 11:42:51.399603\n",
      "2021-10-19 11:42:52.404288\n",
      "2021-10-19 11:42:53.411620\n",
      "2021-10-19 11:42:54.418160\n",
      "2021-10-19 11:42:55.418331\n",
      "2021-10-19 11:42:56.420910\n",
      "2021-10-19 11:42:57.423885\n",
      "2021-10-19 11:42:58.435325\n",
      "2021-10-19 11:42:59.444016\n",
      "2021-10-19 11:43:00.452335\n",
      "2021-10-19 11:43:01.465851\n",
      "2021-10-19 11:43:02.470912\n",
      "2021-10-19 11:43:03.486015\n"
     ]
    },
    {
     "ename": "KeyboardInterrupt",
     "evalue": "",
     "output_type": "error",
     "traceback": [
      "\u001b[1;31m---------------------------------------------------------------------------\u001b[0m",
      "\u001b[1;31mKeyboardInterrupt\u001b[0m                         Traceback (most recent call last)",
      "\u001b[1;32m<ipython-input-1-0fb49a628f69>\u001b[0m in \u001b[0;36m<module>\u001b[1;34m\u001b[0m\n\u001b[0;32m      6\u001b[0m     \u001b[0mnow\u001b[0m \u001b[1;33m=\u001b[0m \u001b[0mdatetime\u001b[0m\u001b[1;33m.\u001b[0m\u001b[0mdatetime\u001b[0m\u001b[1;33m.\u001b[0m\u001b[0mnow\u001b[0m\u001b[1;33m(\u001b[0m\u001b[1;33m)\u001b[0m\u001b[1;33m\u001b[0m\u001b[1;33m\u001b[0m\u001b[0m\n\u001b[0;32m      7\u001b[0m     \u001b[0mprint\u001b[0m\u001b[1;33m(\u001b[0m\u001b[0mnow\u001b[0m\u001b[1;33m)\u001b[0m\u001b[1;33m\u001b[0m\u001b[1;33m\u001b[0m\u001b[0m\n\u001b[1;32m----> 8\u001b[1;33m     \u001b[0mtime\u001b[0m\u001b[1;33m.\u001b[0m\u001b[0msleep\u001b[0m\u001b[1;33m(\u001b[0m\u001b[1;36m1\u001b[0m\u001b[1;33m)\u001b[0m\u001b[1;33m\u001b[0m\u001b[1;33m\u001b[0m\u001b[0m\n\u001b[0m",
      "\u001b[1;31mKeyboardInterrupt\u001b[0m: "
     ]
    }
   ],
   "source": [
    "#246\n",
    "import time\n",
    "import datetime\n",
    "\n",
    "while True:\n",
    "    now = datetime.datetime.now()\n",
    "    print(now)\n",
    "    time.sleep(1)"
   ]
  },
  {
   "cell_type": "code",
   "execution_count": 2,
   "id": "7692801c-9c90-4c50-840f-6b976b9e2bc3",
   "metadata": {},
   "outputs": [
    {
     "name": "stdout",
     "output_type": "stream",
     "text": [
      "C:\\Users\\USER\\PProject <class 'str'>\n"
     ]
    }
   ],
   "source": [
    "#248\n",
    "import os\n",
    "ret = os.getcwd()\n",
    "print(ret, type(ret))"
   ]
  },
  {
   "cell_type": "code",
   "execution_count": null,
   "id": "dbffca01-3a2f-4293-810c-1f96be2919fc",
   "metadata": {},
   "outputs": [],
   "source": [
    "#250\n",
    "import numpy\n",
    "for i in numpy.arange(0, 5, 0.1):\n",
    "    print(i)"
   ]
  },
  {
   "cell_type": "code",
   "execution_count": 10,
   "id": "4212cf90-422d-4707-bff2-f750a82a2faa",
   "metadata": {},
   "outputs": [
    {
     "name": "stdout",
     "output_type": "stream",
     "text": [
      "나의 죽음을 알리지 말라\n"
     ]
    }
   ],
   "source": [
    "#252~259\n",
    "class Human:\n",
    "    def __init__(self,name,age,sex):\n",
    "        self.name=name\n",
    "        self.age= age\n",
    "        self.sex=sex\n",
    "        \n",
    "    def __del__(self):  #소멸자\n",
    "        print(\"나의 죽음을 알리지 말라\")\n",
    "        \n",
    "    def who(self):\n",
    "        print(\"이름: {}, 나이: {}, 성별: {}\".format(self.name,self.age,self.sex))\n",
    "    \n",
    "    def setInfo(self,name,age,sex):\n",
    "        self.name=name\n",
    "        self.age=age\n",
    "        self.sex=sex\n",
    "        \n",
    "areum=Human(\"아름\",25,\"여자\")\n",
    "del(areum)"
   ]
  },
  {
   "cell_type": "code",
   "execution_count": 11,
   "id": "107b664c-66a9-48fc-97b0-375de2e38c2a",
   "metadata": {},
   "outputs": [],
   "source": [
    "#261\n",
    "class Stock:\n",
    "    pass"
   ]
  },
  {
   "cell_type": "code",
   "execution_count": 14,
   "id": "b8bc6f92-d899-4e64-888e-31f446ccaa6d",
   "metadata": {},
   "outputs": [
    {
     "name": "stdout",
     "output_type": "stream",
     "text": [
      "삼성전자\n",
      "005930\n"
     ]
    }
   ],
   "source": [
    "#262\n",
    "class Stock:\n",
    "    def __init__(self,name,code):\n",
    "        self.name=name\n",
    "        self.code=code\n",
    "        \n",
    "ss = Stock(\"삼성전자\", \"005930\")   \n",
    "print(ss.name)\n",
    "print(ss.code)"
   ]
  },
  {
   "cell_type": "code",
   "execution_count": 24,
   "id": "381c18a7-3a49-4b71-93f3-eec21d08272d",
   "metadata": {},
   "outputs": [
    {
     "name": "stdout",
     "output_type": "stream",
     "text": [
      "None\n"
     ]
    }
   ],
   "source": [
    "#263\n",
    "class Stock:\n",
    "    def __init__(self,name,code):\n",
    "        self.name=name\n",
    "        self.code=code\n",
    "        \n",
    "    def set_name(self,name):\n",
    "        set_name=name\n",
    "        \n",
    "a = Stock(None, None) \n",
    "a.set_name(\"삼성전자\") \n",
    "print(a.name)"
   ]
  },
  {
   "cell_type": "code",
   "execution_count": 25,
   "id": "4ea39c3d-d4de-440d-baa1-9a357a2f9da1",
   "metadata": {},
   "outputs": [
    {
     "name": "stdout",
     "output_type": "stream",
     "text": [
      "None\n"
     ]
    }
   ],
   "source": [
    "#264\n",
    "class Stock:\n",
    "    def __init__(self,name,code):\n",
    "        self.name=name\n",
    "        self.code=code\n",
    "    \n",
    "    def set_name(self,name):\n",
    "        set_name=name\n",
    "        \n",
    "    def set_code(self,code):\n",
    "        set_code=code\n",
    "        \n",
    "a = Stock(None, None) \n",
    "a.set_code(\"005930\") \n",
    "print(a.code)"
   ]
  },
  {
   "cell_type": "code",
   "execution_count": 31,
   "id": "1c51da18-933a-4b2f-b30a-c63ce9450f58",
   "metadata": {},
   "outputs": [
    {
     "name": "stdout",
     "output_type": "stream",
     "text": [
      "삼성전자\n",
      "005930\n",
      "삼성전자\n",
      "005930\n"
     ]
    }
   ],
   "source": [
    "#265\n",
    "class Stock:\n",
    "    def __init__(self,name,code):\n",
    "        self.name=name\n",
    "        self.code=code\n",
    "        \n",
    "    def set_name(self,name):\n",
    "        set_name=name\n",
    "        \n",
    "    def set_code(self,code):\n",
    "        set_code=code\n",
    "        \n",
    "    def get_name(self):\n",
    "        return self.name\n",
    "        \n",
    "    def get_code(self):\n",
    "        return self.code\n",
    "        \n",
    "ss = Stock(\"삼성전자\", \"005930\") \n",
    "print(ss.name)\n",
    "print(ss.code)\n",
    "print(ss.get_name())\n",
    "print(ss.get_code())"
   ]
  },
  {
   "cell_type": "code",
   "execution_count": 39,
   "id": "a099e074-91a7-404b-9f18-41adbd59a5c7",
   "metadata": {},
   "outputs": [],
   "source": [
    "#266\n",
    "class Stock:\n",
    "    def __init__(self, name, code, per, pbr, 배당수익률):\n",
    "        self.name = name\n",
    "        self.code = code\n",
    "        self.per = per\n",
    "        self.pbr = pbr\n",
    "        self.배당수익률 = 배당수익률\n",
    "\n",
    "    def set_name(self, name):\n",
    "        self.name = name\n",
    "\n",
    "    def set_code(self, code):\n",
    "        self.code = code\n",
    "\n",
    "    def get_name(self):\n",
    "        return self.name\n",
    "\n",
    "    def get_code(self):\n",
    "        return self.code"
   ]
  },
  {
   "cell_type": "code",
   "execution_count": 40,
   "id": "e0737c53-a3bd-4fac-9426-34e2c3e46585",
   "metadata": {},
   "outputs": [
    {
     "name": "stdout",
     "output_type": "stream",
     "text": [
      "2.83\n"
     ]
    }
   ],
   "source": [
    "#267\n",
    "ss = Stock(\"삼성전자\", \"005930\", 15.79, 1.33, 2.83)\n",
    "print(ss.배당수익률)"
   ]
  },
  {
   "cell_type": "code",
   "execution_count": 41,
   "id": "fc74af06-a6cf-4ba1-8302-26094014cbf0",
   "metadata": {},
   "outputs": [],
   "source": [
    "#268\n",
    "class Stock:\n",
    "    def __init__(self, name, code, per, pbr, dividend):\n",
    "        self.name = name\n",
    "        self.code = code\n",
    "        self.per = per\n",
    "        self.pbr = pbr\n",
    "        self.dividend = dividend\n",
    "\n",
    "    def set_name(self, name):\n",
    "        self.name = name\n",
    "\n",
    "    def set_code(self, code):\n",
    "        self.code = code\n",
    "\n",
    "    def get_name(self):\n",
    "        return self.name\n",
    "\n",
    "    def get_code(self):\n",
    "        return self.code\n",
    "\n",
    "    def set_per(self, per):\n",
    "        self.per = per\n",
    "\n",
    "    def set_pbr(self, pbr):\n",
    "        self.pbr = pbr\n",
    "\n",
    "    def set_dividend(self, dividend):\n",
    "        self.dividend = dividend"
   ]
  },
  {
   "cell_type": "code",
   "execution_count": 43,
   "id": "1cd94060-f1c7-4c1b-98d2-6f1c469f88ee",
   "metadata": {},
   "outputs": [
    {
     "name": "stdout",
     "output_type": "stream",
     "text": [
      "12.75\n"
     ]
    }
   ],
   "source": [
    "#269\n",
    "ss = Stock(\"삼성전자\", \"005930\", 15.79, 1.33, 2.83)\n",
    "ss.set_per(12.75)\n",
    "print(ss.per)"
   ]
  },
  {
   "cell_type": "code",
   "execution_count": 45,
   "id": "b9bedd43-e463-4453-96b7-49cbcad0b23f",
   "metadata": {},
   "outputs": [
    {
     "name": "stdout",
     "output_type": "stream",
     "text": [
      "005930 15.79\n",
      "005380 8.7\n",
      "066570 317.34\n"
     ]
    }
   ],
   "source": [
    "#270\n",
    "list = []\n",
    "\n",
    "ss = Stock(\"삼성전자\", \"005930\", 15.79, 1.33, 2.83)\n",
    "hd = Stock(\"현대차\", \"005380\", 8.70, 0.35, 4.27)\n",
    "lg = Stock(\"LG전자\", \"066570\", 317.34, 0.69, 1.37)\n",
    "\n",
    "list.append(ss)\n",
    "list.append(hd)\n",
    "list.append(lg)\n",
    "\n",
    "for i in list:\n",
    "    print(i.code, i.per)        # i-> Stock 클래스의 객체를 바인딩하기 때문"
   ]
  },
  {
   "cell_type": "code",
   "execution_count": 46,
   "id": "99915365-3cff-41f6-8bf0-9604a8c4e104",
   "metadata": {},
   "outputs": [
    {
     "name": "stdout",
     "output_type": "stream",
     "text": [
      "김민수\n",
      "100\n",
      "SC은행\n",
      "322-95-473190\n"
     ]
    }
   ],
   "source": [
    "#271\n",
    "import random\n",
    "\n",
    "class Account:\n",
    "    def __init__(self, name, balance):\n",
    "        self.name = name\n",
    "        self.balance = balance\n",
    "        self.bank = \"SC은행\"\n",
    "        num1 = random.randint(0, 999)\n",
    "        num2 = random.randint(0, 99)\n",
    "        num3 = random.randint(0, 999999)\n",
    "\n",
    "        num1 = str(num1).zfill(3)      # 1 -> '1' -> '001'\n",
    "        num2 = str(num2).zfill(2)      # 1 -> '1' -> '01'\n",
    "        num3 = str(num3).zfill(6)      # 1 -> '1' -> '0000001'\n",
    "        self.account_number = num1 + '-' + num2 + '-' + num3  # 001-01-000001\n",
    "\n",
    "kim = Account(\"김민수\", 100)\n",
    "print(kim.name)\n",
    "print(kim.balance)\n",
    "print(kim.bank)\n",
    "print(kim.account_number)"
   ]
  },
  {
   "cell_type": "code",
   "execution_count": 48,
   "id": "d6628dfc-8310-4b0a-b4aa-0ee7c2d824c5",
   "metadata": {},
   "outputs": [
    {
     "name": "stdout",
     "output_type": "stream",
     "text": [
      "1\n",
      "2\n"
     ]
    }
   ],
   "source": [
    "#272\n",
    "import random\n",
    "\n",
    "class Account:\n",
    "    \n",
    "    account_count=0\n",
    "    \n",
    "    def __init__(self, name, balance):\n",
    "        self.name = name\n",
    "        self.balance = balance\n",
    "        self.bank = \"SC은행\"\n",
    "        num1 = random.randint(0, 999)\n",
    "        num2 = random.randint(0, 99)\n",
    "        num3 = random.randint(0, 999999)\n",
    "\n",
    "        num1 = str(num1).zfill(3)      # 1 -> '1' -> '001'\n",
    "        num2 = str(num2).zfill(2)      # 1 -> '1' -> '01'\n",
    "        num3 = str(num3).zfill(6)      # 1 -> '1' -> '0000001'\n",
    "        self.account_number = num1 + '-' + num2 + '-' + num3  # 001-01-000001\n",
    "        \n",
    "        Account.account_count+=1\n",
    "\n",
    "kim = Account(\"김민수\", 100)\n",
    "print(Account.account_count)\n",
    "lee=Account(\"이민수\",100)\n",
    "print(Account.account_count)"
   ]
  },
  {
   "cell_type": "code",
   "execution_count": 85,
   "id": "0c60599e-5214-4343-91f4-de7ba55e0f29",
   "metadata": {},
   "outputs": [
    {
     "name": "stdout",
     "output_type": "stream",
     "text": [
      "2\n",
      "1000\n"
     ]
    }
   ],
   "source": [
    "#281\n",
    "class Car:\n",
    "    def __init__(self, wheel,price):\n",
    "        self.wheel=wheel\n",
    "        self.price=price\n",
    "        \n",
    "    def info(self):\n",
    "        print(car.wheel)\n",
    "        print(car.price)\n",
    "        \n",
    "    def run(self):\n",
    "        print(\"자동차가 달린다\")\n",
    "        \n",
    "car=Car(2,1000)\n",
    "print(car.wheel)\n",
    "print(car.price)by=Bycycle(4,1000,'yes')"
   ]
  },
  {
   "cell_type": "code",
   "execution_count": 86,
   "id": "ef1a2932-2448-482b-9462-b1cd67686716",
   "metadata": {},
   "outputs": [
    {
     "name": "stdout",
     "output_type": "stream",
     "text": [
      "자동으로 달린다\n",
      "2\n",
      "1000\n"
     ]
    },
    {
     "ename": "AttributeError",
     "evalue": "'Car' object has no attribute 'auto'",
     "output_type": "error",
     "traceback": [
      "\u001b[1;31m---------------------------------------------------------------------------\u001b[0m",
      "\u001b[1;31mAttributeError\u001b[0m                            Traceback (most recent call last)",
      "\u001b[1;32m<ipython-input-86-cbf2048f3dc8>\u001b[0m in \u001b[0;36m<module>\u001b[1;34m\u001b[0m\n\u001b[0;32m     18\u001b[0m \u001b[0mby\u001b[0m\u001b[1;33m=\u001b[0m\u001b[0mBycycle\u001b[0m\u001b[1;33m(\u001b[0m\u001b[1;36m4\u001b[0m\u001b[1;33m,\u001b[0m\u001b[1;36m1000\u001b[0m\u001b[1;33m,\u001b[0m\u001b[1;34m'yes'\u001b[0m\u001b[1;33m)\u001b[0m\u001b[1;33m\u001b[0m\u001b[1;33m\u001b[0m\u001b[0m\n\u001b[0;32m     19\u001b[0m \u001b[0mby\u001b[0m\u001b[1;33m.\u001b[0m\u001b[0mrun\u001b[0m\u001b[1;33m(\u001b[0m\u001b[1;33m)\u001b[0m\u001b[1;33m\u001b[0m\u001b[1;33m\u001b[0m\u001b[0m\n\u001b[1;32m---> 20\u001b[1;33m \u001b[0mby\u001b[0m\u001b[1;33m.\u001b[0m\u001b[0minfo\u001b[0m\u001b[1;33m(\u001b[0m\u001b[1;33m)\u001b[0m\u001b[1;33m\u001b[0m\u001b[1;33m\u001b[0m\u001b[0m\n\u001b[0m\u001b[0;32m     21\u001b[0m \u001b[1;33m\u001b[0m\u001b[0m\n\u001b[0;32m     22\u001b[0m \u001b[0mby2\u001b[0m\u001b[1;33m=\u001b[0m\u001b[0mBycycle\u001b[0m\u001b[1;33m(\u001b[0m\u001b[1;36m4\u001b[0m\u001b[1;33m,\u001b[0m\u001b[1;36m1000\u001b[0m\u001b[1;33m,\u001b[0m\u001b[1;34m'no'\u001b[0m\u001b[1;33m)\u001b[0m\u001b[1;33m\u001b[0m\u001b[1;33m\u001b[0m\u001b[0m\n",
      "\u001b[1;32m<ipython-input-86-cbf2048f3dc8>\u001b[0m in \u001b[0;36minfo\u001b[1;34m(self)\u001b[0m\n\u001b[0;32m      8\u001b[0m         \u001b[0mprint\u001b[0m\u001b[1;33m(\u001b[0m\u001b[0mcar\u001b[0m\u001b[1;33m.\u001b[0m\u001b[0mwheel\u001b[0m\u001b[1;33m)\u001b[0m\u001b[1;33m\u001b[0m\u001b[1;33m\u001b[0m\u001b[0m\n\u001b[0;32m      9\u001b[0m         \u001b[0mprint\u001b[0m\u001b[1;33m(\u001b[0m\u001b[0mcar\u001b[0m\u001b[1;33m.\u001b[0m\u001b[0mprice\u001b[0m\u001b[1;33m)\u001b[0m\u001b[1;33m\u001b[0m\u001b[1;33m\u001b[0m\u001b[0m\n\u001b[1;32m---> 10\u001b[1;33m         \u001b[0mprint\u001b[0m\u001b[1;33m(\u001b[0m\u001b[0mcar\u001b[0m\u001b[1;33m.\u001b[0m\u001b[0mauto\u001b[0m\u001b[1;33m)\u001b[0m\u001b[1;33m\u001b[0m\u001b[1;33m\u001b[0m\u001b[0m\n\u001b[0m\u001b[0;32m     11\u001b[0m \u001b[1;33m\u001b[0m\u001b[0m\n\u001b[0;32m     12\u001b[0m     \u001b[1;32mdef\u001b[0m \u001b[0mrun\u001b[0m\u001b[1;33m(\u001b[0m\u001b[0mself\u001b[0m\u001b[1;33m)\u001b[0m\u001b[1;33m:\u001b[0m\u001b[1;33m\u001b[0m\u001b[1;33m\u001b[0m\u001b[0m\n",
      "\u001b[1;31mAttributeError\u001b[0m: 'Car' object has no attribute 'auto'"
     ]
    }
   ],
   "source": [
    "#285~290\n",
    "class Bycycle(Car):\n",
    "    def __init__(self, wheel,price,auto):\n",
    "        super().__init__(wheel,price)\n",
    "        self.auto=auto\n",
    "\n",
    "    def info(self): #오버라이딩\n",
    "        print(car.wheel)\n",
    "        print(car.price)\n",
    "        print(car.auto)\n",
    "        \n",
    "    def run(self):\n",
    "        if self.auto=='yes':\n",
    "            print('자동으로 달린다')\n",
    "        else:\n",
    "            print(\"수동으로 달린다\")\n",
    "        \n",
    "by=Bycycle(4,1000,'yes')\n",
    "by.run()\n",
    "by.info()\n",
    "\n",
    "by2=Bycycle(4,1000,'no')\n",
    "by2.run()"
   ]
  },
  {
   "cell_type": "code",
   "execution_count": null,
   "id": "c12c6dab-fd6c-4efb-b234-9a8dbe3203cf",
   "metadata": {},
   "outputs": [],
   "source": []
  }
 ],
 "metadata": {
  "kernelspec": {
   "display_name": "Python 3",
   "language": "python",
   "name": "python3"
  },
  "language_info": {
   "codemirror_mode": {
    "name": "ipython",
    "version": 3
   },
   "file_extension": ".py",
   "mimetype": "text/x-python",
   "name": "python",
   "nbconvert_exporter": "python",
   "pygments_lexer": "ipython3",
   "version": "3.8.8"
  }
 },
 "nbformat": 4,
 "nbformat_minor": 5
}
