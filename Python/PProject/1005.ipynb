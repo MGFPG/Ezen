{
 "cells": [
  {
   "cell_type": "code",
   "execution_count": null,
   "id": "cb0d0252-fc87-456a-b8d3-42ed11055202",
   "metadata": {},
   "outputs": [],
   "source": [
    "a = 100\n",
    "b = 200\n",
    "\n",
    "c = a + b #오른쪽 값을 (연산) 왼쪽으로 대입하는 대입연산자\n",
    "\n",
    "#예약어 : 파이썬 프로그램에서 전용으로 사용하는 리터럴(문자열..=>대소문자 구별.) True,Fasle,None,if,elif,continue\n",
    "#def,finally,else,for \n",
    "#에러가 발생: 컴파일시(소스코드를 기계어로 바꾸는 과정에서 발생), 또는 실행시(프로그램이 동작하는 과정에서 발생)\n",
    "#디버깅: 소스코드상에서 발생한 문법적오류를 수정하는 행위"
   ]
  },
  {
   "cell_type": "code",
   "execution_count": 2,
   "id": "482bf9a1-93b7-4491-a36c-2ad1b7d92338",
   "metadata": {},
   "outputs": [
    {
     "name": "stdout",
     "output_type": "stream",
     "text": [
      "hello\n"
     ]
    }
   ],
   "source": [
    "print('hello')"
   ]
  },
  {
   "cell_type": "code",
   "execution_count": 1,
   "id": "78a34134-e5ae-4cbe-b578-67c9f580eb13",
   "metadata": {},
   "outputs": [
    {
     "name": "stdin",
     "output_type": "stream",
     "text": [
      "데이터를 입력하세요: 12\n"
     ]
    },
    {
     "name": "stdout",
     "output_type": "stream",
     "text": [
      "입력받은 값은 12입니다.\n"
     ]
    }
   ],
   "source": [
    "s = input(\"데이터를 입력하세요:\")\n",
    "\n",
    "print(\"입력받은 값은 {}입니다.\".format(s))"
   ]
  },
  {
   "cell_type": "code",
   "execution_count": 1,
   "id": "3f62cbb3-525a-421f-bfa6-6c74400c3ecb",
   "metadata": {},
   "outputs": [
    {
     "name": "stdin",
     "output_type": "stream",
     "text": [
      "숫자를 입력하세요: 5\n",
      "숫자를 입력하세요: 6\n"
     ]
    },
    {
     "name": "stdout",
     "output_type": "stream",
     "text": [
      "11\n"
     ]
    }
   ],
   "source": [
    "def Add(a,b): #a,b 파라미터\n",
    "    c = a + b\n",
    "    return c\n",
    "\n",
    "\n",
    "a = input(\"숫자를 입력하세요:\")\n",
    "a = int(a)\n",
    "\n",
    "b = input(\"숫자를 입력하세요:\")\n",
    "b = int(b)\n",
    "\n",
    "c = Add(a,b)\n",
    "\n",
    "print(c)"
   ]
  },
  {
   "cell_type": "code",
   "execution_count": null,
   "id": "f13576fe-c91c-4161-ae69-a13303b588cd",
   "metadata": {},
   "outputs": [],
   "source": [
    "#함수를 만드는데 두 숫자를 입력받아서 더한다음 런턴값으로 보내는 함수를 작성하고 그 함수를 호출(call)해서 그 리턴값을\n",
    "#받아서 프로린트하게 하세요."
   ]
  },
  {
   "cell_type": "code",
   "execution_count": 25,
   "id": "9f2bea52-0f42-4c8e-9a3a-e3e99677d930",
   "metadata": {},
   "outputs": [
    {
     "name": "stdout",
     "output_type": "stream",
     "text": [
      "1\n"
     ]
    }
   ],
   "source": [
    "b = 3/2 #나눈값 1.5\n",
    "b = 3//2 #몫을 구하는것 결과 1\n",
    "b = 3%2 # 나머지를 구하는것 1\n",
    "\n",
    "print(b)"
   ]
  },
  {
   "cell_type": "code",
   "execution_count": 27,
   "id": "f9ce029a-f9bd-45de-80e1-5b0bd6d7d32c",
   "metadata": {},
   "outputs": [],
   "source": [
    "def Add(a,b): #a,b 파라미터\n",
    "    c = a + b\n",
    "    \n",
    "    return c\n",
    "    \n",
    "\n",
    "result = Add(1,2)"
   ]
  },
  {
   "cell_type": "code",
   "execution_count": 35,
   "id": "2ebe96cf-c4ca-4fbc-b7ee-863fbb1cc0af",
   "metadata": {},
   "outputs": [
    {
     "name": "stdout",
     "output_type": "stream",
     "text": [
      "a 1 ab -1 True\n",
      "1\n",
      "1 2\n",
      "<class 'str'>\n",
      "<class 'int'>\n"
     ]
    }
   ],
   "source": [
    "print('a',1,'ab',-1,True)\n",
    "\n",
    "a = 1\n",
    "b = a\n",
    "\n",
    "print(b)\n",
    "\n",
    "A = 1\n",
    "a = 2\n",
    "\n",
    "print(A,a)"
   ]
  },
  {
   "cell_type": "code",
   "execution_count": null,
   "id": "c3e556a9-a91f-4a2c-8326-5e2d84e96dbd",
   "metadata": {},
   "outputs": [],
   "source": [
    "#변수명의 구칙\n",
    "#1. 변수명은 영문 및 숫자만 허용합니다.\n",
    "#2. 변수명은 언더바(_)를 사용할 있습니다. - 특수문자는 허용하지 않습니다.\n",
    "#3.변수명1은 대소문자를 구분합니다.\n",
    "#4.변수명은 예약어를 사용할 수 없다."
   ]
  },
  {
   "cell_type": "code",
   "execution_count": 36,
   "id": "ce771454-08da-4d18-b204-f276f6e66443",
   "metadata": {},
   "outputs": [
    {
     "name": "stdout",
     "output_type": "stream",
     "text": [
      "<class 'str'>\n",
      "<class 'int'>\n"
     ]
    }
   ],
   "source": [
    "a = \"12\"\n",
    "print(   type(a)   )\n",
    "\n",
    "a = int(a)\n",
    "print(   type(a)   ) #type은 데이터 타입이 무엇인지를 알려주는 함수"
   ]
  },
  {
   "cell_type": "code",
   "execution_count": 39,
   "id": "9ca9a157-b9d6-4395-a2a5-0457684593a0",
   "metadata": {},
   "outputs": [
    {
     "name": "stdout",
     "output_type": "stream",
     "text": [
      "   1   \t   2  \"   '     \n"
     ]
    }
   ],
   "source": [
    "print(\"   1   \\t   2  \\\"   \\'     \")"
   ]
  },
  {
   "cell_type": "code",
   "execution_count": null,
   "id": "1b44239e-3c8b-4fa1-82be-9a64de83b1e7",
   "metadata": {},
   "outputs": [],
   "source": [
    "def Mul(a,b):\n",
    "        return a * b\n",
    "    \n",
    "c = Mul(1,2)    "
   ]
  },
  {
   "cell_type": "code",
   "execution_count": 50,
   "id": "9610a5d4-19e6-49d0-a52b-712091413be1",
   "metadata": {},
   "outputs": [
    {
     "name": "stdout",
     "output_type": "stream",
     "text": [
      "16\n"
     ]
    }
   ],
   "source": [
    "#복합 대입연산자  \n",
    "#int a = 0; #선언.... int,float : 정수,소수 => 데이터 타입....\n",
    "a = 0.0\n",
    "\n",
    "a = a + 3\n",
    "a += 3 # a = a + 3\n",
    "\n",
    "#+= , -= , *= , /= , //= , %= , **=  \n",
    "\n",
    "a = 2\n",
    "a = a**4 ; print(a)\n"
   ]
  },
  {
   "cell_type": "code",
   "execution_count": 53,
   "id": "0bb3ffb3-341e-4d6f-8a46-31609ea2a26c",
   "metadata": {},
   "outputs": [
    {
     "name": "stdout",
     "output_type": "stream",
     "text": [
      "average:30.0\n"
     ]
    }
   ],
   "source": [
    "def avg(korean,english,mathmatics):\n",
    "      \n",
    "    summery = korean + english + mathmatics\n",
    "    \n",
    "    average = summery/3\n",
    "    \n",
    "    return average\n",
    "\n",
    "average = avg(20,30,40)\n",
    "\n",
    "print(\"average:{}\".format(average))"
   ]
  },
  {
   "cell_type": "code",
   "execution_count": 54,
   "id": "3cb85391-7e63-4788-9c6e-9ee34eafedc3",
   "metadata": {},
   "outputs": [
    {
     "data": {
      "text/plain": [
       "True"
      ]
     },
     "execution_count": 54,
     "metadata": {},
     "output_type": "execute_result"
    }
   ],
   "source": [
    "#비교 연산자와 논리 연산자\n",
    "#비교 연산자는 어떤 것이 큰자, 작은지, 같은지를 비교하는 것으로 그 결과는 둘 중하나. Ture,False\n",
    "#비교 연산자는 단독으로 사용하는 경우가 거의 없으며, 조건문이나 반복문과 함께 사용합니다.\n",
    "\n",
    "100 < 200 #창이면 True, 거짓이면 False\n",
    "\n",
    "if 100<200:\n",
    "    \n",
    "while 100<200:\n",
    "    \n",
    "    \n",
    "#6가지 비교연산자.    \n",
    "== #같다.\n",
    "!= #같지 않다.\n",
    "> #왼쪽이 오른쪽보다 크다.\n",
    "< #작다\n",
    ">= #크거나 같다.\n",
    "<= #작거나 같다.\n",
    "\n",
    "\n",
    "\n",
    "    "
   ]
  }
 ],
 "metadata": {
  "kernelspec": {
   "display_name": "Python 3",
   "language": "python",
   "name": "python3"
  },
  "language_info": {
   "codemirror_mode": {
    "name": "ipython",
    "version": 3
   },
   "file_extension": ".py",
   "mimetype": "text/x-python",
   "name": "python",
   "nbconvert_exporter": "python",
   "pygments_lexer": "ipython3",
   "version": "3.8.8"
  }
 },
 "nbformat": 4,
 "nbformat_minor": 5
}
