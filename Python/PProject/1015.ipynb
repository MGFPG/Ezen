{
 "cells": [
  {
   "cell_type": "code",
   "execution_count": 2,
   "id": "fdbdc581-8249-4b3b-85f9-b88a9c90ca67",
   "metadata": {},
   "outputs": [
    {
     "name": "stdin",
     "output_type": "stream",
     "text": [
      "name: Assp\n"
     ]
    }
   ],
   "source": [
    "class Person:\n",
    "    def __init__(self,name,age,gender):\n",
    "        self.name=input('name:')\n",
    "        self.age=age\n",
    "        self.gender=gender\n",
    "        \n",
    "    def insert(self):\n",
    "        input('name')\n",
    "        \n",
    "p=Person('n',22,True)\n"
   ]
  },
  {
   "cell_type": "code",
   "execution_count": 1,
   "id": "e0d708e0-8e4e-46ea-b291-4a3faea788f6",
   "metadata": {},
   "outputs": [
    {
     "name": "stdout",
     "output_type": "stream",
     "text": [
      "Requirement already satisfied: openpyxl in c:\\users\\user\\anaconda3\\lib\\site-packages (3.0.7)\n",
      "Requirement already satisfied: et-xmlfile in c:\\users\\user\\anaconda3\\lib\\site-packages (from openpyxl) (1.0.1)\n",
      "Note: you may need to restart the kernel to use updated packages.\n"
     ]
    }
   ],
   "source": [
    "pip install openpyxl"
   ]
  },
  {
   "cell_type": "code",
   "execution_count": 2,
   "id": "2a971bad-a1fa-4de7-ac4a-5ce89f839778",
   "metadata": {},
   "outputs": [],
   "source": [
    "from openpyxl import workbook"
   ]
  },
  {
   "cell_type": "code",
   "execution_count": 5,
   "id": "4b3021f2-ddb9-467e-aa0d-789c2ac718bf",
   "metadata": {},
   "outputs": [
    {
     "name": "stdout",
     "output_type": "stream",
     "text": [
      "['michael.richard@nate.net']\n",
      "['thomas.james@gmarket.com']\n",
      "['john.richard@korea.com']\n",
      "['john.michael@gmarket.com']\n",
      "['john.michael@gmarket.com']\n",
      "['william.john@nate.net']\n",
      "['david.james@nate.net']\n",
      "['thomas.william@korea.com']\n",
      "['emily.abigail@naver.com']\n",
      "['emily.ava@daum.net']\n",
      "['isabella.madison@naver.com']\n",
      "['isabella.ava@daum.net']\n",
      "['mia.olivia@gmail.com']\n",
      "['olivia.mia@gmail.com']\n",
      "['madison.mia@gmail.com']\n",
      "['abigail.olivia@daum.net']\n",
      "['madison.olivia@naver.com']\n",
      "['poby13@nate.com']\n"
     ]
    }
   ],
   "source": [
    "import csv\n",
    "\n",
    "with open('user.csv', 'r') as f:\n",
    "    csvreader = csv.reader(f, delimiter=',')\n",
    "    \n",
    "    next(csvreader)\n",
    "\n",
    "    for row in csvreader:\n",
    "        print(row)"
   ]
  },
  {
   "cell_type": "code",
   "execution_count": 12,
   "id": "b2a0f196-fc88-4ff9-9092-da2c4af082da",
   "metadata": {
    "tags": []
   },
   "outputs": [],
   "source": [
    "my_list = [[1,2,3],[4,5,6],[7,8,9],[10,11,12]]\n",
    "\n",
    "with open('my_list.csv', 'w', newline='') as f:\n",
    "    csvwriter = csv.writer(f)\n",
    "    csvwriter.writerow(my_list)"
   ]
  },
  {
   "cell_type": "code",
   "execution_count": 1,
   "id": "a9af9472-575a-4b40-8787-682a42e36016",
   "metadata": {
    "tags": []
   },
   "outputs": [
    {
     "name": "stdout",
     "output_type": "stream",
     "text": [
      "Requirement already satisfied: openpyxl in c:\\users\\user\\anaconda3\\lib\\site-packages (3.0.7)\n",
      "Requirement already satisfied: et-xmlfile in c:\\users\\user\\anaconda3\\lib\\site-packages (from openpyxl) (1.0.1)\n",
      "Note: you may need to restart the kernel to use updated packages.\n"
     ]
    }
   ],
   "source": [
    "pip install openpyxl"
   ]
  },
  {
   "cell_type": "code",
   "execution_count": 15,
   "id": "628118ea-7338-4b26-b518-cdfc0d7c2351",
   "metadata": {},
   "outputs": [],
   "source": [
    "from openpyxl import Workbook\n",
    "\n",
    "search_domain ='naver.com'\n",
    "file_list=['member.csv','user.csv']\n",
    "\n",
    "def checkDomain(p1,p2):\n",
    "    #checkDomain('a.b@c.com','c.com')\n",
    "    #p1,p2는 문자열\n",
    "    list = p1.split('@')\n",
    "    id=list[0]\n",
    "    site=list[1]\n",
    "    \n",
    "    if site.find(p2) >-1:\n",
    "        #if site==p2:\n",
    "            return True\n",
    "    return False\n",
    "    \n",
    "def readfile(p1):\n",
    "    #fr =open('member.csv','r')\n",
    "    fr=open(p1,'r')\n",
    "        \n",
    "    while True:\n",
    "        #olivia.emily@daum.net\n",
    "        email = fr.readline()\n",
    "            \n",
    "        if not email:\n",
    "            break\n",
    "        #print(checkDomain(email,search_domain))    \n",
    "        if checkDomain(email,search_domain):\n",
    "            write_ws.append(email.split(' '))\n",
    "    fr.close()\n",
    "        \n",
    "write_wb=Workbook()\n",
    "write_ws=write_wb.active\n",
    "    \n",
    "for i in file_list:\n",
    "    readfile(i)\n",
    "write_wb.save('myfriend.xlsx')\n",
    "#readfile(file_list[1])"
   ]
  },
  {
   "cell_type": "code",
   "execution_count": 22,
   "id": "9835dc28-0626-458b-86b8-26d264bd0219",
   "metadata": {},
   "outputs": [],
   "source": [
    "class Parent:\n",
    "    def can_sing(self):\n",
    "        print('Sing a song')\n",
    "           "
   ]
  },
  {
   "cell_type": "code",
   "execution_count": 23,
   "id": "62a8acbf-c438-4fdc-a4a4-94e24d8f273e",
   "metadata": {},
   "outputs": [
    {
     "name": "stdout",
     "output_type": "stream",
     "text": [
      "Sing a song\n"
     ]
    }
   ],
   "source": [
    "father =Parent()\n",
    "father.can_sing()\n",
    "    "
   ]
  },
  {
   "cell_type": "code",
   "execution_count": 29,
   "id": "9b767c30-4ca6-4b25-a36b-d0893f83e014",
   "metadata": {},
   "outputs": [
    {
     "name": "stdout",
     "output_type": "stream",
     "text": [
      "Sing a song\n"
     ]
    }
   ],
   "source": [
    "class LuckyChild(Parent):  #상속받을 클래스 이름 입력\n",
    "    pass\n",
    "child1 =LuckyChild()\n",
    "child1.can_sing()"
   ]
  },
  {
   "cell_type": "code",
   "execution_count": 30,
   "id": "49126bbe-0ee8-478e-98b6-47f07e91bfb8",
   "metadata": {},
   "outputs": [],
   "source": [
    "class UnLuckyChild:\n",
    "        pass"
   ]
  },
  {
   "cell_type": "code",
   "execution_count": 34,
   "id": "a577ff7f-4a7b-4de2-af37-674812cbcd11",
   "metadata": {},
   "outputs": [
    {
     "ename": "AttributeError",
     "evalue": "'UnLuckyChild' object has no attribute 'can_sing'",
     "output_type": "error",
     "traceback": [
      "\u001b[1;31m---------------------------------------------------------------------------\u001b[0m",
      "\u001b[1;31mAttributeError\u001b[0m                            Traceback (most recent call last)",
      "\u001b[1;32m<ipython-input-34-0ff79be197d7>\u001b[0m in \u001b[0;36m<module>\u001b[1;34m\u001b[0m\n\u001b[0;32m      1\u001b[0m \u001b[1;31m#부모로 부터 상속 받지 못했음\u001b[0m\u001b[1;33m\u001b[0m\u001b[1;33m\u001b[0m\u001b[1;33m\u001b[0m\u001b[0m\n\u001b[0;32m      2\u001b[0m \u001b[0mchild2\u001b[0m\u001b[1;33m=\u001b[0m\u001b[0mUnLuckyChild\u001b[0m\u001b[1;33m(\u001b[0m\u001b[1;33m)\u001b[0m\u001b[1;33m\u001b[0m\u001b[1;33m\u001b[0m\u001b[0m\n\u001b[1;32m----> 3\u001b[1;33m \u001b[0mchild2\u001b[0m\u001b[1;33m.\u001b[0m\u001b[0mcan_sing\u001b[0m\u001b[1;33m(\u001b[0m\u001b[1;33m)\u001b[0m\u001b[1;33m\u001b[0m\u001b[1;33m\u001b[0m\u001b[0m\n\u001b[0m",
      "\u001b[1;31mAttributeError\u001b[0m: 'UnLuckyChild' object has no attribute 'can_sing'"
     ]
    }
   ],
   "source": [
    "#부모로 부터 상속 받지 못했음\n",
    "child2=UnLuckyChild()\n",
    "child2.can_sing()"
   ]
  },
  {
   "cell_type": "code",
   "execution_count": 54,
   "id": "19c51c42-ae47-4439-b0f9-353429625d44",
   "metadata": {},
   "outputs": [
    {
     "name": "stdout",
     "output_type": "stream",
     "text": [
      "6600.0\n",
      "33000\n"
     ]
    }
   ],
   "source": [
    "# Parent의 생성자는 재산과 자식수\n",
    "# inheritance()함수는 재산을 자식수로 나눈값을 리턴\n",
    "# 자식은 자신의 재신을 프린트\n",
    "\n",
    "class Parent:\n",
    "    def __init__(self,money,num):\n",
    "        self.money = money\n",
    "        self.num = num\n",
    "        \n",
    "    def inheritance(self):\n",
    "        return self.money / self.num\n",
    "\n",
    "class Child(Parent):\n",
    "    pass\n",
    "\n",
    "child1=Child(33000,5)\n",
    "mymoney=child1.inheritance()\n",
    "\n",
    "print(mymoney)\n",
    "\n",
    "print(child1.money)"
   ]
  },
  {
   "cell_type": "code",
   "execution_count": 55,
   "id": "9e3119f3-51ba-4521-9574-0576b513242b",
   "metadata": {},
   "outputs": [
    {
     "name": "stdout",
     "output_type": "stream",
     "text": [
      "[2, 4, 6, 8, 10, 12, 14]\n"
     ]
    }
   ],
   "source": [
    "aList = [1,2,3,4,5,6,7]\n",
    "pow2 = [2*x for x in aList]\n",
    "print(pow2)"
   ]
  },
  {
   "cell_type": "code",
   "execution_count": 56,
   "id": "c2fb2631-efff-4934-88ca-cfa3c688a8b3",
   "metadata": {},
   "outputs": [
    {
     "name": "stdout",
     "output_type": "stream",
     "text": [
      "zara\n"
     ]
    }
   ],
   "source": [
    "list1=['xyz','zara','PYnative']\n",
    "print(max(list1))"
   ]
  },
  {
   "cell_type": "code",
   "execution_count": 57,
   "id": "a21e2a1f-edd9-4bb7-a66e-80f3a6921ce9",
   "metadata": {},
   "outputs": [
    {
     "name": "stdout",
     "output_type": "stream",
     "text": [
      "Hello-Python\n"
     ]
    }
   ],
   "source": [
    "my_list=['Hello','Python']\n",
    "print('-'.join(my_list))"
   ]
  },
  {
   "cell_type": "code",
   "execution_count": 59,
   "id": "b39eeb91-0445-4913-8b6d-4cb2f3e26120",
   "metadata": {},
   "outputs": [
    {
     "name": "stdout",
     "output_type": "stream",
     "text": [
      "40\n",
      "[20, 30, 40]\n"
     ]
    }
   ],
   "source": [
    "sampleList=[10,20,30,40,50]\n",
    "print(sampleList[-2])\n",
    "print(sampleList[-4:-1])"
   ]
  },
  {
   "cell_type": "code",
   "execution_count": 60,
   "id": "06312a0c-d3d3-42ae-a737-abc5c63ac03a",
   "metadata": {},
   "outputs": [
    {
     "name": "stdout",
     "output_type": "stream",
     "text": [
      "[30, 40, 50]\n",
      "[10, 20, 30, 40]\n",
      "[40, 50, 60, 70, 80]\n"
     ]
    }
   ],
   "source": [
    "bList=[10,20,30,40,50,60,70,80]\n",
    "print(bList[2:5])\n",
    "print(bList[:4])\n",
    "print(bList[3:])"
   ]
  },
  {
   "cell_type": "code",
   "execution_count": 78,
   "id": "0bd8b8b2-474b-4028-9ac2-de49b0b72378",
   "metadata": {},
   "outputs": [
    {
     "name": "stdout",
     "output_type": "stream",
     "text": [
      "['a', 'b', 'c', 'd']\n",
      "['a', 'b', 'c', 'd']\n"
     ]
    }
   ],
   "source": [
    "cList=['a','b','c','d']\n",
    "\n",
    "newlist=cList.copy()\n",
    "print(newlist)\n",
    "\n",
    "newlist=list(cList)\n",
    "print(newlist)"
   ]
  },
  {
   "cell_type": "code",
   "execution_count": 69,
   "id": "c39acdaa-0580-47fb-9131-510f18658da4",
   "metadata": {},
   "outputs": [
    {
     "name": "stdout",
     "output_type": "stream",
     "text": [
      "Y\n",
      "16\n"
     ]
    }
   ],
   "source": [
    "dList=['PYnative',[4,8,12,16]]\n",
    "print(dList[0][1])\n",
    "print(dList[1][3])"
   ]
  },
  {
   "cell_type": "code",
   "execution_count": 70,
   "id": "237e2381-fcf2-4f2b-8374-fe8a1c02f705",
   "metadata": {},
   "outputs": [
    {
     "name": "stdout",
     "output_type": "stream",
     "text": [
      "[10, 20, 30, 40, 50, 60]\n",
      "[10, 20, 30, 40, 50, 60, 60]\n"
     ]
    }
   ],
   "source": [
    "samplelist=[10,20,30,40,50]\n",
    "\n",
    "samplelist.append(60)\n",
    "print(samplelist)\n",
    "\n",
    "samplelist.append(60)\n",
    "print(samplelist)"
   ]
  },
  {
   "cell_type": "code",
   "execution_count": 79,
   "id": "a272c7e3-3641-4daf-928f-a1e5a0488682",
   "metadata": {},
   "outputs": [
    {
     "name": "stdout",
     "output_type": "stream",
     "text": [
      "['a', 'b', 'c', 'd', 'e', 'f', 'g']\n",
      "None\n"
     ]
    }
   ],
   "source": [
    "listOne=['a','b','c','d']\n",
    "listTwo=['e','f','g']\n",
    "\n",
    "newList=listOne+listTwo\n",
    "print(newList)\n",
    "\n",
    "newList=listOne.extend(listTwo)\n",
    "print(newList)"
   ]
  },
  {
   "cell_type": "code",
   "execution_count": 80,
   "id": "ce489e5c-7563-47a7-ab60-9400f4a2e9a8",
   "metadata": {},
   "outputs": [
    {
     "name": "stdout",
     "output_type": "stream",
     "text": [
      "['Hello Dear', 'Hello Bye', 'Good Dear', 'Good Bye']\n"
     ]
    }
   ],
   "source": [
    "resList = [x+y for x in ['Hello ', 'Good '] for y in ['Dear', 'Bye']] \n",
    "\n",
    "print(resList)"
   ]
  },
  {
   "cell_type": "code",
   "execution_count": 81,
   "id": "bbe24e5d-04a8-4c66-8527-1ef1fd537ee2",
   "metadata": {},
   "outputs": [
    {
     "name": "stdout",
     "output_type": "stream",
     "text": [
      "10\n"
     ]
    }
   ],
   "source": [
    "l = [None] * 10 \n",
    "\n",
    "print(len(l))"
   ]
  },
  {
   "cell_type": "code",
   "execution_count": 82,
   "id": "7662b8ba-e39a-4fba-b2c8-d11f721e36c3",
   "metadata": {},
   "outputs": [
    {
     "name": "stdout",
     "output_type": "stream",
     "text": [
      "[4, 20, 24, 28]\n"
     ]
    }
   ],
   "source": [
    "aList = [4, 8, 12, 16] \n",
    "\n",
    "aList[1:4] = [20, 24, 28] \n",
    "\n",
    "print(aList)"
   ]
  },
  {
   "cell_type": "code",
   "execution_count": 83,
   "id": "33b8dcf0-b509-4d57-9a13-705a944b962b",
   "metadata": {},
   "outputs": [
    {
     "name": "stdout",
     "output_type": "stream",
     "text": [
      "[25, 10]\n"
     ]
    }
   ],
   "source": [
    "aList = [5, 10, 15, 25] \n",
    "\n",
    "print(aList[::-2])"
   ]
  },
  {
   "cell_type": "code",
   "execution_count": 84,
   "id": "bddbfdfb-d04b-4d37-9029-006063495d39",
   "metadata": {},
   "outputs": [
    {
     "name": "stdout",
     "output_type": "stream",
     "text": [
      "[]\n"
     ]
    }
   ],
   "source": [
    "sampleList = [10, 20, 30, 40] \n",
    "\n",
    "del sampleList[0:6] \n",
    "\n",
    "print(sampleList)"
   ]
  },
  {
   "cell_type": "code",
   "execution_count": 85,
   "id": "dc01572a-cc6e-4973-875f-52c655b3f4f9",
   "metadata": {},
   "outputs": [
    {
     "name": "stdout",
     "output_type": "stream",
     "text": [
      "[10, 20, 30, 40]\n",
      "[10, 20, 40]\n"
     ]
    }
   ],
   "source": [
    "sampleList = [10, 20, 30, 40, 50] \n",
    "\n",
    "sampleList.pop() \n",
    "\n",
    "print(sampleList) \n",
    "\n",
    "sampleList.pop(2) \n",
    "\n",
    "print(sampleList)"
   ]
  },
  {
   "cell_type": "code",
   "execution_count": 89,
   "id": "1f7ecb82-d31c-413c-bb13-efd4db5a29da",
   "metadata": {
    "tags": []
   },
   "outputs": [
    {
     "name": "stdout",
     "output_type": "stream",
     "text": [
      "Requirement already satisfied: matplotlib in c:\\users\\user\\anaconda3\\lib\\site-packages (3.3.4)\n",
      "Requirement already satisfied: numpy>=1.15 in c:\\users\\user\\anaconda3\\lib\\site-packages (from matplotlib) (1.20.1)\n",
      "Requirement already satisfied: pyparsing!=2.0.4,!=2.1.2,!=2.1.6,>=2.0.3 in c:\\users\\user\\anaconda3\\lib\\site-packages (from matplotlib) (2.4.7)\n",
      "Requirement already satisfied: kiwisolver>=1.0.1 in c:\\users\\user\\anaconda3\\lib\\site-packages (from matplotlib) (1.3.1)\n",
      "Requirement already satisfied: python-dateutil>=2.1 in c:\\users\\user\\anaconda3\\lib\\site-packages (from matplotlib) (2.8.1)\n",
      "Requirement already satisfied: cycler>=0.10 in c:\\users\\user\\anaconda3\\lib\\site-packages (from matplotlib) (0.10.0)\n",
      "Requirement already satisfied: pillow>=6.2.0 in c:\\users\\user\\anaconda3\\lib\\site-packages (from matplotlib) (8.2.0)\n",
      "Requirement already satisfied: six in c:\\users\\user\\anaconda3\\lib\\site-packages (from cycler>=0.10->matplotlib) (1.15.0)\n",
      "Note: you may need to restart the kernel to use updated packages.\n"
     ]
    }
   ],
   "source": [
    "pip install matplotlib"
   ]
  },
  {
   "cell_type": "code",
   "execution_count": 93,
   "id": "f74945e7-5eed-41aa-9177-9b59cdbf7b38",
   "metadata": {},
   "outputs": [
    {
     "data": {
      "image/png": "[encoded data removed]",
      "text/plain": [
       "<Figure size 432x288 with 1 Axes>"
      ]
     },
     "metadata": {
      "needs_background": "light"
     },
     "output_type": "display_data"
    }
   ],
   "source": [
    "import matplotlib.pyplot as plt    # as는 약어로 선언\n",
    "\n",
    "plt.plot([1, 2, 3, 4], [1, 4, 9, 16])\n",
    "\n",
    "plt.ylabel('y-label')\n",
    "plt.show()"
   ]
  },
  {
   "cell_type": "code",
   "execution_count": 134,
   "id": "8a4ec866-bb9c-4b31-928f-9da8bf036d71",
   "metadata": {},
   "outputs": [
    {
     "ename": "NameError",
     "evalue": "name 'y' is not defined",
     "output_type": "error",
     "traceback": [
      "\u001b[1;31m---------------------------------------------------------------------------\u001b[0m",
      "\u001b[1;31mNameError\u001b[0m                                 Traceback (most recent call last)",
      "\u001b[1;32m<ipython-input-134-c07bfff429b7>\u001b[0m in \u001b[0;36m<module>\u001b[1;34m\u001b[0m\n\u001b[0;32m     17\u001b[0m     \u001b[0mplt\u001b[0m\u001b[1;33m.\u001b[0m\u001b[0mshow\u001b[0m\u001b[1;33m(\u001b[0m\u001b[1;33m)\u001b[0m\u001b[1;33m\u001b[0m\u001b[1;33m\u001b[0m\u001b[0m\n\u001b[0;32m     18\u001b[0m \u001b[1;33m\u001b[0m\u001b[0m\n\u001b[1;32m---> 19\u001b[1;33m \u001b[0mformula\u001b[0m\u001b[1;33m(\u001b[0m\u001b[1;33m)\u001b[0m\u001b[1;33m\u001b[0m\u001b[1;33m\u001b[0m\u001b[0m\n\u001b[0m",
      "\u001b[1;32m<ipython-input-134-c07bfff429b7>\u001b[0m in \u001b[0;36mformula\u001b[1;34m()\u001b[0m\n\u001b[0;32m     12\u001b[0m \u001b[1;33m\u001b[0m\u001b[0m\n\u001b[0;32m     13\u001b[0m \u001b[1;33m\u001b[0m\u001b[0m\n\u001b[1;32m---> 14\u001b[1;33m     \u001b[0mplt\u001b[0m\u001b[1;33m.\u001b[0m\u001b[0mplot\u001b[0m\u001b[1;33m(\u001b[0m\u001b[0mx\u001b[0m\u001b[1;33m,\u001b[0m\u001b[0my\u001b[0m\u001b[1;33m)\u001b[0m\u001b[1;33m\u001b[0m\u001b[1;33m\u001b[0m\u001b[0m\n\u001b[0m\u001b[0;32m     15\u001b[0m     \u001b[0mplt\u001b[0m\u001b[1;33m.\u001b[0m\u001b[0mylabel\u001b[0m\u001b[1;33m(\u001b[0m\u001b[1;34m'y-label'\u001b[0m\u001b[1;33m)\u001b[0m\u001b[1;33m\u001b[0m\u001b[1;33m\u001b[0m\u001b[0m\n\u001b[0;32m     16\u001b[0m     \u001b[0mplt\u001b[0m\u001b[1;33m.\u001b[0m\u001b[0mxlabel\u001b[0m\u001b[1;33m(\u001b[0m\u001b[1;34m'x-label'\u001b[0m\u001b[1;33m)\u001b[0m\u001b[1;33m\u001b[0m\u001b[1;33m\u001b[0m\u001b[0m\n",
      "\u001b[1;31mNameError\u001b[0m: name 'y' is not defined"
     ]
    }
   ],
   "source": [
    "#x축은 1부터 10까지 y축은 x에 2를 곱하고 3을 더한 값을 그래프로 나타내라\n",
    "\n",
    "import matplotlib.pyplot as plt\n",
    "\n",
    "#x=[]\n",
    "#y=[]\n",
    "\n",
    "def formula():\n",
    "    x=list()\n",
    "    #x=[i for i in range(1,11)]\n",
    "    #y=[i*2 for i+3 in range]\n",
    "    \n",
    "    \n",
    "    plt.plot(x,y)\n",
    "    plt.ylabel('y-label')\n",
    "    plt.xlabel('x-label')\n",
    "    plt.show()\n",
    "    \n",
    "formula()"
   ]
  },
  {
   "cell_type": "code",
   "execution_count": 92,
   "id": "363db409-c9e1-4a40-bc34-946bf507dc2a",
   "metadata": {},
   "outputs": [
    {
     "name": "stdout",
     "output_type": "stream",
     "text": [
      "Requirement already satisfied: numpy in c:\\users\\user\\anaconda3\\lib\\site-packages (1.20.1)\n",
      "Note: you may need to restart the kernel to use updated packages.\n"
     ]
    }
   ],
   "source": [
    "pip install numpy"
   ]
  },
  {
   "cell_type": "code",
   "execution_count": 95,
   "id": "eb4a7baf-9a06-46b6-b761-32f770e722eb",
   "metadata": {},
   "outputs": [
    {
     "data": {
      "image/png": "[encoded data removed]",
      "text/plain": [
       "<Figure size 432x288 with 1 Axes>"
      ]
     },
     "metadata": {
      "needs_background": "light"
     },
     "output_type": "display_data"
    }
   ],
   "source": [
    "import matplotlib.pyplot as plt \n",
    "import numpy as np\n",
    "\n",
    "# 200ms 간격으로 균일하게 샘플된 시간\n",
    "t = np.arange(0., 5., 0.2)  # range는 파이썬 기본 제공, arange는 numpy에서 제공\n",
    "\n",
    "#빨간 대쉬, 파란 사각형, 녹색 삼각형\n",
    "plt.plot(t, t, 'r--', t, t**2, 'bs', t, t**3, 'g^')\n",
    "plt.show()"
   ]
  },
  {
   "cell_type": "code",
   "execution_count": 96,
   "id": "bceebbad-9ecf-4257-9527-559482f65aa5",
   "metadata": {},
   "outputs": [
    {
     "data": {
      "image/png": "[encoded data removed]",
      "text/plain": [
       "<Figure size 432x288 with 1 Axes>"
      ]
     },
     "metadata": {
      "needs_background": "light"
     },
     "output_type": "display_data"
    }
   ],
   "source": [
    "import matplotlib.pyplot as plt\n",
    "\n",
    "plt.plot([1,2,3,4],[1,4,9,16])\n",
    "plt.xlabel('x-label')\n",
    "plt.ylabel('y-label')\n",
    "plt.axis([0,5,0,20])\n",
    "plt.show()"
   ]
  },
  {
   "cell_type": "code",
   "execution_count": 99,
   "id": "74f307a7-c93a-4177-b227-39ab302fbd2b",
   "metadata": {},
   "outputs": [
    {
     "data": {
      "image/png": "[encoded data removed]",
      "text/plain": [
       "<Figure size 432x288 with 1 Axes>"
      ]
     },
     "metadata": {
      "needs_background": "light"
     },
     "output_type": "display_data"
    }
   ],
   "source": [
    "import matplotlib.pyplot as plt\n",
    "import numpy as np\n",
    "\n",
    "x = np.arange(3)\n",
    "years = ['2017', '2018', '2019']\n",
    "values = [100, 400, 900]\n",
    "\n",
    "plt.bar(x, values)\n",
    "plt.xticks(x, years)\n",
    "plt.show()"
   ]
  },
  {
   "cell_type": "code",
   "execution_count": 142,
   "id": "9990d91c-8147-49f1-a482-2d972115fa6f",
   "metadata": {},
   "outputs": [
    {
     "name": "stdout",
     "output_type": "stream",
     "text": [
      "['2020년11월', '209,688', '101,023', '108,665']\n",
      "209688\n",
      "['2020년12월', '209,157', '100,700', '108,457']\n",
      "209157\n",
      "['2021년01월', '208,900', '100,563', '108,337']\n",
      "208900\n",
      "['2021년02월', '208,743', '100,450', '108,293']\n",
      "208743\n",
      "['2021년03월', '207,419', '99,948', '107,471']\n",
      "207419\n",
      "['2021년04월', '206,979', '99,693', '107,286']\n",
      "206979\n",
      "['2021년05월', '206,547', '99,464', '107,083']\n",
      "206547\n",
      "['2021년06월', '206,239', '99,280', '106,959']\n",
      "206239\n",
      "['2021년07월', '205,936', '99,089', '106,847']\n",
      "205936\n",
      "['2021년08월', '205,700', '99,010', '106,690']\n",
      "205700\n",
      "['2021년09월', '205,676', '99,000', '106,676']\n",
      "205676\n",
      "<class 'list'>\n",
      "[9688, 9157, 8900, 8743, 7419, 6979, 6547, 6239, 5936, 5700, 5676]\n"
     ]
    },
    {
     "data": {
      "image/png": "[encoded data removed]",
      "text/plain": [
       "<Figure size 432x288 with 1 Axes>"
      ]
     },
     "metadata": {
      "needs_background": "light"
     },
     "output_type": "display_data"
    }
   ],
   "source": [
    "# 1990년~2020년까지 우리나라의 인구증가를 그래프로 나타내자\n",
    "# 막대그래프로 나타내라\n",
    "\n",
    "import numpy as np\n",
    "import csv\n",
    "\n",
    "people=[]\n",
    "data=[]\n",
    "count = 0\n",
    "keys=[]\n",
    "values=[]\n",
    "with open('people.csv', 'r') as f:\n",
    "    csvreader = csv.reader(f, delimiter=',')\n",
    "\n",
    "    # 헤더(컬럼명) 건너뛰고 싶을 때\n",
    "    next(csvreader)\n",
    "\n",
    "    for row in csvreader:\n",
    "        people.append(row)\n",
    "        print(row)\n",
    "        data.append(row)\n",
    "        count +=1\n",
    "        \n",
    "        keys.append(row[0][5:7])\n",
    "        \n",
    "        k=row[1].replace(\"'\",\"\")\n",
    "        k=k.replace(\",\",\"\")\n",
    "        print(k)\n",
    "        #row[1].replace(\",'\",\"\")\n",
    "        values.append(int(k)-200000)\n",
    "    \n",
    "        #print(values)\n",
    "        \n",
    "print(type(keys))        \n",
    "\n",
    "x = np.arange(count)\n",
    "\n",
    "print(values)\n",
    "plt.bar(x, values)\n",
    "plt.xticks(x,keys)\n",
    "plt.show() "
   ]
  }
 ],
 "metadata": {
  "kernelspec": {
   "display_name": "Python 3",
   "language": "python",
   "name": "python3"
  },
  "language_info": {
   "codemirror_mode": {
    "name": "ipython",
    "version": 3
   },
   "file_extension": ".py",
   "mimetype": "text/x-python",
   "name": "python",
   "nbconvert_exporter": "python",
   "pygments_lexer": "ipython3",
   "version": "3.8.8"
  }
 },
 "nbformat": 4,
 "nbformat_minor": 5
}
